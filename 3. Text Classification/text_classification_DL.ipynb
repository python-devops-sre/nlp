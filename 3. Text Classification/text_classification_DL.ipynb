{
  "cells": [
    {
      "attachments": {},
      "cell_type": "markdown",
      "metadata": {
        "id": "UMqBL77hMXP2"
      },
      "source": [
        "# Text classification pipeline using Deep Learning\n",
        "\n",
        "<a target=\"_blank\" href=\"https://colab.research.google.com/github/PacktPublishing/Mastering-NLP-from-Foundations-to-LLMs/blob/liors_branch/Chapter6_notebooks/Ch6_Text_Classification_DL.ipynb\">\n",
        "  <img src=\"https://colab.research.google.com/assets/colab-badge.svg\" alt=\"Open In Colab\"/>\n",
        "</a>"
      ]
    },
    {
      "attachments": {},
      "cell_type": "markdown",
      "metadata": {
        "id": "GoCA7atEspTg"
      },
      "source": [
        "**Objective: Processing conclusions of medical publication and inferring whether the conclusion represents an advice or not.**\n",
        "Based on Chapter 6, this notebook demonstrates a complete, end-to-end system design of a Deep Learning binary classifier.  \n",
        "Given a text observation, the classifier with infer whether the content of the text is a medical advice or not.  \n",
        "\n",
        "## The pipeline consists of:  \n",
        "1. Code settings  \n",
        "1. Gathering the data  \n",
        "1. Processing the data\n",
        "1. Prerocessing\n",
        "1. Preliminary data exploration  \n",
        "1. Feature engineering  \n",
        "1. Exploring the new numerical features\n",
        "1. Split to Train/Test\n",
        "1. Preliminary statistical analysis and feasibility study\n",
        "1. Feature selection\n",
        "1. Machine Learning  \n",
        " 11.1 Iterate over ML models  \n",
        " 11.2 Generate the chosen model  \n",
        " 11.3 Generating the train results  \n",
        " 11.4 Generating the test results  \n",
        "1. Deep Learning  \n",
        " 12.1 Formatting our data  \n",
        " 12.2 Training our LM  \n",
        "    12.2.1 Training hyperparameters  \n",
        "    12.2.2 Evaluation metric  \n",
        "    12.2.3 Trainer object  \n",
        "    12.2.4 Fine tuning  \n",
        "    12.2.5 Conclusion about training length  \n",
        "    12.2.6 Generating the train results   \n",
        "    12.2.7 Generating the test results   \n",
        "\n",
        "*Remark:  \n",
        "This is a complete ML pipeline that is designed to be fully inclusive in a single notebook file. This is meant to be an instruction tool. In a professional dev environment, the design should be distributed across reproducible `.py` files for reproducibility and efficiency.  \n",
        "\n",
        "## The Data:\n",
        "A data set from [Hugging Face:\n",
        "medical_meadow_health_advice](https://huggingface.co/datasets/medalpaca/medical_meadow_health_advice):   \n",
        ">>\n",
        "\"This dataset holds thousands of text observation which are conclusion of medical publications. Each conclusion is annotated as to whether it represents an advice or not.\"  \n",
        "\n",
        "**Requirements:**  \n",
        "* When running in Colab, use this runtime notebook setting: `Python 3, T4 GPU`  "
      ]
    },
    {
      "attachments": {},
      "cell_type": "markdown",
      "metadata": {
        "id": "g54Uf66Vz9Fi"
      },
      "source": [
        ">*```Disclaimer: The content and ideas presented in this notebook are solely those of the authors and do not represent the views or intellectual property of the authors' employers.```*"
      ]
    },
    {
      "attachments": {},
      "cell_type": "markdown",
      "metadata": {
        "id": "uJ1LYgXOpDJ6"
      },
      "source": [
        "Install:"
      ]
    },
    {
      "cell_type": "code",
      "execution_count": 1,
      "metadata": {
        "colab": {
          "base_uri": "https://localhost:8080/"
        },
        "id": "kO5KM7JCpDUP",
        "outputId": "03009d08-52fb-49e7-e904-df42b75b6c4c"
      },
      "outputs": [],
      "source": [
        "# REMARK:\n",
        "# If the below code error's out due to a Python package discrepency, it may be because new versions are causing it.\n",
        "# In which case, set \"default_installations\" to False to revert to the original image:\n",
        "default_installations = True\n",
        "if default_installations:\n",
        "    !pip -q install transformers datasets num2words autocorrect accelerate evaluate\n",
        "else:\n",
        "    import requests\n",
        "    text_file_path = \"text_classification.txt\"\n",
        "    url = \"https://raw.githubusercontent.com/python-devops-sre/nlp/master/requirements/\" + text_file_path           \n",
        "    res = requests.get(url)\n",
        "    with open(text_file_path, \"w\") as f:\n",
        "      f.write(res.text)\n",
        "\n",
        "    !pip install -r text_classification.txt"
      ]
    },
    {
      "attachments": {},
      "cell_type": "markdown",
      "metadata": {
        "id": "S_--320f-8Yi"
      },
      "source": [
        "Imports:"
      ]
    },
    {
      "cell_type": "code",
      "execution_count": 2,
      "metadata": {
        "colab": {
          "base_uri": "https://localhost:8080/"
        },
        "id": "E0zHJoN61Zu5",
        "outputId": "9464f3e2-4ac5-4d84-b06a-dc6a4ff23f67"
      },
      "outputs": [
        {
          "name": "stderr",
          "output_type": "stream",
          "text": [
            "[nltk_data] Downloading package punkt to\n",
            "[nltk_data]     C:\\Users\\laven\\AppData\\Roaming\\nltk_data...\n",
            "[nltk_data]   Package punkt is already up-to-date!\n",
            "[nltk_data] Downloading package stopwords to\n",
            "[nltk_data]     C:\\Users\\laven\\AppData\\Roaming\\nltk_data...\n",
            "[nltk_data]   Package stopwords is already up-to-date!\n",
            "[nltk_data] Downloading package wordnet to\n",
            "[nltk_data]     C:\\Users\\laven\\AppData\\Roaming\\nltk_data...\n",
            "[nltk_data]   Package wordnet is already up-to-date!\n"
          ]
        }
      ],
      "source": [
        "import numpy as np\n",
        "import pandas as pd\n",
        "import matplotlib\n",
        "import scipy\n",
        "import re\n",
        "from datasets import load_dataset, Dataset\n",
        "\n",
        "from num2words import num2words\n",
        "import nltk; nltk.download('punkt'); nltk.download('stopwords'); nltk.download('wordnet')\n",
        "from nltk.corpus import stopwords\n",
        "from nltk.stem.porter import PorterStemmer\n",
        "from nltk.stem import WordNetLemmatizer\n",
        "from autocorrect import Speller\n",
        "\n",
        "# ML imports:\n",
        "from sklearn.feature_extraction.text import TfidfVectorizer,CountVectorizer\n",
        "from sklearn.model_selection import cross_val_score, GridSearchCV, StratifiedKFold\n",
        "import sklearn.linear_model as lm\n",
        "from sklearn.ensemble import RandomForestClassifier\n",
        "from sklearn.neighbors import KNeighborsClassifier\n",
        "from sklearn.svm import SVC\n",
        "from sklearn.tree import DecisionTreeClassifier\n",
        "from sklearn.metrics import classification_report\n",
        "from sklearn.metrics import confusion_matrix\n",
        "\n",
        "# DL imports:\n",
        "from transformers import AutoTokenizer, TrainingArguments, Trainer\n",
        "from torch.utils.data import DataLoader\n",
        "import evaluate"
      ]
    },
    {
      "attachments": {},
      "cell_type": "markdown",
      "metadata": {
        "id": "Ql6clhha--CD"
      },
      "source": [
        "### Code Settings\n"
      ]
    },
    {
      "cell_type": "code",
      "execution_count": 3,
      "metadata": {
        "id": "02lniQAu-6ou"
      },
      "outputs": [],
      "source": [
        "# Items:\n",
        "# source_of_dataset: Whether to load the dataset from the package, or from a URL (for the particular dataset in this notebook, both options are available)\n",
        "# json_url: The url for the dataset's .json file\n",
        "# db_name: The db name from HuggingFace that holds the raw data\n",
        "# do_preprocessing: Logical, should preprocessing be performed\n",
        "# do_enhanced_preprocessing: Logical, should the computation-heavy preprocessing be performed\n",
        "# do_feature_eng: Logical\n",
        "# maximize_a_priori: Logocal, should the univariate preliminary feature selection be based on a priori or a postiori stats\n",
        "# num_chosen_features_per_class: Int, for the preliminary feature selection, how many features should be selected per class\n",
        "# test_size: ratio between 0 - 1\n",
        "# feature_eng_details: Either \"TfidfVectorizer\" (for TFIDF feature eng.) or \"CountVectorizer\" (for one hot encoding)\n",
        "# seed: Integer, the random seed used to insure reproducibility of results\n",
        "config_dict = {'source_of_dataset': \"json\",\n",
        "               'json_url': \"https://huggingface.co/datasets/medalpaca/medical_meadow_health_advice/raw/main/medical_meadow_health_advice.json\",\n",
        "               'db_name': \"medalpaca/medical_meadow_health_advice\",\n",
        "               'do_preprocessing': True,\n",
        "               'do_enhanced_preprocessing': False,\n",
        "               'do_feature_eng': True,\n",
        "               'maximize_a_priori': False,\n",
        "               'num_chosen_features_per_class': 200,\n",
        "               'test_size': 0.25,\n",
        "               'feature_eng_details': \"CountVectorizer-binary\",\n",
        "               'ngram_range_min': 1,\n",
        "               'ngram_range_max': 3,\n",
        "               'max_features': 1000,\n",
        "               'seed': 0}\n",
        "\n",
        "# Deep learning training parameters:\n",
        "# See description of input parameters in documentation for transformers.TrainingArguments.\n",
        "lm_training_args = TrainingArguments(\n",
        "    output_dir=\"test_trainer\",\n",
        "    num_train_epochs=2,\n",
        "    per_device_train_batch_size=8,\n",
        "    learning_rate=2e-5,\n",
        "    evaluation_strategy=\"steps\",\n",
        "    logging_steps=100,)\n",
        "\n",
        "layers_to_fine_tune = None\n",
        "\n",
        "pd.set_option('display.max_colwidth', None)\n",
        "pd.set_option('display.max_rows', None)"
      ]
    },
    {
      "attachments": {},
      "cell_type": "markdown",
      "metadata": {
        "id": "3d6x7m9s_eh0"
      },
      "source": [
        "### Gathering the Data"
      ]
    },
    {
      "cell_type": "code",
      "execution_count": 4,
      "metadata": {
        "id": "iJd1W79I4JmR"
      },
      "outputs": [],
      "source": [
        "# Taking the dataset either via the datasets package or directly from a URL:\n",
        "if config_dict[\"source_of_dataset\"] == \"datasets package\":\n",
        "  dataset_raw = load_dataset(config_dict[\"db_name\"])\n",
        "  dataset_df = pd.DataFrame(dataset_raw[\"train\"])\n",
        "elif config_dict[\"source_of_dataset\"] == \"json\":\n",
        "  # For this particualr dataset, the owners posted a .json file to accomodate the dataset:\n",
        "  dataset_df = pd.read_json(config_dict[\"json_url\"])"
      ]
    },
    {
      "attachments": {},
      "cell_type": "markdown",
      "metadata": {
        "id": "utLjs7A60MSQ"
      },
      "source": [
        "### Processing the Data\n"
      ]
    },
    {
      "cell_type": "code",
      "execution_count": 5,
      "metadata": {
        "id": "LVrk7NItpMmv"
      },
      "outputs": [],
      "source": [
        "dataset_df[\"_label_\"] = dataset_df[\"output\"]\n",
        "dataset_df[\"text\"] = dataset_df[\"input\"]\n",
        "dataset_df = dataset_df[[\"text\", \"_label_\"]]"
      ]
    },
    {
      "attachments": {},
      "cell_type": "markdown",
      "metadata": {
        "id": "gOo5mBx004k7"
      },
      "source": [
        "Let's have a quick look at the raw data:  "
      ]
    },
    {
      "cell_type": "code",
      "execution_count": 6,
      "metadata": {
        "colab": {
          "base_uri": "https://localhost:8080/",
          "height": 244
        },
        "id": "L5wF9r9A04uA",
        "outputId": "fbdb74ee-4b74-471f-8e29-3a8074313382"
      },
      "outputs": [
        {
          "data": {
            "text/html": [
              "<style type=\"text/css\">\n",
              "#T_35d58_row0_col0, #T_35d58_row0_col1, #T_35d58_row1_col0, #T_35d58_row1_col1, #T_35d58_row2_col0, #T_35d58_row2_col1, #T_35d58_row3_col0, #T_35d58_row3_col1 {\n",
              "  text-align: left;\n",
              "}\n",
              "</style>\n",
              "<table id=\"T_35d58\">\n",
              "  <thead>\n",
              "    <tr>\n",
              "      <th class=\"blank level0\" >&nbsp;</th>\n",
              "      <th id=\"T_35d58_level0_col0\" class=\"col_heading level0 col0\" >text</th>\n",
              "      <th id=\"T_35d58_level0_col1\" class=\"col_heading level0 col1\" >_label_</th>\n",
              "    </tr>\n",
              "  </thead>\n",
              "  <tbody>\n",
              "    <tr>\n",
              "      <th id=\"T_35d58_level0_row0\" class=\"row_heading level0 row0\" >0</th>\n",
              "      <td id=\"T_35d58_row0_col0\" class=\"data row0 col0\" >As we have previously shown an additional effect of vibrating insoles on improving static balance [3–5], it is possible that the combined effect on balance and gait will have a greater impact on falls and mobility than our data would imply. </td>\n",
              "      <td id=\"T_35d58_row0_col1\" class=\"data row0 col1\" >This is no advice</td>\n",
              "    </tr>\n",
              "    <tr>\n",
              "      <th id=\"T_35d58_level0_row1\" class=\"row_heading level0 row1\" >1</th>\n",
              "      <td id=\"T_35d58_row1_col0\" class=\"data row1 col0\" >Furthermore, gut microbiota analysis in mice treated with hypolipidemic drugs revealed a modification in composition in favor of probiotic-type bacteria from Lactobacillus spp. [49]. </td>\n",
              "      <td id=\"T_35d58_row1_col1\" class=\"data row1 col1\" >This is no advice</td>\n",
              "    </tr>\n",
              "    <tr>\n",
              "      <th id=\"T_35d58_level0_row2\" class=\"row_heading level0 row2\" >2</th>\n",
              "      <td id=\"T_35d58_row2_col0\" class=\"data row2 col0\" >Further research is recommended that may be helpful in establishing the direction of the association. </td>\n",
              "      <td id=\"T_35d58_row2_col1\" class=\"data row2 col1\" >This is no advice</td>\n",
              "    </tr>\n",
              "    <tr>\n",
              "      <th id=\"T_35d58_level0_row3\" class=\"row_heading level0 row3\" >3</th>\n",
              "      <td id=\"T_35d58_row3_col0\" class=\"data row3 col0\" >Further study will be necessary to test if postnatal intervention can effectively promote neurodevelopmental outcomes for healthy infants with below-average white matter development at birth. </td>\n",
              "      <td id=\"T_35d58_row3_col1\" class=\"data row3 col1\" >This is no advice</td>\n",
              "    </tr>\n",
              "  </tbody>\n",
              "</table>\n"
            ],
            "text/plain": [
              "<pandas.io.formats.style.Styler at 0x198d0743ec0>"
            ]
          },
          "execution_count": 6,
          "metadata": {},
          "output_type": "execute_result"
        }
      ],
      "source": [
        "dataset_df.head(4).style.set_properties(**{'text-align': 'left'})"
      ]
    },
    {
      "cell_type": "code",
      "execution_count": 7,
      "metadata": {
        "colab": {
          "base_uri": "https://localhost:8080/"
        },
        "id": "pZ7hseIDJbX0",
        "outputId": "d7bc6699-3f12-44fa-b296-7ce0764975b5"
      },
      "outputs": [
        {
          "name": "stdout",
          "output_type": "stream",
          "text": [
            "Distribution of original labels:\n",
            "\n"
          ]
        },
        {
          "data": {
            "text/plain": [
              "_label_                \n",
              "This is no advice          6477\n",
              "This is a weak advice      1338\n",
              "This is a strong advice     861\n",
              "Name: count, dtype: int64"
            ]
          },
          "execution_count": 7,
          "metadata": {},
          "output_type": "execute_result"
        }
      ],
      "source": [
        "print(\"Distribution of original labels:\\n\")\n",
        "\n",
        "dataset_df[[\"_label_\"]].value_counts()"
      ]
    },
    {
      "attachments": {},
      "cell_type": "markdown",
      "metadata": {
        "id": "uJIfEYzYzzC4"
      },
      "source": [
        "While one could train a multi-class classification model that would diffrentiate between all 3 labels, we will reduce this to to being a binary classification problem.  \n",
        "We are going to unite the two labels that indicate an advice so to have a binary decision: Whether a text represents and advice or not.  \n",
        "So we are going to re-label:  \n",
        ">>\n",
        "Label 0: **Not** an advice    \n",
        "Label 1: An advice\n",
        "\n",
        "So now the classification problem is a binary classification problem.  "
      ]
    },
    {
      "attachments": {},
      "cell_type": "markdown",
      "metadata": {
        "id": "AP7MrOXQ8Vas"
      },
      "source": [
        "#### Picking the class to be targeted"
      ]
    },
    {
      "cell_type": "code",
      "execution_count": 8,
      "metadata": {
        "id": "pbe_tsjmzzMX"
      },
      "outputs": [],
      "source": [
        "dataset_df_binary = dataset_df.copy()\n",
        "dataset_df_binary[\"_label_\"] = dataset_df[\"_label_\"].map({\"This is no advice\":0}).fillna(1).map(int)"
      ]
    },
    {
      "cell_type": "code",
      "execution_count": 9,
      "metadata": {
        "colab": {
          "base_uri": "https://localhost:8080/"
        },
        "id": "atVRw5FFIMaJ",
        "outputId": "c1a7f23d-2f2d-4d25-d2e8-d8b7d51ddc78"
      },
      "outputs": [
        {
          "name": "stdout",
          "output_type": "stream",
          "text": [
            "Distribution of new labels:\n",
            "\n"
          ]
        },
        {
          "data": {
            "text/plain": [
              "_label_\n",
              "0          6477\n",
              "1          2199\n",
              "Name: count, dtype: int64"
            ]
          },
          "execution_count": 9,
          "metadata": {},
          "output_type": "execute_result"
        }
      ],
      "source": [
        "print(\"Distribution of new labels:\\n\")\n",
        "frequencies = dataset_df_binary[[\"_label_\"]].value_counts()\n",
        "frequencies"
      ]
    },
    {
      "attachments": {},
      "cell_type": "markdown",
      "metadata": {
        "id": "hiil7tVKv8kx"
      },
      "source": [
        "Recognizing the most frequent class.  \n",
        "This establish a baseline accuracy (a prior) for this dataset:"
      ]
    },
    {
      "cell_type": "code",
      "execution_count": 10,
      "metadata": {
        "colab": {
          "base_uri": "https://localhost:8080/"
        },
        "id": "Bs1Tv68QW1pA",
        "outputId": "50a7a83a-1fca-4809-f49e-814ba9552d8e"
      },
      "outputs": [
        {
          "name": "stdout",
          "output_type": "stream",
          "text": [
            "The most frequent class is: 0\n",
            "And its baseline accuracy is: 0.747\n"
          ]
        }
      ],
      "source": [
        "most_frequent_class = frequencies.index[:][0][0]\n",
        "\n",
        "print(\"The most frequent class is:\", most_frequent_class)\n",
        "print(\"And its baseline accuracy is:\", round((dataset_df_binary[\"_label_\"] == most_frequent_class).mean(), 3))"
      ]
    },
    {
      "attachments": {},
      "cell_type": "markdown",
      "metadata": {
        "id": "w5KVvs7J_giZ"
      },
      "source": [
        "### Preporcessing\n"
      ]
    },
    {
      "attachments": {},
      "cell_type": "markdown",
      "metadata": {
        "id": "RJm8NNust0H0"
      },
      "source": [
        "Define the preprocessing utility functions:"
      ]
    },
    {
      "cell_type": "code",
      "execution_count": 11,
      "metadata": {
        "id": "uNJaNvEYt0SM"
      },
      "outputs": [],
      "source": [
        "def digits_to_words(match):\n",
        "    \"\"\"\n",
        "    Convert string digits to the English words. The function distinguishes between\n",
        "    cardinal and ordinal.\n",
        "    E.g. \"2\" becomes \"two\", while \"2nd\" becomes \"second\"\n",
        "\n",
        "    Input: str\n",
        "    Output: str\n",
        "    \"\"\"\n",
        "    suffixes = ['st', 'nd', 'rd', 'th']\n",
        "    # Making sure it's lower cased so not to rely on previous possible actions:\n",
        "    string = match[0].lower()\n",
        "    if string[-2:] in suffixes:\n",
        "        type='ordinal'      \n",
        "        string = string[:-2]\n",
        "    else:\n",
        "        type='cardinal'\n",
        "    return num2words(string, to=type)\n",
        "\n",
        "def spelling_correction(text):\n",
        "    \"\"\"\n",
        "    Replace misspelled words with the correct spelling.\n",
        "\n",
        "    Input: str\n",
        "    Output: str\n",
        "    \"\"\"\n",
        "    corrector = Speller()\n",
        "    spells = [corrector(word) for word in text.split()]\n",
        "    return \" \".join(spells)\n",
        "\n",
        "def remove_stop_words(text):\n",
        "    \"\"\"\n",
        "    Remove stopwords.\n",
        "\n",
        "    Input: str\n",
        "    Output: str\n",
        "    \"\"\"\n",
        "    stopwords_set = set(stopwords.words('english'))\n",
        "    return \" \".join([word for word in text.split() if word not in stopwords_set])\n",
        "\n",
        "def stemming(text):\n",
        "    \"\"\"\n",
        "    Perform stemming of each word individually.\n",
        "\n",
        "    Input: str\n",
        "    Output: str\n",
        "    \"\"\"\n",
        "    stemmer = PorterStemmer()\n",
        "    return \" \".join([stemmer.stem(word) for word in text.split()])\n",
        "\n",
        "def lemmatizing(text):\n",
        "    \"\"\"\n",
        "    Perform lemmatization for each word individually.\n",
        "\n",
        "    Input: str\n",
        "    Output: str\n",
        "    \"\"\"\n",
        "    lemmatizer = WordNetLemmatizer()\n",
        "    return \" \".join([lemmatizer.lemmatize(word) for word in text.split()])\n",
        "\n",
        "def preprocessing(input_text):\n",
        "    \"\"\"\n",
        "    This function represents a complete pipeline for text preprocessing.\n",
        "\n",
        "    Input: str\n",
        "    Output: str\n",
        "    \"\"\"\n",
        "    output = input_text\n",
        "    # Lower casing:\n",
        "    output = output.lower()\n",
        "    # Convert digits to words:\n",
        "    # The following regex syntax looks for matching of consequtive digits tentatively followed by an ordinal suffix:\n",
        "    output = re.sub(r'\\d+(st)?(nd)?(rd)?(th)?', digits_to_words, output, flags=re.IGNORECASE)\n",
        "    # Remove punctuations and other special characters:\n",
        "    output = re.sub('[^ A-Za-z0-9]+', '', output)\n",
        "\n",
        "    if config_dict[\"do_enhanced_preprocessing\"]:\n",
        "      # Spelling corrections:\n",
        "      output = spelling_correction(output)\n",
        "\n",
        "    # Remove stop words:\n",
        "    output = remove_stop_words(output)\n",
        "\n",
        "    if config_dict[\"do_enhanced_preprocessing\"]:\n",
        "      # Stemming:\n",
        "      output = stemming(output)\n",
        "      # Lemmatizing:\n",
        "      output = lemmatizing(output)\n",
        "\n",
        "    return output"
      ]
    },
    {
      "attachments": {},
      "cell_type": "markdown",
      "metadata": {
        "id": "bgrWf0mEt0bm"
      },
      "source": [
        "Perform the preprocessing:"
      ]
    },
    {
      "cell_type": "code",
      "execution_count": 12,
      "metadata": {
        "id": "IEedfizM6FtZ"
      },
      "outputs": [],
      "source": [
        "dataset_clean = dataset_df_binary.copy()\n",
        "\n",
        "if config_dict[\"do_preprocessing\"]:\n",
        "    dataset_clean[\"text\"] = [preprocessing(text) for text in dataset_clean[\"text\"]]"
      ]
    },
    {
      "cell_type": "code",
      "execution_count": 13,
      "metadata": {
        "colab": {
          "base_uri": "https://localhost:8080/",
          "height": 415
        },
        "id": "MSYLrwr7KREy",
        "outputId": "9ffe83db-b2cf-4ce8-cb13-3b358974b404"
      },
      "outputs": [
        {
          "data": {
            "text/html": [
              "<style type=\"text/css\">\n",
              "#T_93023_row0_col0, #T_93023_row0_col1, #T_93023_row1_col0, #T_93023_row1_col1, #T_93023_row2_col0, #T_93023_row2_col1, #T_93023_row3_col0, #T_93023_row3_col1, #T_93023_row4_col0, #T_93023_row4_col1, #T_93023_row5_col0, #T_93023_row5_col1, #T_93023_row6_col0, #T_93023_row6_col1, #T_93023_row7_col0, #T_93023_row7_col1, #T_93023_row8_col0, #T_93023_row8_col1, #T_93023_row9_col0, #T_93023_row9_col1 {\n",
              "  text-align: left;\n",
              "}\n",
              "</style>\n",
              "<table id=\"T_93023\">\n",
              "  <thead>\n",
              "    <tr>\n",
              "      <th class=\"blank level0\" >&nbsp;</th>\n",
              "      <th id=\"T_93023_level0_col0\" class=\"col_heading level0 col0\" >text</th>\n",
              "      <th id=\"T_93023_level0_col1\" class=\"col_heading level0 col1\" >_label_</th>\n",
              "    </tr>\n",
              "  </thead>\n",
              "  <tbody>\n",
              "    <tr>\n",
              "      <th id=\"T_93023_level0_row0\" class=\"row_heading level0 row0\" >0</th>\n",
              "      <td id=\"T_93023_row0_col0\" class=\"data row0 col0\" >previously shown additional effect vibrating insoles improving static balance threefive possible combined effect balance gait greater impact falls mobility data would imply</td>\n",
              "      <td id=\"T_93023_row0_col1\" class=\"data row0 col1\" >0</td>\n",
              "    </tr>\n",
              "    <tr>\n",
              "      <th id=\"T_93023_level0_row1\" class=\"row_heading level0 row1\" >1</th>\n",
              "      <td id=\"T_93023_row1_col0\" class=\"data row1 col0\" >furthermore gut microbiota analysis mice treated hypolipidemic drugs revealed modification composition favor probiotictype bacteria lactobacillus spp fortynine</td>\n",
              "      <td id=\"T_93023_row1_col1\" class=\"data row1 col1\" >0</td>\n",
              "    </tr>\n",
              "    <tr>\n",
              "      <th id=\"T_93023_level0_row2\" class=\"row_heading level0 row2\" >2</th>\n",
              "      <td id=\"T_93023_row2_col0\" class=\"data row2 col0\" >research recommended may helpful establishing direction association</td>\n",
              "      <td id=\"T_93023_row2_col1\" class=\"data row2 col1\" >0</td>\n",
              "    </tr>\n",
              "    <tr>\n",
              "      <th id=\"T_93023_level0_row3\" class=\"row_heading level0 row3\" >3</th>\n",
              "      <td id=\"T_93023_row3_col0\" class=\"data row3 col0\" >study necessary test postnatal intervention effectively promote neurodevelopmental outcomes healthy infants belowaverage white matter development birth</td>\n",
              "      <td id=\"T_93023_row3_col1\" class=\"data row3 col1\" >0</td>\n",
              "    </tr>\n",
              "    <tr>\n",
              "      <th id=\"T_93023_level0_row4\" class=\"row_heading level0 row4\" >4</th>\n",
              "      <td id=\"T_93023_row4_col0\" class=\"data row4 col0\" >hand rheumatoid factor epstein barr virus infections described cause falsely elevated c trachomatis igm titers ten eleven</td>\n",
              "      <td id=\"T_93023_row4_col1\" class=\"data row4 col1\" >0</td>\n",
              "    </tr>\n",
              "    <tr>\n",
              "      <th id=\"T_93023_level0_row5\" class=\"row_heading level0 row5\" >5</th>\n",
              "      <td id=\"T_93023_row5_col0\" class=\"data row5 col0\" >interestingly within context proposed environmental enrichment may actually mild stressor mice moncek et al two thousand four</td>\n",
              "      <td id=\"T_93023_row5_col1\" class=\"data row5 col1\" >0</td>\n",
              "    </tr>\n",
              "    <tr>\n",
              "      <th id=\"T_93023_level0_row6\" class=\"row_heading level0 row6\" >6</th>\n",
              "      <td id=\"T_93023_row6_col0\" class=\"data row6 col0\" >thus failed quit reduction attempt marker increased decreased interest changing</td>\n",
              "      <td id=\"T_93023_row6_col1\" class=\"data row6 col1\" >0</td>\n",
              "    </tr>\n",
              "    <tr>\n",
              "      <th id=\"T_93023_level0_row7\" class=\"row_heading level0 row7\" >7</th>\n",
              "      <td id=\"T_93023_row7_col0\" class=\"data row7 col0\" >study replicates prior findings hughes et al two thousand eight cannabis users trying change make many often rapid transitions among use usual reduction abstinence states b reduction attempts common abstinence attempts c quit reduction attempts shortlived participants achieve longterm abstinence use alcohol illicit drugs significantly increase abstinence e seek treatment</td>\n",
              "      <td id=\"T_93023_row7_col1\" class=\"data row7 col1\" >0</td>\n",
              "    </tr>\n",
              "    <tr>\n",
              "      <th id=\"T_93023_level0_row8\" class=\"row_heading level0 row8\" >8</th>\n",
              "      <td id=\"T_93023_row8_col0\" class=\"data row8 col0\" >use crosssectional design limits ascertainment direction association ie possible mindfulness strategies may change symptoms social anxiety disappear strengthened mindfulness strategies may offer advantages could plausibly reduce symptoms social anxiety</td>\n",
              "      <td id=\"T_93023_row8_col1\" class=\"data row8 col1\" >0</td>\n",
              "    </tr>\n",
              "    <tr>\n",
              "      <th id=\"T_93023_level0_row9\" class=\"row_heading level0 row9\" >9</th>\n",
              "      <td id=\"T_93023_row9_col0\" class=\"data row9 col0\" >fact tumor metastasis increased lungs eselectinoverexpressing mice reduced eselectin knockout mice eighteen</td>\n",
              "      <td id=\"T_93023_row9_col1\" class=\"data row9 col1\" >0</td>\n",
              "    </tr>\n",
              "  </tbody>\n",
              "</table>\n"
            ],
            "text/plain": [
              "<pandas.io.formats.style.Styler at 0x198d2f32cf0>"
            ]
          },
          "execution_count": 13,
          "metadata": {},
          "output_type": "execute_result"
        }
      ],
      "source": [
        "dataset_clean[[\"text\", \"_label_\"]].head(10).style.set_properties(**{'text-align': 'left'})"
      ]
    },
    {
      "attachments": {},
      "cell_type": "markdown",
      "metadata": {
        "id": "Ht259WodQFLK"
      },
      "source": [
        "\n",
        "## Preliminary data exploration\n",
        "Every ML project should start with basic exploration of the data.  \n",
        "The objectives are mainly to explore the nature of the data, and to study whether there is a connection between the \"X\" data (in our case, the input text) and the desired value, \"Y\" (in our case, classifying as advice).  \n",
        "\n",
        "Here we start by looking at the most simple characteristic of the data: the length of each input.  \n",
        "We will later explore the statistical dependence between the language used and the advice label."
      ]
    },
    {
      "cell_type": "code",
      "execution_count": 14,
      "metadata": {
        "colab": {
          "base_uri": "https://localhost:8080/",
          "height": 582
        },
        "id": "zbe9QF-lNnLs",
        "outputId": "7854f0dd-dc72-4629-fd20-f24c92d7602f"
      },
      "outputs": [
        {
          "data": {
            "image/png": "[encoded data removed]",
            "text/plain": [
              "<Figure size 1000x600 with 2 Axes>"
            ]
          },
          "metadata": {},
          "output_type": "display_data"
        }
      ],
      "source": [
        "dataset_clean[\"length of text\"] = dataset_clean[\"text\"].map(len)\n",
        "ax = dataset_clean.plot.hist(column=[\"length of text\"], by=\"_label_\", bins=50, alpha=0.5, figsize=(10, 6), title=\"Distribution of string length per class\", xlim=[0, 1000])"
      ]
    },
    {
      "attachments": {},
      "cell_type": "markdown",
      "metadata": {
        "id": "HgDwJos4FgJK"
      },
      "source": [
        "## Feature engineering"
      ]
    },
    {
      "cell_type": "code",
      "execution_count": 15,
      "metadata": {
        "colab": {
          "base_uri": "https://localhost:8080/"
        },
        "id": "vX9IFcHYFi7f",
        "outputId": "b689dd2d-1e25-42d6-8987-61d6f5d08b1a"
      },
      "outputs": [
        {
          "name": "stdout",
          "output_type": "stream",
          "text": [
            "Feature Engineering method: Binary (one hot encoding)\n"
          ]
        }
      ],
      "source": [
        "def feat_eng_text_df(in_df, text_col, labels_col, config_dict):\n",
        "  if \"CountVectorizer-binary\" == config_dict[\"feature_eng_details\"]:\n",
        "    print(\"Feature Engineering method: Binary (one hot encoding)\")\n",
        "    countvectorizer = CountVectorizer(ngram_range=(config_dict[\"ngram_range_min\"], config_dict[\"ngram_range_max\"]),\n",
        "                                      stop_words='english',\n",
        "                                      max_features=config_dict[\"max_features\"],\n",
        "                                      binary=True)\n",
        "\n",
        "  elif \"CountVectorizer-BOW\" == config_dict[\"feature_eng_details\"]:\n",
        "    print(\"Feature Engineering method: Bag of words\")\n",
        "    countvectorizer = CountVectorizer(ngram_range=(config_dict[\"ngram_range_min\"], config_dict[\"ngram_range_max\"]),\n",
        "                                      stop_words='english',\n",
        "                                      max_features=config_dict[\"max_features\"],\n",
        "                                      binary=False)\n",
        "\n",
        "  out_arr = countvectorizer.fit_transform(in_df[text_col])\n",
        "  count_tokens = countvectorizer.get_feature_names_out()\n",
        "  out_df = pd.DataFrame(data = out_arr.toarray(),columns = count_tokens)\n",
        "  out_df[labels_col] = list(in_df[labels_col])\n",
        "  return out_df\n",
        "\n",
        "\n",
        "if config_dict[\"do_feature_eng\"]:\n",
        "  dataset_feat_eng = feat_eng_text_df(dataset_clean, 'text', '_label_', config_dict)\n",
        "else:\n",
        "  # This option isn't being supported, the notebook would fail. This option is\n",
        "  # here to cater for a ML pipeline that uses deep learning language models that consume text, and not engineered features.\n",
        "  dataset_feat_eng = dataset_clean.copy()"
      ]
    },
    {
      "attachments": {},
      "cell_type": "markdown",
      "metadata": {
        "id": "f_WMzIFM_i6A"
      },
      "source": [
        "## Exploring the new numerical features  "
      ]
    },
    {
      "cell_type": "code",
      "execution_count": 16,
      "metadata": {
        "colab": {
          "base_uri": "https://localhost:8080/",
          "height": 255
        },
        "id": "Aqz7oNbE_328",
        "outputId": "1dce6b50-b91f-4e4a-be5b-dc9948cd95c4"
      },
      "outputs": [
        {
          "data": {
            "text/html": [
              "<div>\n",
              "<style scoped>\n",
              "    .dataframe tbody tr th:only-of-type {\n",
              "        vertical-align: middle;\n",
              "    }\n",
              "\n",
              "    .dataframe tbody tr th {\n",
              "        vertical-align: top;\n",
              "    }\n",
              "\n",
              "    .dataframe thead th {\n",
              "        text-align: right;\n",
              "    }\n",
              "</style>\n",
              "<table border=\"1\" class=\"dataframe\">\n",
              "  <thead>\n",
              "    <tr style=\"text-align: right;\">\n",
              "      <th></th>\n",
              "      <th>abdominal</th>\n",
              "      <th>ability</th>\n",
              "      <th>able</th>\n",
              "      <th>abnormal</th>\n",
              "      <th>abnormalities</th>\n",
              "      <th>absence</th>\n",
              "      <th>acceptable</th>\n",
              "      <th>access</th>\n",
              "      <th>according</th>\n",
              "      <th>account</th>\n",
              "      <th>...</th>\n",
              "      <th>wide</th>\n",
              "      <th>women</th>\n",
              "      <th>work</th>\n",
              "      <th>wound</th>\n",
              "      <th>year</th>\n",
              "      <th>years</th>\n",
              "      <th>young</th>\n",
              "      <th>younger</th>\n",
              "      <th>zeroone</th>\n",
              "      <th>_label_</th>\n",
              "    </tr>\n",
              "  </thead>\n",
              "  <tbody>\n",
              "    <tr>\n",
              "      <th>0</th>\n",
              "      <td>0</td>\n",
              "      <td>0</td>\n",
              "      <td>0</td>\n",
              "      <td>0</td>\n",
              "      <td>0</td>\n",
              "      <td>0</td>\n",
              "      <td>0</td>\n",
              "      <td>0</td>\n",
              "      <td>0</td>\n",
              "      <td>0</td>\n",
              "      <td>...</td>\n",
              "      <td>0</td>\n",
              "      <td>0</td>\n",
              "      <td>0</td>\n",
              "      <td>0</td>\n",
              "      <td>0</td>\n",
              "      <td>0</td>\n",
              "      <td>0</td>\n",
              "      <td>0</td>\n",
              "      <td>0</td>\n",
              "      <td>0</td>\n",
              "    </tr>\n",
              "    <tr>\n",
              "      <th>1</th>\n",
              "      <td>0</td>\n",
              "      <td>0</td>\n",
              "      <td>0</td>\n",
              "      <td>0</td>\n",
              "      <td>0</td>\n",
              "      <td>0</td>\n",
              "      <td>0</td>\n",
              "      <td>0</td>\n",
              "      <td>0</td>\n",
              "      <td>0</td>\n",
              "      <td>...</td>\n",
              "      <td>0</td>\n",
              "      <td>0</td>\n",
              "      <td>0</td>\n",
              "      <td>0</td>\n",
              "      <td>0</td>\n",
              "      <td>0</td>\n",
              "      <td>0</td>\n",
              "      <td>0</td>\n",
              "      <td>0</td>\n",
              "      <td>0</td>\n",
              "    </tr>\n",
              "    <tr>\n",
              "      <th>2</th>\n",
              "      <td>0</td>\n",
              "      <td>0</td>\n",
              "      <td>0</td>\n",
              "      <td>0</td>\n",
              "      <td>0</td>\n",
              "      <td>0</td>\n",
              "      <td>0</td>\n",
              "      <td>0</td>\n",
              "      <td>0</td>\n",
              "      <td>0</td>\n",
              "      <td>...</td>\n",
              "      <td>0</td>\n",
              "      <td>0</td>\n",
              "      <td>0</td>\n",
              "      <td>0</td>\n",
              "      <td>0</td>\n",
              "      <td>0</td>\n",
              "      <td>0</td>\n",
              "      <td>0</td>\n",
              "      <td>0</td>\n",
              "      <td>0</td>\n",
              "    </tr>\n",
              "    <tr>\n",
              "      <th>3</th>\n",
              "      <td>0</td>\n",
              "      <td>0</td>\n",
              "      <td>0</td>\n",
              "      <td>0</td>\n",
              "      <td>0</td>\n",
              "      <td>0</td>\n",
              "      <td>0</td>\n",
              "      <td>0</td>\n",
              "      <td>0</td>\n",
              "      <td>0</td>\n",
              "      <td>...</td>\n",
              "      <td>0</td>\n",
              "      <td>0</td>\n",
              "      <td>0</td>\n",
              "      <td>0</td>\n",
              "      <td>0</td>\n",
              "      <td>0</td>\n",
              "      <td>0</td>\n",
              "      <td>0</td>\n",
              "      <td>0</td>\n",
              "      <td>0</td>\n",
              "    </tr>\n",
              "    <tr>\n",
              "      <th>4</th>\n",
              "      <td>0</td>\n",
              "      <td>0</td>\n",
              "      <td>0</td>\n",
              "      <td>0</td>\n",
              "      <td>0</td>\n",
              "      <td>0</td>\n",
              "      <td>0</td>\n",
              "      <td>0</td>\n",
              "      <td>0</td>\n",
              "      <td>0</td>\n",
              "      <td>...</td>\n",
              "      <td>0</td>\n",
              "      <td>0</td>\n",
              "      <td>0</td>\n",
              "      <td>0</td>\n",
              "      <td>0</td>\n",
              "      <td>0</td>\n",
              "      <td>0</td>\n",
              "      <td>0</td>\n",
              "      <td>0</td>\n",
              "      <td>0</td>\n",
              "    </tr>\n",
              "  </tbody>\n",
              "</table>\n",
              "<p>5 rows × 1001 columns</p>\n",
              "</div>"
            ],
            "text/plain": [
              "   abdominal  ability  able  abnormal  abnormalities  absence  acceptable  \\\n",
              "0          0        0     0         0              0        0           0   \n",
              "1          0        0     0         0              0        0           0   \n",
              "2          0        0     0         0              0        0           0   \n",
              "3          0        0     0         0              0        0           0   \n",
              "4          0        0     0         0              0        0           0   \n",
              "\n",
              "   access  according  account  ...  wide  women  work  wound  year  years  \\\n",
              "0       0          0        0  ...     0      0     0      0     0      0   \n",
              "1       0          0        0  ...     0      0     0      0     0      0   \n",
              "2       0          0        0  ...     0      0     0      0     0      0   \n",
              "3       0          0        0  ...     0      0     0      0     0      0   \n",
              "4       0          0        0  ...     0      0     0      0     0      0   \n",
              "\n",
              "   young  younger  zeroone  _label_  \n",
              "0      0        0        0        0  \n",
              "1      0        0        0        0  \n",
              "2      0        0        0        0  \n",
              "3      0        0        0        0  \n",
              "4      0        0        0        0  \n",
              "\n",
              "[5 rows x 1001 columns]"
            ]
          },
          "execution_count": 16,
          "metadata": {},
          "output_type": "execute_result"
        }
      ],
      "source": [
        "dataset_feat_eng.head()"
      ]
    },
    {
      "cell_type": "code",
      "execution_count": 17,
      "metadata": {
        "colab": {
          "base_uri": "https://localhost:8080/",
          "height": 193
        },
        "id": "8ZPYzjltUZ3Q",
        "outputId": "ad29ab05-ad66-4eec-a5a4-fb20daee2ab4"
      },
      "outputs": [
        {
          "data": {
            "text/html": [
              "<div>\n",
              "<style scoped>\n",
              "    .dataframe tbody tr th:only-of-type {\n",
              "        vertical-align: middle;\n",
              "    }\n",
              "\n",
              "    .dataframe tbody tr th {\n",
              "        vertical-align: top;\n",
              "    }\n",
              "\n",
              "    .dataframe thead th {\n",
              "        text-align: right;\n",
              "    }\n",
              "</style>\n",
              "<table border=\"1\" class=\"dataframe\">\n",
              "  <thead>\n",
              "    <tr style=\"text-align: right;\">\n",
              "      <th></th>\n",
              "      <th>abdominal</th>\n",
              "      <th>ability</th>\n",
              "      <th>able</th>\n",
              "      <th>abnormal</th>\n",
              "      <th>abnormalities</th>\n",
              "      <th>absence</th>\n",
              "      <th>acceptable</th>\n",
              "      <th>access</th>\n",
              "      <th>according</th>\n",
              "      <th>account</th>\n",
              "      <th>...</th>\n",
              "      <th>wide</th>\n",
              "      <th>women</th>\n",
              "      <th>work</th>\n",
              "      <th>wound</th>\n",
              "      <th>year</th>\n",
              "      <th>years</th>\n",
              "      <th>young</th>\n",
              "      <th>younger</th>\n",
              "      <th>zeroone</th>\n",
              "      <th>_label_</th>\n",
              "    </tr>\n",
              "  </thead>\n",
              "  <tbody>\n",
              "    <tr>\n",
              "      <th>min</th>\n",
              "      <td>0.00000</td>\n",
              "      <td>0.000000</td>\n",
              "      <td>0.000000</td>\n",
              "      <td>0.000000</td>\n",
              "      <td>0.000000</td>\n",
              "      <td>0.000000</td>\n",
              "      <td>0.000000</td>\n",
              "      <td>0.000000</td>\n",
              "      <td>0.000000</td>\n",
              "      <td>0.000000</td>\n",
              "      <td>...</td>\n",
              "      <td>0.000000</td>\n",
              "      <td>0.000000</td>\n",
              "      <td>0.000000</td>\n",
              "      <td>0.000000</td>\n",
              "      <td>0.000000</td>\n",
              "      <td>0.000000</td>\n",
              "      <td>0.000000</td>\n",
              "      <td>0.000000</td>\n",
              "      <td>0.000000</td>\n",
              "      <td>0.000000</td>\n",
              "    </tr>\n",
              "    <tr>\n",
              "      <th>max</th>\n",
              "      <td>1.00000</td>\n",
              "      <td>1.000000</td>\n",
              "      <td>1.000000</td>\n",
              "      <td>1.000000</td>\n",
              "      <td>1.000000</td>\n",
              "      <td>1.000000</td>\n",
              "      <td>1.000000</td>\n",
              "      <td>1.000000</td>\n",
              "      <td>1.000000</td>\n",
              "      <td>1.000000</td>\n",
              "      <td>...</td>\n",
              "      <td>1.000000</td>\n",
              "      <td>1.000000</td>\n",
              "      <td>1.000000</td>\n",
              "      <td>1.000000</td>\n",
              "      <td>1.000000</td>\n",
              "      <td>1.000000</td>\n",
              "      <td>1.000000</td>\n",
              "      <td>1.000000</td>\n",
              "      <td>1.000000</td>\n",
              "      <td>1.000000</td>\n",
              "    </tr>\n",
              "    <tr>\n",
              "      <th>mean</th>\n",
              "      <td>0.00438</td>\n",
              "      <td>0.004956</td>\n",
              "      <td>0.003688</td>\n",
              "      <td>0.003458</td>\n",
              "      <td>0.003804</td>\n",
              "      <td>0.003804</td>\n",
              "      <td>0.003804</td>\n",
              "      <td>0.004034</td>\n",
              "      <td>0.004841</td>\n",
              "      <td>0.006339</td>\n",
              "      <td>...</td>\n",
              "      <td>0.002766</td>\n",
              "      <td>0.026971</td>\n",
              "      <td>0.006224</td>\n",
              "      <td>0.002651</td>\n",
              "      <td>0.004034</td>\n",
              "      <td>0.017865</td>\n",
              "      <td>0.007492</td>\n",
              "      <td>0.003804</td>\n",
              "      <td>0.002997</td>\n",
              "      <td>0.253458</td>\n",
              "    </tr>\n",
              "  </tbody>\n",
              "</table>\n",
              "<p>3 rows × 1001 columns</p>\n",
              "</div>"
            ],
            "text/plain": [
              "      abdominal   ability      able  abnormal  abnormalities   absence  \\\n",
              "min     0.00000  0.000000  0.000000  0.000000       0.000000  0.000000   \n",
              "max     1.00000  1.000000  1.000000  1.000000       1.000000  1.000000   \n",
              "mean    0.00438  0.004956  0.003688  0.003458       0.003804  0.003804   \n",
              "\n",
              "      acceptable    access  according   account  ...      wide     women  \\\n",
              "min     0.000000  0.000000   0.000000  0.000000  ...  0.000000  0.000000   \n",
              "max     1.000000  1.000000   1.000000  1.000000  ...  1.000000  1.000000   \n",
              "mean    0.003804  0.004034   0.004841  0.006339  ...  0.002766  0.026971   \n",
              "\n",
              "          work     wound      year     years     young   younger   zeroone  \\\n",
              "min   0.000000  0.000000  0.000000  0.000000  0.000000  0.000000  0.000000   \n",
              "max   1.000000  1.000000  1.000000  1.000000  1.000000  1.000000  1.000000   \n",
              "mean  0.006224  0.002651  0.004034  0.017865  0.007492  0.003804  0.002997   \n",
              "\n",
              "       _label_  \n",
              "min   0.000000  \n",
              "max   1.000000  \n",
              "mean  0.253458  \n",
              "\n",
              "[3 rows x 1001 columns]"
            ]
          },
          "execution_count": 17,
          "metadata": {},
          "output_type": "execute_result"
        }
      ],
      "source": [
        "dataset_feat_eng.describe().loc[['min', 'max', 'mean']]"
      ]
    },
    {
      "attachments": {},
      "cell_type": "markdown",
      "metadata": {
        "id": "Vf-JsLSKC-Vk"
      },
      "source": [
        "## Split to Train/Test"
      ]
    },
    {
      "cell_type": "code",
      "execution_count": 18,
      "metadata": {
        "id": "RQzV5OeY6RaZ"
      },
      "outputs": [],
      "source": [
        "dataset_feat_eng_test = dataset_feat_eng.sample(frac=config_dict[\"test_size\"],random_state=config_dict['seed'])\n",
        "dataset_feat_eng_train = dataset_feat_eng.drop(dataset_feat_eng_test.index)"
      ]
    },
    {
      "attachments": {},
      "cell_type": "markdown",
      "metadata": {
        "id": "TfsphIcZFZEn"
      },
      "source": [
        "## Preliminary statistical analysis and feasibility study\n",
        "This process is perhaps the most valuable for the preliminary study prior to applying ML.  \n",
        "This is where we measure the relationship between \"X\" and \"Y\" so to see whether there is a \"correlation\".  \n",
        "\n",
        "If this were a regression problem, where X and Y are numerical, then it would make sense to evaluate the correlation between X and Y, so to learn whether one could expect a linear regression model to yield good results.\n",
        "\n",
        "Since neither X nor Y are numerical in their nature, we seek to evaluated the **statistical dependence** between them, so to know whether a model would have any \"signal\" to pick up on.  "
      ]
    },
    {
      "attachments": {},
      "cell_type": "markdown",
      "metadata": {
        "id": "k-ZtgfrJ9nhl"
      },
      "source": [
        "Calc:  \n",
        "**P(feature | class)**"
      ]
    },
    {
      "cell_type": "code",
      "execution_count": 19,
      "metadata": {
        "colab": {
          "base_uri": "https://localhost:8080/",
          "height": 206
        },
        "id": "HPvdzu9utqMC",
        "outputId": "6f9322d6-61e3-42ae-9bb1-70cab7f5e499"
      },
      "outputs": [
        {
          "data": {
            "text/html": [
              "<div>\n",
              "<style scoped>\n",
              "    .dataframe tbody tr th:only-of-type {\n",
              "        vertical-align: middle;\n",
              "    }\n",
              "\n",
              "    .dataframe tbody tr th {\n",
              "        vertical-align: top;\n",
              "    }\n",
              "\n",
              "    .dataframe thead th {\n",
              "        text-align: right;\n",
              "    }\n",
              "</style>\n",
              "<table border=\"1\" class=\"dataframe\">\n",
              "  <thead>\n",
              "    <tr style=\"text-align: right;\">\n",
              "      <th>_label_</th>\n",
              "      <th>0</th>\n",
              "      <th>1</th>\n",
              "    </tr>\n",
              "  </thead>\n",
              "  <tbody>\n",
              "    <tr>\n",
              "      <th>abdominal</th>\n",
              "      <td>0.004954</td>\n",
              "      <td>0.002407</td>\n",
              "    </tr>\n",
              "    <tr>\n",
              "      <th>ability</th>\n",
              "      <td>0.004747</td>\n",
              "      <td>0.005415</td>\n",
              "    </tr>\n",
              "    <tr>\n",
              "      <th>able</th>\n",
              "      <td>0.004954</td>\n",
              "      <td>0.001805</td>\n",
              "    </tr>\n",
              "    <tr>\n",
              "      <th>abnormal</th>\n",
              "      <td>0.005160</td>\n",
              "      <td>0.000602</td>\n",
              "    </tr>\n",
              "    <tr>\n",
              "      <th>abnormalities</th>\n",
              "      <td>0.004334</td>\n",
              "      <td>0.001805</td>\n",
              "    </tr>\n",
              "  </tbody>\n",
              "</table>\n",
              "</div>"
            ],
            "text/plain": [
              "_label_               0         1\n",
              "abdominal      0.004954  0.002407\n",
              "ability        0.004747  0.005415\n",
              "able           0.004954  0.001805\n",
              "abnormal       0.005160  0.000602\n",
              "abnormalities  0.004334  0.001805"
            ]
          },
          "execution_count": 19,
          "metadata": {},
          "output_type": "execute_result"
        }
      ],
      "source": [
        "## Statistics of features per class:\n",
        "means_by_class = dataset_feat_eng_train.groupby(by=[\"_label_\"]).mean().T.sort_index()\n",
        "means_by_class.head()"
      ]
    },
    {
      "attachments": {},
      "cell_type": "markdown",
      "metadata": {
        "id": "LINyT4DBAsf8"
      },
      "source": [
        "Calc the ratio that reflects statistical dependence:  \n",
        "**P(class, feature)/(P(class)P(feature))**  \n",
        "And note that it could be rewritten as:  \n",
        "**P(class | feature)/P(class)**  \n",
        "Or equivalently:  \n",
        "**P(feature | class)/P(feature)**  \n",
        "\n",
        "\\*Note:  \n",
        "The below calculation is assuming that the numerical features of each text term is **binary**, only then is the below a probability measure.  \n",
        "If another feature method is used, such as BoW or TF/IDF, then the below is not the probability, but a proxy of it.  "
      ]
    },
    {
      "cell_type": "code",
      "execution_count": 20,
      "metadata": {
        "id": "QwHZPJwuAssf"
      },
      "outputs": [],
      "source": [
        "P_class = sorted([[c, np.mean(dataset_feat_eng[\"_label_\"] == c)] for c in set(means_by_class.columns)])\n",
        "P_feature = sorted([[f, np.mean(dataset_feat_eng[f] > 0)] for f in dataset_feat_eng.columns if f != \"_label_\"])\n",
        "P_feature_inv = [[f, 1/p] for f, p in P_feature]\n",
        "\n",
        "P_class_arr = np.array(P_class)\n",
        "P_feature_arr = np.array(P_feature)\n",
        "P_feature_inv_arr = np.array(P_feature_inv)\n",
        "# Multiplying a \"column vector\" of feature probablities with a \"line vector\" of\n",
        "# class probilities to get a matrix where each element is a product of probabilities:\n",
        "P_class_prod_P_feature_inv_arr = np.outer(P_feature_inv_arr[:, 1].astype(float), P_class_arr[:, 1].astype(float))\n",
        "\n",
        "P_class_given_feature = means_by_class.copy()\n",
        "for feature_counter in range(len(P_class_given_feature)):\n",
        "  for c in P_class_given_feature.columns:\n",
        "    # Right hand side: P(feature | class) / P(feature)\n",
        "    P_class_given_feature.iloc[feature_counter][c] = means_by_class.iloc[feature_counter][c] / P_feature_arr[feature_counter, 1].astype(float)"
      ]
    },
    {
      "attachments": {},
      "cell_type": "markdown",
      "metadata": {
        "id": "ipfL9o6XX8pE"
      },
      "source": [
        "**The terms that are most indicative of class \"0\":**"
      ]
    },
    {
      "cell_type": "code",
      "execution_count": 21,
      "metadata": {
        "colab": {
          "base_uri": "https://localhost:8080/",
          "height": 363
        },
        "id": "bEl4iKwaX82G",
        "outputId": "2592018a-b404-469b-9d6c-feb27372506c"
      },
      "outputs": [
        {
          "data": {
            "text/html": [
              "<div>\n",
              "<style scoped>\n",
              "    .dataframe tbody tr th:only-of-type {\n",
              "        vertical-align: middle;\n",
              "    }\n",
              "\n",
              "    .dataframe tbody tr th {\n",
              "        vertical-align: top;\n",
              "    }\n",
              "\n",
              "    .dataframe thead th {\n",
              "        text-align: right;\n",
              "    }\n",
              "</style>\n",
              "<table border=\"1\" class=\"dataframe\">\n",
              "  <thead>\n",
              "    <tr style=\"text-align: right;\">\n",
              "      <th>_label_</th>\n",
              "      <th>0</th>\n",
              "      <th>1</th>\n",
              "    </tr>\n",
              "  </thead>\n",
              "  <tbody>\n",
              "    <tr>\n",
              "      <th>associated lower</th>\n",
              "      <td>1.685376</td>\n",
              "      <td>0.000000</td>\n",
              "    </tr>\n",
              "    <tr>\n",
              "      <th>metaanalysis</th>\n",
              "      <td>1.652965</td>\n",
              "      <td>0.000000</td>\n",
              "    </tr>\n",
              "    <tr>\n",
              "      <th>thirteen</th>\n",
              "      <td>1.566873</td>\n",
              "      <td>0.093218</td>\n",
              "    </tr>\n",
              "    <tr>\n",
              "      <th>twentythree</th>\n",
              "      <td>1.566873</td>\n",
              "      <td>0.000000</td>\n",
              "    </tr>\n",
              "    <tr>\n",
              "      <th>citation</th>\n",
              "      <td>1.566873</td>\n",
              "      <td>0.000000</td>\n",
              "    </tr>\n",
              "    <tr>\n",
              "      <th>median</th>\n",
              "      <td>1.525421</td>\n",
              "      <td>0.000000</td>\n",
              "    </tr>\n",
              "    <tr>\n",
              "      <th>verbal</th>\n",
              "      <td>1.515218</td>\n",
              "      <td>0.000000</td>\n",
              "    </tr>\n",
              "    <tr>\n",
              "      <th>blood pressure</th>\n",
              "      <td>1.515218</td>\n",
              "      <td>0.000000</td>\n",
              "    </tr>\n",
              "    <tr>\n",
              "      <th>hivone</th>\n",
              "      <td>1.504198</td>\n",
              "      <td>0.417617</td>\n",
              "    </tr>\n",
              "    <tr>\n",
              "      <th>abnormal</th>\n",
              "      <td>1.492260</td>\n",
              "      <td>0.174007</td>\n",
              "    </tr>\n",
              "  </tbody>\n",
              "</table>\n",
              "</div>"
            ],
            "text/plain": [
              "_label_                  0         1\n",
              "associated lower  1.685376  0.000000\n",
              "metaanalysis      1.652965  0.000000\n",
              "thirteen          1.566873  0.093218\n",
              "twentythree       1.566873  0.000000\n",
              "citation          1.566873  0.000000\n",
              "median            1.525421  0.000000\n",
              "verbal            1.515218  0.000000\n",
              "blood pressure    1.515218  0.000000\n",
              "hivone            1.504198  0.417617\n",
              "abnormal          1.492260  0.174007"
            ]
          },
          "execution_count": 21,
          "metadata": {},
          "output_type": "execute_result"
        }
      ],
      "source": [
        "P_class_given_feature.sort_values([0], ascending=False).head(10)"
      ]
    },
    {
      "attachments": {},
      "cell_type": "markdown",
      "metadata": {
        "id": "MaZFPdu0ZZgW"
      },
      "source": [
        "**The terms that are most indicative of class \"1\":**"
      ]
    },
    {
      "cell_type": "code",
      "execution_count": 22,
      "metadata": {
        "colab": {
          "base_uri": "https://localhost:8080/",
          "height": 363
        },
        "id": "Hqyvb9KlZZyW",
        "outputId": "f38626f8-b301-45b8-a731-c602c73cbb9e"
      },
      "outputs": [
        {
          "data": {
            "text/html": [
              "<div>\n",
              "<style scoped>\n",
              "    .dataframe tbody tr th:only-of-type {\n",
              "        vertical-align: middle;\n",
              "    }\n",
              "\n",
              "    .dataframe tbody tr th {\n",
              "        vertical-align: top;\n",
              "    }\n",
              "\n",
              "    .dataframe thead th {\n",
              "        text-align: right;\n",
              "    }\n",
              "</style>\n",
              "<table border=\"1\" class=\"dataframe\">\n",
              "  <thead>\n",
              "    <tr style=\"text-align: right;\">\n",
              "      <th>_label_</th>\n",
              "      <th>0</th>\n",
              "      <th>1</th>\n",
              "    </tr>\n",
              "  </thead>\n",
              "  <tbody>\n",
              "    <tr>\n",
              "      <th>promising</th>\n",
              "      <td>0.231060</td>\n",
              "      <td>4.041458</td>\n",
              "    </tr>\n",
              "    <tr>\n",
              "      <th>support use</th>\n",
              "      <td>0.061749</td>\n",
              "      <td>3.960164</td>\n",
              "    </tr>\n",
              "    <tr>\n",
              "      <th>option</th>\n",
              "      <td>0.030874</td>\n",
              "      <td>3.735155</td>\n",
              "    </tr>\n",
              "    <tr>\n",
              "      <th>alternative</th>\n",
              "      <td>0.096505</td>\n",
              "      <td>3.719795</td>\n",
              "    </tr>\n",
              "    <tr>\n",
              "      <th>tool</th>\n",
              "      <td>0.238762</td>\n",
              "      <td>3.712154</td>\n",
              "    </tr>\n",
              "    <tr>\n",
              "      <th>treatment option</th>\n",
              "      <td>0.000000</td>\n",
              "      <td>3.579577</td>\n",
              "    </tr>\n",
              "    <tr>\n",
              "      <th>treat</th>\n",
              "      <td>0.223839</td>\n",
              "      <td>3.480144</td>\n",
              "    </tr>\n",
              "    <tr>\n",
              "      <th>safe</th>\n",
              "      <td>0.344368</td>\n",
              "      <td>3.279367</td>\n",
              "    </tr>\n",
              "    <tr>\n",
              "      <th>findings support</th>\n",
              "      <td>0.503638</td>\n",
              "      <td>3.262635</td>\n",
              "    </tr>\n",
              "    <tr>\n",
              "      <th>suitable</th>\n",
              "      <td>0.447678</td>\n",
              "      <td>3.262635</td>\n",
              "    </tr>\n",
              "  </tbody>\n",
              "</table>\n",
              "</div>"
            ],
            "text/plain": [
              "_label_                  0         1\n",
              "promising         0.231060  4.041458\n",
              "support use       0.061749  3.960164\n",
              "option            0.030874  3.735155\n",
              "alternative       0.096505  3.719795\n",
              "tool              0.238762  3.712154\n",
              "treatment option  0.000000  3.579577\n",
              "treat             0.223839  3.480144\n",
              "safe              0.344368  3.279367\n",
              "findings support  0.503638  3.262635\n",
              "suitable          0.447678  3.262635"
            ]
          },
          "execution_count": 22,
          "metadata": {},
          "output_type": "execute_result"
        }
      ],
      "source": [
        "P_class_given_feature.sort_values([1], ascending=False).head(10)"
      ]
    },
    {
      "attachments": {},
      "cell_type": "markdown",
      "metadata": {
        "id": "YyHadLWYchW7"
      },
      "source": [
        "## Feature selection\n",
        "This is a univariate feature selection process.  \n",
        "It is based on conditional dependency between a feature being 0/1 and a class being 0/1, thus the mean value of the feature is its probability.  \n",
        "Note that the process of feature selection is done **on the training set**.   \n"
      ]
    },
    {
      "attachments": {},
      "cell_type": "markdown",
      "metadata": {
        "id": "glryYgkh9uGr"
      },
      "source": [
        "For each class, choose the most indicative features.  \n",
        "Either maximize the:   \n",
        "* a-priori distribution P(feature | class), Max Liklihood  \n",
        "or  \n",
        "* a posteriori P(class | feature), MAP"
      ]
    },
    {
      "cell_type": "code",
      "execution_count": 23,
      "metadata": {
        "id": "bTnI3Lpk95BU"
      },
      "outputs": [],
      "source": [
        "chosen_features = []\n",
        "if config_dict[\"maximize_a_priori\"] == True:\n",
        "  classes = means_by_class.columns\n",
        "  for c in classes:\n",
        "    chosen_features += list(means_by_class[c].sort_values(ascending=False).index[:config_dict[\"num_chosen_features_per_class\"] + 1])\n",
        "else:\n",
        "  classes = P_class_given_feature.columns\n",
        "  for c in classes:\n",
        "    chosen_features += list(P_class_given_feature[c].sort_values(ascending=False).index[:config_dict[\"num_chosen_features_per_class\"] + 1])\n",
        "\n",
        "chosen_features = list(set(chosen_features))"
      ]
    },
    {
      "cell_type": "code",
      "execution_count": 24,
      "metadata": {
        "colab": {
          "base_uri": "https://localhost:8080/"
        },
        "id": "QsRkvKXuAApE",
        "outputId": "73d28095-c733-423c-a200-6eab10416429"
      },
      "outputs": [
        {
          "data": {
            "text/plain": [
              "['associated increased',\n",
              " 'furthermore',\n",
              " 'schizophrenia',\n",
              " 'received',\n",
              " 'rehabilitation',\n",
              " 'analgesia',\n",
              " 'tnf',\n",
              " 'nctone million',\n",
              " 'significance',\n",
              " 'findings provide',\n",
              " 'approximately',\n",
              " 'comprehensive',\n",
              " 'plasma',\n",
              " 'avoid',\n",
              " 'good',\n",
              " 'younger',\n",
              " 'doses',\n",
              " 'future studies',\n",
              " 'prevalence',\n",
              " 'necessary',\n",
              " 'reduced',\n",
              " 'million',\n",
              " 'twentyone',\n",
              " 'support use',\n",
              " 'choice',\n",
              " 'types',\n",
              " 'identifying',\n",
              " 'maintain',\n",
              " 'high risk',\n",
              " 'settings',\n",
              " 'mean',\n",
              " 'selection',\n",
              " 'original',\n",
              " 'beliefs',\n",
              " 'decreased',\n",
              " 'provides',\n",
              " 'included',\n",
              " 'previously',\n",
              " 'mental health',\n",
              " 'enhance',\n",
              " 'highrisk',\n",
              " 'providing',\n",
              " 'eighteen',\n",
              " 'twentythree',\n",
              " 'mass',\n",
              " 'promising',\n",
              " 'sample size',\n",
              " 'considered',\n",
              " 'prevention',\n",
              " 'oxygen',\n",
              " 'recent',\n",
              " 'showed',\n",
              " 'preliminary',\n",
              " 'cardiovascular risk',\n",
              " 'targeting',\n",
              " 'intervention',\n",
              " 'benefit',\n",
              " 'important',\n",
              " 'useful',\n",
              " 'area',\n",
              " 'adherence',\n",
              " 'effective',\n",
              " 'evidencebased',\n",
              " 'needs',\n",
              " 'higher',\n",
              " 'recommended',\n",
              " 'account',\n",
              " 'occur',\n",
              " 'active commuting',\n",
              " 'thirtythree',\n",
              " 'thousand',\n",
              " 'drug',\n",
              " 'finally',\n",
              " 'ratio',\n",
              " 'socioeconomic',\n",
              " 'resistance',\n",
              " 'score',\n",
              " 'thousand seven',\n",
              " 'thirteen',\n",
              " 'management',\n",
              " 'strategy',\n",
              " 'availability',\n",
              " 'et',\n",
              " 'especially',\n",
              " 'cost',\n",
              " 'context',\n",
              " 'pressure',\n",
              " 'facilitate',\n",
              " 'investigations',\n",
              " 'cervical',\n",
              " 'findings',\n",
              " 'method',\n",
              " 'reducing',\n",
              " 'sixteen',\n",
              " 'recommend',\n",
              " 'cortical',\n",
              " 'counseling',\n",
              " 'educational',\n",
              " 'twentysix',\n",
              " 'controls',\n",
              " 'preventive',\n",
              " 'highlights',\n",
              " 'clinicians',\n",
              " 'explained',\n",
              " 'valid',\n",
              " 'represents',\n",
              " 'combination',\n",
              " 'improve',\n",
              " 'health',\n",
              " 'years',\n",
              " 'procedures',\n",
              " 'safe',\n",
              " 'median',\n",
              " 'bp',\n",
              " 'significantly associated',\n",
              " 'performing',\n",
              " 'procedure',\n",
              " 'hivone',\n",
              " 'cytokines',\n",
              " 'identify',\n",
              " 'cell',\n",
              " 'efficacy',\n",
              " 'tool',\n",
              " 'adolescents',\n",
              " 'circulating',\n",
              " 'reduce',\n",
              " 'strategies',\n",
              " 'statistically significant',\n",
              " 'services',\n",
              " 'develop',\n",
              " 'clinical practice',\n",
              " 'maintenance',\n",
              " 'grssixtythree',\n",
              " 'policy',\n",
              " 'address',\n",
              " 'initial',\n",
              " 'led',\n",
              " 'training',\n",
              " 'additional',\n",
              " 'major',\n",
              " 'findings suggest',\n",
              " 'attention',\n",
              " 'alternative',\n",
              " 'snp',\n",
              " 'blood pressure',\n",
              " 'evaluation',\n",
              " 'caution',\n",
              " 'exercise',\n",
              " 'associated lower',\n",
              " 'absence',\n",
              " 'occurred',\n",
              " 'expression',\n",
              " 'tumor',\n",
              " 'al',\n",
              " 'subjects',\n",
              " 'compared',\n",
              " 'cohorts',\n",
              " 'screening',\n",
              " 'hiv',\n",
              " 'positively',\n",
              " 'practice',\n",
              " 'home',\n",
              " 'therapy',\n",
              " 'effectiveness',\n",
              " 'samples',\n",
              " 'key',\n",
              " 'particularly',\n",
              " 'rats',\n",
              " 'birth',\n",
              " 'recommendations',\n",
              " 'associated higher',\n",
              " 'report',\n",
              " 'literature',\n",
              " 'able',\n",
              " 'given',\n",
              " 'et al',\n",
              " 'medication',\n",
              " 'memory',\n",
              " 'distribution',\n",
              " 'individual',\n",
              " 'developed',\n",
              " 'association',\n",
              " 'replication',\n",
              " 'nutritional',\n",
              " 'difference',\n",
              " 'parents',\n",
              " 'consider',\n",
              " 'students',\n",
              " 'use',\n",
              " 'crc',\n",
              " 'prevent',\n",
              " 'suggest',\n",
              " 'results support',\n",
              " 'beneficial',\n",
              " 'metastases',\n",
              " 'measure',\n",
              " 'indicate',\n",
              " 'degree',\n",
              " 'acceptable',\n",
              " 'technique',\n",
              " 'polymorphisms',\n",
              " 'fortytwo',\n",
              " 'providers',\n",
              " 'professionals',\n",
              " 'supported',\n",
              " 'day',\n",
              " 'appropriate',\n",
              " 'lifestyle',\n",
              " 'participants',\n",
              " 'dicerone',\n",
              " 'pathway',\n",
              " 'associated',\n",
              " 'prophylaxis',\n",
              " 'supports',\n",
              " 'incidence',\n",
              " 'example',\n",
              " 'importance',\n",
              " 'suitable',\n",
              " 'patients treated',\n",
              " 'surgical',\n",
              " 'proportion',\n",
              " 'angiogenin',\n",
              " 'registered',\n",
              " 'valuable',\n",
              " 'malnutrition',\n",
              " 'advantages',\n",
              " 'new',\n",
              " 'focus',\n",
              " 'therapeutic',\n",
              " 'examined',\n",
              " 'according',\n",
              " 'treatments',\n",
              " 'methods',\n",
              " 'symptoms',\n",
              " 'statistically',\n",
              " 'nctone',\n",
              " 'treating',\n",
              " 'underwent',\n",
              " 'appeared',\n",
              " 'approaches',\n",
              " 'need',\n",
              " 'relation',\n",
              " 'public',\n",
              " 'target',\n",
              " 'expected',\n",
              " 'cannabis',\n",
              " 'effectively',\n",
              " 'nineteen',\n",
              " 'thirty',\n",
              " 'commuting',\n",
              " 'medical',\n",
              " 'involving',\n",
              " 'larger',\n",
              " 'sample',\n",
              " 'crs',\n",
              " 'crs type',\n",
              " 'learning',\n",
              " 'susceptibility',\n",
              " 'make',\n",
              " 'series',\n",
              " 'education',\n",
              " 'order',\n",
              " 'bone',\n",
              " 'fourteen',\n",
              " 'promote',\n",
              " 'twentyseven',\n",
              " 'helpful',\n",
              " 'longitudinal',\n",
              " 'methylation',\n",
              " 'cancer risk',\n",
              " 'correlated',\n",
              " 'improving',\n",
              " 'ninetyfive',\n",
              " 'appears',\n",
              " 'condition',\n",
              " 'results provide',\n",
              " 'caused',\n",
              " 'barriers',\n",
              " 'conducted',\n",
              " 'program',\n",
              " 'respectively',\n",
              " 'bmd',\n",
              " 'provided',\n",
              " 'adiposity',\n",
              " 'finding',\n",
              " 'suggests',\n",
              " 'regular',\n",
              " 'developing',\n",
              " 'wide',\n",
              " 'cycles',\n",
              " 'anesthesia',\n",
              " 'physicians',\n",
              " 'tested',\n",
              " 'opioid',\n",
              " 'used',\n",
              " 'pediatric',\n",
              " 'metastatic',\n",
              " 'skills',\n",
              " 'retrospective',\n",
              " 'intensive',\n",
              " 'findings support',\n",
              " 'invasive',\n",
              " 'option',\n",
              " 'therapies',\n",
              " 'twentyfive',\n",
              " 'metastasis',\n",
              " 'mice',\n",
              " 'seven',\n",
              " 'adult',\n",
              " 'scale',\n",
              " 'nutrition',\n",
              " 'snps',\n",
              " 'values',\n",
              " 'visual',\n",
              " 'treat',\n",
              " 'clinicaltrialsgov',\n",
              " 'taken',\n",
              " 'critical',\n",
              " 'zeroone',\n",
              " 'conization',\n",
              " 'models',\n",
              " 'peripheral',\n",
              " 'interval',\n",
              " 'programs',\n",
              " 'identification',\n",
              " 'considering',\n",
              " 'efforts',\n",
              " 'genes',\n",
              " 'direct',\n",
              " 'cells',\n",
              " 'metaanalysis',\n",
              " 'achieve',\n",
              " 'followed',\n",
              " 'monitoring',\n",
              " 'million thousand',\n",
              " 'seventy',\n",
              " 'consistent',\n",
              " 'studies needed',\n",
              " 'short',\n",
              " 'burden',\n",
              " 'techniques',\n",
              " 'mechanism',\n",
              " 'death',\n",
              " 'independent',\n",
              " 'ninetyeight',\n",
              " 'pathways',\n",
              " 'routine',\n",
              " 'implementation',\n",
              " 'reduces',\n",
              " 'approach',\n",
              " 'citation',\n",
              " 'interventions',\n",
              " 'perform',\n",
              " 'detected',\n",
              " 'provide',\n",
              " 'resulted',\n",
              " 'genotype',\n",
              " 'polymorphism',\n",
              " 'human',\n",
              " 'cohort',\n",
              " 'family',\n",
              " 'abnormal',\n",
              " 'defined',\n",
              " 'involved',\n",
              " 'targeted',\n",
              " 'offer',\n",
              " 'figure',\n",
              " 'feasible',\n",
              " 'days',\n",
              " 'thirtyone',\n",
              " 'public health',\n",
              " 'statistical',\n",
              " 'later',\n",
              " 'treatment option',\n",
              " 'identified',\n",
              " 'support',\n",
              " 'hypothesis',\n",
              " 'require',\n",
              " 'ldl',\n",
              " 'age',\n",
              " 'assessment',\n",
              " 'help',\n",
              " 'application',\n",
              " 'density',\n",
              " 'relevant',\n",
              " 'measurement',\n",
              " 'verbal',\n",
              " 'simple',\n",
              " 'chemotherapy',\n",
              " 'treatment',\n",
              " 'optimal',\n",
              " 'consideration',\n",
              " 'intraoperative',\n",
              " 'thickness',\n",
              " 'significant difference',\n",
              " 'psychological',\n",
              " 'frequently',\n",
              " 'standard',\n",
              " 'variation',\n",
              " 'planning',\n",
              " 'highly',\n",
              " 'ninetyseven']"
            ]
          },
          "execution_count": 24,
          "metadata": {},
          "output_type": "execute_result"
        }
      ],
      "source": [
        "chosen_features"
      ]
    },
    {
      "attachments": {},
      "cell_type": "markdown",
      "metadata": {
        "id": "vhgOQmjkBq78"
      },
      "source": [
        "### Leave only chosen features:\n",
        "Now that we deduced which features are \"important\" based on the train set, we select them for both the train set and the test set.  "
      ]
    },
    {
      "cell_type": "code",
      "execution_count": 25,
      "metadata": {
        "colab": {
          "base_uri": "https://localhost:8080/",
          "height": 255
        },
        "id": "w4bY4gmWBrGe",
        "outputId": "7eb8a290-d5b3-45d0-8b58-6821b5654c8f"
      },
      "outputs": [
        {
          "data": {
            "text/html": [
              "<div>\n",
              "<style scoped>\n",
              "    .dataframe tbody tr th:only-of-type {\n",
              "        vertical-align: middle;\n",
              "    }\n",
              "\n",
              "    .dataframe tbody tr th {\n",
              "        vertical-align: top;\n",
              "    }\n",
              "\n",
              "    .dataframe thead th {\n",
              "        text-align: right;\n",
              "    }\n",
              "</style>\n",
              "<table border=\"1\" class=\"dataframe\">\n",
              "  <thead>\n",
              "    <tr style=\"text-align: right;\">\n",
              "      <th></th>\n",
              "      <th>associated increased</th>\n",
              "      <th>furthermore</th>\n",
              "      <th>schizophrenia</th>\n",
              "      <th>received</th>\n",
              "      <th>rehabilitation</th>\n",
              "      <th>analgesia</th>\n",
              "      <th>tnf</th>\n",
              "      <th>nctone million</th>\n",
              "      <th>significance</th>\n",
              "      <th>findings provide</th>\n",
              "      <th>...</th>\n",
              "      <th>thickness</th>\n",
              "      <th>significant difference</th>\n",
              "      <th>psychological</th>\n",
              "      <th>frequently</th>\n",
              "      <th>standard</th>\n",
              "      <th>variation</th>\n",
              "      <th>planning</th>\n",
              "      <th>highly</th>\n",
              "      <th>ninetyseven</th>\n",
              "      <th>_label_</th>\n",
              "    </tr>\n",
              "  </thead>\n",
              "  <tbody>\n",
              "    <tr>\n",
              "      <th>0</th>\n",
              "      <td>0</td>\n",
              "      <td>0</td>\n",
              "      <td>0</td>\n",
              "      <td>0</td>\n",
              "      <td>0</td>\n",
              "      <td>0</td>\n",
              "      <td>0</td>\n",
              "      <td>0</td>\n",
              "      <td>0</td>\n",
              "      <td>0</td>\n",
              "      <td>...</td>\n",
              "      <td>0</td>\n",
              "      <td>0</td>\n",
              "      <td>0</td>\n",
              "      <td>0</td>\n",
              "      <td>0</td>\n",
              "      <td>0</td>\n",
              "      <td>0</td>\n",
              "      <td>0</td>\n",
              "      <td>0</td>\n",
              "      <td>0</td>\n",
              "    </tr>\n",
              "    <tr>\n",
              "      <th>1</th>\n",
              "      <td>0</td>\n",
              "      <td>1</td>\n",
              "      <td>0</td>\n",
              "      <td>0</td>\n",
              "      <td>0</td>\n",
              "      <td>0</td>\n",
              "      <td>0</td>\n",
              "      <td>0</td>\n",
              "      <td>0</td>\n",
              "      <td>0</td>\n",
              "      <td>...</td>\n",
              "      <td>0</td>\n",
              "      <td>0</td>\n",
              "      <td>0</td>\n",
              "      <td>0</td>\n",
              "      <td>0</td>\n",
              "      <td>0</td>\n",
              "      <td>0</td>\n",
              "      <td>0</td>\n",
              "      <td>0</td>\n",
              "      <td>0</td>\n",
              "    </tr>\n",
              "    <tr>\n",
              "      <th>2</th>\n",
              "      <td>0</td>\n",
              "      <td>0</td>\n",
              "      <td>0</td>\n",
              "      <td>0</td>\n",
              "      <td>0</td>\n",
              "      <td>0</td>\n",
              "      <td>0</td>\n",
              "      <td>0</td>\n",
              "      <td>0</td>\n",
              "      <td>0</td>\n",
              "      <td>...</td>\n",
              "      <td>0</td>\n",
              "      <td>0</td>\n",
              "      <td>0</td>\n",
              "      <td>0</td>\n",
              "      <td>0</td>\n",
              "      <td>0</td>\n",
              "      <td>0</td>\n",
              "      <td>0</td>\n",
              "      <td>0</td>\n",
              "      <td>0</td>\n",
              "    </tr>\n",
              "    <tr>\n",
              "      <th>3</th>\n",
              "      <td>0</td>\n",
              "      <td>0</td>\n",
              "      <td>0</td>\n",
              "      <td>0</td>\n",
              "      <td>0</td>\n",
              "      <td>0</td>\n",
              "      <td>0</td>\n",
              "      <td>0</td>\n",
              "      <td>0</td>\n",
              "      <td>0</td>\n",
              "      <td>...</td>\n",
              "      <td>0</td>\n",
              "      <td>0</td>\n",
              "      <td>0</td>\n",
              "      <td>0</td>\n",
              "      <td>0</td>\n",
              "      <td>0</td>\n",
              "      <td>0</td>\n",
              "      <td>0</td>\n",
              "      <td>0</td>\n",
              "      <td>0</td>\n",
              "    </tr>\n",
              "    <tr>\n",
              "      <th>4</th>\n",
              "      <td>0</td>\n",
              "      <td>0</td>\n",
              "      <td>0</td>\n",
              "      <td>0</td>\n",
              "      <td>0</td>\n",
              "      <td>0</td>\n",
              "      <td>0</td>\n",
              "      <td>0</td>\n",
              "      <td>0</td>\n",
              "      <td>0</td>\n",
              "      <td>...</td>\n",
              "      <td>0</td>\n",
              "      <td>0</td>\n",
              "      <td>0</td>\n",
              "      <td>0</td>\n",
              "      <td>0</td>\n",
              "      <td>0</td>\n",
              "      <td>0</td>\n",
              "      <td>0</td>\n",
              "      <td>0</td>\n",
              "      <td>0</td>\n",
              "    </tr>\n",
              "  </tbody>\n",
              "</table>\n",
              "<p>5 rows × 403 columns</p>\n",
              "</div>"
            ],
            "text/plain": [
              "   associated increased  furthermore  schizophrenia  received  rehabilitation  \\\n",
              "0                     0            0              0         0               0   \n",
              "1                     0            1              0         0               0   \n",
              "2                     0            0              0         0               0   \n",
              "3                     0            0              0         0               0   \n",
              "4                     0            0              0         0               0   \n",
              "\n",
              "   analgesia  tnf  nctone million  significance  findings provide  ...  \\\n",
              "0          0    0               0             0                 0  ...   \n",
              "1          0    0               0             0                 0  ...   \n",
              "2          0    0               0             0                 0  ...   \n",
              "3          0    0               0             0                 0  ...   \n",
              "4          0    0               0             0                 0  ...   \n",
              "\n",
              "   thickness  significant difference  psychological  frequently  standard  \\\n",
              "0          0                       0              0           0         0   \n",
              "1          0                       0              0           0         0   \n",
              "2          0                       0              0           0         0   \n",
              "3          0                       0              0           0         0   \n",
              "4          0                       0              0           0         0   \n",
              "\n",
              "   variation  planning  highly  ninetyseven  _label_  \n",
              "0          0         0       0            0        0  \n",
              "1          0         0       0            0        0  \n",
              "2          0         0       0            0        0  \n",
              "3          0         0       0            0        0  \n",
              "4          0         0       0            0        0  \n",
              "\n",
              "[5 rows x 403 columns]"
            ]
          },
          "execution_count": 25,
          "metadata": {},
          "output_type": "execute_result"
        }
      ],
      "source": [
        "dataset_feat_eng_train_selected = dataset_feat_eng_train.filter(chosen_features + [\"_label_\"])\n",
        "dataset_feat_eng_test_selected = dataset_feat_eng_test.filter(chosen_features + [\"_label_\"])\n",
        "\n",
        "dataset_feat_eng_train_selected.head()"
      ]
    },
    {
      "cell_type": "code",
      "execution_count": 26,
      "metadata": {
        "colab": {
          "base_uri": "https://localhost:8080/"
        },
        "id": "5jiW-llRT4VK",
        "outputId": "b33b59e0-acc5-41d6-ec41-e06dfe67dc06"
      },
      "outputs": [
        {
          "data": {
            "text/plain": [
              "_label_\n",
              "0    4845\n",
              "1    1662\n",
              "Name: count, dtype: int64"
            ]
          },
          "execution_count": 26,
          "metadata": {},
          "output_type": "execute_result"
        }
      ],
      "source": [
        "dataset_feat_eng_train_selected[\"_label_\"].value_counts()"
      ]
    },
    {
      "attachments": {},
      "cell_type": "markdown",
      "metadata": {
        "id": "4JAQspmJCwfT"
      },
      "source": [
        "# Machine Learning   \n"
      ]
    },
    {
      "cell_type": "code",
      "execution_count": 27,
      "metadata": {
        "colab": {
          "base_uri": "https://localhost:8080/",
          "height": 255
        },
        "id": "QIVm-heY6AdA",
        "outputId": "83476c52-2560-4433-ba4f-3fdeaf7c9c9c"
      },
      "outputs": [
        {
          "data": {
            "text/html": [
              "<div>\n",
              "<style scoped>\n",
              "    .dataframe tbody tr th:only-of-type {\n",
              "        vertical-align: middle;\n",
              "    }\n",
              "\n",
              "    .dataframe tbody tr th {\n",
              "        vertical-align: top;\n",
              "    }\n",
              "\n",
              "    .dataframe thead th {\n",
              "        text-align: right;\n",
              "    }\n",
              "</style>\n",
              "<table border=\"1\" class=\"dataframe\">\n",
              "  <thead>\n",
              "    <tr style=\"text-align: right;\">\n",
              "      <th></th>\n",
              "      <th>associated increased</th>\n",
              "      <th>furthermore</th>\n",
              "      <th>schizophrenia</th>\n",
              "      <th>received</th>\n",
              "      <th>rehabilitation</th>\n",
              "      <th>analgesia</th>\n",
              "      <th>tnf</th>\n",
              "      <th>nctone million</th>\n",
              "      <th>significance</th>\n",
              "      <th>findings provide</th>\n",
              "      <th>...</th>\n",
              "      <th>thickness</th>\n",
              "      <th>significant difference</th>\n",
              "      <th>psychological</th>\n",
              "      <th>frequently</th>\n",
              "      <th>standard</th>\n",
              "      <th>variation</th>\n",
              "      <th>planning</th>\n",
              "      <th>highly</th>\n",
              "      <th>ninetyseven</th>\n",
              "      <th>_label_</th>\n",
              "    </tr>\n",
              "  </thead>\n",
              "  <tbody>\n",
              "    <tr>\n",
              "      <th>0</th>\n",
              "      <td>0</td>\n",
              "      <td>0</td>\n",
              "      <td>0</td>\n",
              "      <td>0</td>\n",
              "      <td>0</td>\n",
              "      <td>0</td>\n",
              "      <td>0</td>\n",
              "      <td>0</td>\n",
              "      <td>0</td>\n",
              "      <td>0</td>\n",
              "      <td>...</td>\n",
              "      <td>0</td>\n",
              "      <td>0</td>\n",
              "      <td>0</td>\n",
              "      <td>0</td>\n",
              "      <td>0</td>\n",
              "      <td>0</td>\n",
              "      <td>0</td>\n",
              "      <td>0</td>\n",
              "      <td>0</td>\n",
              "      <td>0</td>\n",
              "    </tr>\n",
              "    <tr>\n",
              "      <th>1</th>\n",
              "      <td>0</td>\n",
              "      <td>1</td>\n",
              "      <td>0</td>\n",
              "      <td>0</td>\n",
              "      <td>0</td>\n",
              "      <td>0</td>\n",
              "      <td>0</td>\n",
              "      <td>0</td>\n",
              "      <td>0</td>\n",
              "      <td>0</td>\n",
              "      <td>...</td>\n",
              "      <td>0</td>\n",
              "      <td>0</td>\n",
              "      <td>0</td>\n",
              "      <td>0</td>\n",
              "      <td>0</td>\n",
              "      <td>0</td>\n",
              "      <td>0</td>\n",
              "      <td>0</td>\n",
              "      <td>0</td>\n",
              "      <td>0</td>\n",
              "    </tr>\n",
              "    <tr>\n",
              "      <th>2</th>\n",
              "      <td>0</td>\n",
              "      <td>0</td>\n",
              "      <td>0</td>\n",
              "      <td>0</td>\n",
              "      <td>0</td>\n",
              "      <td>0</td>\n",
              "      <td>0</td>\n",
              "      <td>0</td>\n",
              "      <td>0</td>\n",
              "      <td>0</td>\n",
              "      <td>...</td>\n",
              "      <td>0</td>\n",
              "      <td>0</td>\n",
              "      <td>0</td>\n",
              "      <td>0</td>\n",
              "      <td>0</td>\n",
              "      <td>0</td>\n",
              "      <td>0</td>\n",
              "      <td>0</td>\n",
              "      <td>0</td>\n",
              "      <td>0</td>\n",
              "    </tr>\n",
              "    <tr>\n",
              "      <th>3</th>\n",
              "      <td>0</td>\n",
              "      <td>0</td>\n",
              "      <td>0</td>\n",
              "      <td>0</td>\n",
              "      <td>0</td>\n",
              "      <td>0</td>\n",
              "      <td>0</td>\n",
              "      <td>0</td>\n",
              "      <td>0</td>\n",
              "      <td>0</td>\n",
              "      <td>...</td>\n",
              "      <td>0</td>\n",
              "      <td>0</td>\n",
              "      <td>0</td>\n",
              "      <td>0</td>\n",
              "      <td>0</td>\n",
              "      <td>0</td>\n",
              "      <td>0</td>\n",
              "      <td>0</td>\n",
              "      <td>0</td>\n",
              "      <td>0</td>\n",
              "    </tr>\n",
              "    <tr>\n",
              "      <th>4</th>\n",
              "      <td>0</td>\n",
              "      <td>0</td>\n",
              "      <td>0</td>\n",
              "      <td>0</td>\n",
              "      <td>0</td>\n",
              "      <td>0</td>\n",
              "      <td>0</td>\n",
              "      <td>0</td>\n",
              "      <td>0</td>\n",
              "      <td>0</td>\n",
              "      <td>...</td>\n",
              "      <td>0</td>\n",
              "      <td>0</td>\n",
              "      <td>0</td>\n",
              "      <td>0</td>\n",
              "      <td>0</td>\n",
              "      <td>0</td>\n",
              "      <td>0</td>\n",
              "      <td>0</td>\n",
              "      <td>0</td>\n",
              "      <td>0</td>\n",
              "    </tr>\n",
              "  </tbody>\n",
              "</table>\n",
              "<p>5 rows × 403 columns</p>\n",
              "</div>"
            ],
            "text/plain": [
              "   associated increased  furthermore  schizophrenia  received  rehabilitation  \\\n",
              "0                     0            0              0         0               0   \n",
              "1                     0            1              0         0               0   \n",
              "2                     0            0              0         0               0   \n",
              "3                     0            0              0         0               0   \n",
              "4                     0            0              0         0               0   \n",
              "\n",
              "   analgesia  tnf  nctone million  significance  findings provide  ...  \\\n",
              "0          0    0               0             0                 0  ...   \n",
              "1          0    0               0             0                 0  ...   \n",
              "2          0    0               0             0                 0  ...   \n",
              "3          0    0               0             0                 0  ...   \n",
              "4          0    0               0             0                 0  ...   \n",
              "\n",
              "   thickness  significant difference  psychological  frequently  standard  \\\n",
              "0          0                       0              0           0         0   \n",
              "1          0                       0              0           0         0   \n",
              "2          0                       0              0           0         0   \n",
              "3          0                       0              0           0         0   \n",
              "4          0                       0              0           0         0   \n",
              "\n",
              "   variation  planning  highly  ninetyseven  _label_  \n",
              "0          0         0       0            0        0  \n",
              "1          0         0       0            0        0  \n",
              "2          0         0       0            0        0  \n",
              "3          0         0       0            0        0  \n",
              "4          0         0       0            0        0  \n",
              "\n",
              "[5 rows x 403 columns]"
            ]
          },
          "execution_count": 27,
          "metadata": {},
          "output_type": "execute_result"
        }
      ],
      "source": [
        "dataset_feat_eng_train_selected.head()"
      ]
    },
    {
      "attachments": {},
      "cell_type": "markdown",
      "metadata": {
        "id": "ffIH343jLKRs"
      },
      "source": [
        "Parse out the Y labels from the dataset, and change the variable type to suit the models."
      ]
    },
    {
      "cell_type": "code",
      "execution_count": 28,
      "metadata": {
        "id": "ox0X7mDgLKg1"
      },
      "outputs": [],
      "source": [
        "x_features_train = dataset_feat_eng_train_selected.values[:, 0:-1]\n",
        "y_labels_train = dataset_feat_eng_train_selected.values[:, -1]\n",
        "\n",
        "x_features_test = dataset_feat_eng_test_selected.values[:, :-1]\n",
        "y_labels_test = dataset_feat_eng_test_selected.values[:, -1]"
      ]
    },
    {
      "attachments": {},
      "cell_type": "markdown",
      "metadata": {
        "id": "SDAccMSXDD7N"
      },
      "source": [
        "#### Iterate over ML models"
      ]
    },
    {
      "cell_type": "code",
      "execution_count": 29,
      "metadata": {
        "colab": {
          "base_uri": "https://localhost:8080/"
        },
        "id": "lJyaQVzyDETH",
        "outputId": "f65fb64e-0d48-4457-c720-295f2a6d0c40"
      },
      "outputs": [
        {
          "name": "stdout",
          "output_type": "stream",
          "text": [
            "Random Forest: mean(accuracy)=0.817, std(accuracy)=0.012\n",
            "LASSO: mean(accuracy)=0.845, std(accuracy)=0.017\n",
            "KNN: mean(accuracy)=0.792, std(accuracy)=0.011\n",
            "Decision Tree: mean(accuracy)=0.801, std(accuracy)=0.015\n",
            "SVM: mean(accuracy)=0.746, std(accuracy)=0.001\n",
            "\n",
            "Best model is:\n",
            "LASSO\n"
          ]
        }
      ],
      "source": [
        "models = []\n",
        "models.append((\"Random Forest\", RandomForestClassifier(random_state=config_dict['seed'])))\n",
        "models.append((\"LASSO\", lm.LogisticRegression(solver='liblinear', penalty='l1', max_iter=1000, random_state=config_dict['seed'])))\n",
        "models.append((\"KNN\", KNeighborsClassifier()))\n",
        "models.append((\"Decision Tree\", DecisionTreeClassifier(random_state=config_dict['seed'])))\n",
        "models.append((\"SVM\", SVC(gamma='auto', random_state=config_dict['seed'])))\n",
        "\n",
        "results = []\n",
        "names = []\n",
        "best_mean_result = 0\n",
        "best_std_result = 0\n",
        "for name, model in models:\n",
        "    kfold = StratifiedKFold()\n",
        "    cv_results = cross_val_score(model, X=x_features_train, y=y_labels_train, scoring='accuracy', cv=kfold)\n",
        "    results.append(cv_results)\n",
        "    names.append(name)\n",
        "    print(name + \": mean(accuracy)=\" + str(round(np.mean(cv_results), 3)) + \", std(accuracy)=\" + str(round(np.std(cv_results), 3)))\n",
        "    if (best_mean_result < np.mean(cv_results)) or ((best_mean_result == np.mean(cv_results)) and (best_std_result > np.std(cv_results))):\n",
        "        best_mean_result = np.mean(cv_results)\n",
        "        best_std_result = np.std(cv_results)\n",
        "        best_model_name = name\n",
        "        best_model = model\n",
        "\n",
        "print(\"\\nBest model is:\\n\" + best_model_name)"
      ]
    },
    {
      "attachments": {},
      "cell_type": "markdown",
      "metadata": {
        "id": "5HUN7jJE1IcP"
      },
      "source": [
        "Observe the distribution of the results across the validation folds:"
      ]
    },
    {
      "cell_type": "code",
      "execution_count": 30,
      "metadata": {
        "colab": {
          "base_uri": "https://localhost:8080/",
          "height": 452
        },
        "id": "sx1tB-Vw1IuI",
        "outputId": "5da3c0da-f5e7-4163-ac9c-b797e63f634c"
      },
      "outputs": [
        {
          "name": "stderr",
          "output_type": "stream",
          "text": [
            "C:\\Users\\laven\\AppData\\Local\\Temp\\ipykernel_5072\\2224076768.py:1: MatplotlibDeprecationWarning: The 'labels' parameter of boxplot() has been renamed 'tick_labels' since Matplotlib 3.9; support for the old name will be dropped in 3.11.\n",
            "  matplotlib.pyplot.boxplot(results, labels=names)\n"
          ]
        },
        {
          "data": {
            "image/png": "[encoded data removed]",
            "text/plain": [
              "<Figure size 640x480 with 1 Axes>"
            ]
          },
          "metadata": {},
          "output_type": "display_data"
        }
      ],
      "source": [
        "matplotlib.pyplot.boxplot(results, labels=names)\n",
        "matplotlib.pyplot.title(\"Models' results' distribution of accuracy\")\n",
        "matplotlib.pyplot.show()"
      ]
    },
    {
      "attachments": {},
      "cell_type": "markdown",
      "metadata": {
        "id": "w6HrRE6U1YBS"
      },
      "source": [
        "### Generate the chosen model"
      ]
    },
    {
      "attachments": {},
      "cell_type": "markdown",
      "metadata": {
        "id": "oODOQLuOoFc2"
      },
      "source": [
        "Optimize the hyperparameters:"
      ]
    },
    {
      "cell_type": "code",
      "execution_count": 31,
      "metadata": {
        "colab": {
          "base_uri": "https://localhost:8080/"
        },
        "id": "PA6QOmgf1YQD",
        "outputId": "e9fe387f-7f2d-4434-bf4e-3028b5594ae6"
      },
      "outputs": [
        {
          "name": "stdout",
          "output_type": "stream",
          "text": [
            "The optimal hyperparameter 'C' is: 2.1060526315789474\n"
          ]
        }
      ],
      "source": [
        "model = lm.LogisticRegression(solver='liblinear', penalty='l1', max_iter=1000, random_state=config_dict['seed'])\n",
        "params = {\"C\": np.linspace(start=0.001, stop=10, num=20)}\n",
        "grid_search = GridSearchCV(model, params, scoring='accuracy')\n",
        "grid_search.fit(x_features_train, y_labels_train)\n",
        "\n",
        "print(\"The optimal hyperparameter 'C' is:\", grid_search.best_params_[\"C\"])"
      ]
    },
    {
      "attachments": {},
      "cell_type": "markdown",
      "metadata": {
        "id": "DjK2e9GaoO34"
      },
      "source": [
        "Fit the optimized model to the training set:"
      ]
    },
    {
      "cell_type": "code",
      "execution_count": 32,
      "metadata": {
        "colab": {
          "base_uri": "https://localhost:8080/",
          "height": 74
        },
        "id": "KC8baVMOoPHk",
        "outputId": "c3af6863-cbaf-4c82-9ff3-deda1be6ca8a"
      },
      "outputs": [
        {
          "data": {
            "text/html": [
              "<style>#sk-container-id-1 {\n",
              "  /* Definition of color scheme common for light and dark mode */\n",
              "  --sklearn-color-text: black;\n",
              "  --sklearn-color-line: gray;\n",
              "  /* Definition of color scheme for unfitted estimators */\n",
              "  --sklearn-color-unfitted-level-0: #fff5e6;\n",
              "  --sklearn-color-unfitted-level-1: #f6e4d2;\n",
              "  --sklearn-color-unfitted-level-2: #ffe0b3;\n",
              "  --sklearn-color-unfitted-level-3: chocolate;\n",
              "  /* Definition of color scheme for fitted estimators */\n",
              "  --sklearn-color-fitted-level-0: #f0f8ff;\n",
              "  --sklearn-color-fitted-level-1: #d4ebff;\n",
              "  --sklearn-color-fitted-level-2: #b3dbfd;\n",
              "  --sklearn-color-fitted-level-3: cornflowerblue;\n",
              "\n",
              "  /* Specific color for light theme */\n",
              "  --sklearn-color-text-on-default-background: var(--sg-text-color, var(--theme-code-foreground, var(--jp-content-font-color1, black)));\n",
              "  --sklearn-color-background: var(--sg-background-color, var(--theme-background, var(--jp-layout-color0, white)));\n",
              "  --sklearn-color-border-box: var(--sg-text-color, var(--theme-code-foreground, var(--jp-content-font-color1, black)));\n",
              "  --sklearn-color-icon: #696969;\n",
              "\n",
              "  @media (prefers-color-scheme: dark) {\n",
              "    /* Redefinition of color scheme for dark theme */\n",
              "    --sklearn-color-text-on-default-background: var(--sg-text-color, var(--theme-code-foreground, var(--jp-content-font-color1, white)));\n",
              "    --sklearn-color-background: var(--sg-background-color, var(--theme-background, var(--jp-layout-color0, #111)));\n",
              "    --sklearn-color-border-box: var(--sg-text-color, var(--theme-code-foreground, var(--jp-content-font-color1, white)));\n",
              "    --sklearn-color-icon: #878787;\n",
              "  }\n",
              "}\n",
              "\n",
              "#sk-container-id-1 {\n",
              "  color: var(--sklearn-color-text);\n",
              "}\n",
              "\n",
              "#sk-container-id-1 pre {\n",
              "  padding: 0;\n",
              "}\n",
              "\n",
              "#sk-container-id-1 input.sk-hidden--visually {\n",
              "  border: 0;\n",
              "  clip: rect(1px 1px 1px 1px);\n",
              "  clip: rect(1px, 1px, 1px, 1px);\n",
              "  height: 1px;\n",
              "  margin: -1px;\n",
              "  overflow: hidden;\n",
              "  padding: 0;\n",
              "  position: absolute;\n",
              "  width: 1px;\n",
              "}\n",
              "\n",
              "#sk-container-id-1 div.sk-dashed-wrapped {\n",
              "  border: 1px dashed var(--sklearn-color-line);\n",
              "  margin: 0 0.4em 0.5em 0.4em;\n",
              "  box-sizing: border-box;\n",
              "  padding-bottom: 0.4em;\n",
              "  background-color: var(--sklearn-color-background);\n",
              "}\n",
              "\n",
              "#sk-container-id-1 div.sk-container {\n",
              "  /* jupyter's `normalize.less` sets `[hidden] { display: none; }`\n",
              "     but bootstrap.min.css set `[hidden] { display: none !important; }`\n",
              "     so we also need the `!important` here to be able to override the\n",
              "     default hidden behavior on the sphinx rendered scikit-learn.org.\n",
              "     See: https://github.com/scikit-learn/scikit-learn/issues/21755 */\n",
              "  display: inline-block !important;\n",
              "  position: relative;\n",
              "}\n",
              "\n",
              "#sk-container-id-1 div.sk-text-repr-fallback {\n",
              "  display: none;\n",
              "}\n",
              "\n",
              "div.sk-parallel-item,\n",
              "div.sk-serial,\n",
              "div.sk-item {\n",
              "  /* draw centered vertical line to link estimators */\n",
              "  background-image: linear-gradient(var(--sklearn-color-text-on-default-background), var(--sklearn-color-text-on-default-background));\n",
              "  background-size: 2px 100%;\n",
              "  background-repeat: no-repeat;\n",
              "  background-position: center center;\n",
              "}\n",
              "\n",
              "/* Parallel-specific style estimator block */\n",
              "\n",
              "#sk-container-id-1 div.sk-parallel-item::after {\n",
              "  content: \"\";\n",
              "  width: 100%;\n",
              "  border-bottom: 2px solid var(--sklearn-color-text-on-default-background);\n",
              "  flex-grow: 1;\n",
              "}\n",
              "\n",
              "#sk-container-id-1 div.sk-parallel {\n",
              "  display: flex;\n",
              "  align-items: stretch;\n",
              "  justify-content: center;\n",
              "  background-color: var(--sklearn-color-background);\n",
              "  position: relative;\n",
              "}\n",
              "\n",
              "#sk-container-id-1 div.sk-parallel-item {\n",
              "  display: flex;\n",
              "  flex-direction: column;\n",
              "}\n",
              "\n",
              "#sk-container-id-1 div.sk-parallel-item:first-child::after {\n",
              "  align-self: flex-end;\n",
              "  width: 50%;\n",
              "}\n",
              "\n",
              "#sk-container-id-1 div.sk-parallel-item:last-child::after {\n",
              "  align-self: flex-start;\n",
              "  width: 50%;\n",
              "}\n",
              "\n",
              "#sk-container-id-1 div.sk-parallel-item:only-child::after {\n",
              "  width: 0;\n",
              "}\n",
              "\n",
              "/* Serial-specific style estimator block */\n",
              "\n",
              "#sk-container-id-1 div.sk-serial {\n",
              "  display: flex;\n",
              "  flex-direction: column;\n",
              "  align-items: center;\n",
              "  background-color: var(--sklearn-color-background);\n",
              "  padding-right: 1em;\n",
              "  padding-left: 1em;\n",
              "}\n",
              "\n",
              "\n",
              "/* Toggleable style: style used for estimator/Pipeline/ColumnTransformer box that is\n",
              "clickable and can be expanded/collapsed.\n",
              "- Pipeline and ColumnTransformer use this feature and define the default style\n",
              "- Estimators will overwrite some part of the style using the `sk-estimator` class\n",
              "*/\n",
              "\n",
              "/* Pipeline and ColumnTransformer style (default) */\n",
              "\n",
              "#sk-container-id-1 div.sk-toggleable {\n",
              "  /* Default theme specific background. It is overwritten whether we have a\n",
              "  specific estimator or a Pipeline/ColumnTransformer */\n",
              "  background-color: var(--sklearn-color-background);\n",
              "}\n",
              "\n",
              "/* Toggleable label */\n",
              "#sk-container-id-1 label.sk-toggleable__label {\n",
              "  cursor: pointer;\n",
              "  display: block;\n",
              "  width: 100%;\n",
              "  margin-bottom: 0;\n",
              "  padding: 0.5em;\n",
              "  box-sizing: border-box;\n",
              "  text-align: center;\n",
              "}\n",
              "\n",
              "#sk-container-id-1 label.sk-toggleable__label-arrow:before {\n",
              "  /* Arrow on the left of the label */\n",
              "  content: \"▸\";\n",
              "  float: left;\n",
              "  margin-right: 0.25em;\n",
              "  color: var(--sklearn-color-icon);\n",
              "}\n",
              "\n",
              "#sk-container-id-1 label.sk-toggleable__label-arrow:hover:before {\n",
              "  color: var(--sklearn-color-text);\n",
              "}\n",
              "\n",
              "/* Toggleable content - dropdown */\n",
              "\n",
              "#sk-container-id-1 div.sk-toggleable__content {\n",
              "  max-height: 0;\n",
              "  max-width: 0;\n",
              "  overflow: hidden;\n",
              "  text-align: left;\n",
              "  /* unfitted */\n",
              "  background-color: var(--sklearn-color-unfitted-level-0);\n",
              "}\n",
              "\n",
              "#sk-container-id-1 div.sk-toggleable__content.fitted {\n",
              "  /* fitted */\n",
              "  background-color: var(--sklearn-color-fitted-level-0);\n",
              "}\n",
              "\n",
              "#sk-container-id-1 div.sk-toggleable__content pre {\n",
              "  margin: 0.2em;\n",
              "  border-radius: 0.25em;\n",
              "  color: var(--sklearn-color-text);\n",
              "  /* unfitted */\n",
              "  background-color: var(--sklearn-color-unfitted-level-0);\n",
              "}\n",
              "\n",
              "#sk-container-id-1 div.sk-toggleable__content.fitted pre {\n",
              "  /* unfitted */\n",
              "  background-color: var(--sklearn-color-fitted-level-0);\n",
              "}\n",
              "\n",
              "#sk-container-id-1 input.sk-toggleable__control:checked~div.sk-toggleable__content {\n",
              "  /* Expand drop-down */\n",
              "  max-height: 200px;\n",
              "  max-width: 100%;\n",
              "  overflow: auto;\n",
              "}\n",
              "\n",
              "#sk-container-id-1 input.sk-toggleable__control:checked~label.sk-toggleable__label-arrow:before {\n",
              "  content: \"▾\";\n",
              "}\n",
              "\n",
              "/* Pipeline/ColumnTransformer-specific style */\n",
              "\n",
              "#sk-container-id-1 div.sk-label input.sk-toggleable__control:checked~label.sk-toggleable__label {\n",
              "  color: var(--sklearn-color-text);\n",
              "  background-color: var(--sklearn-color-unfitted-level-2);\n",
              "}\n",
              "\n",
              "#sk-container-id-1 div.sk-label.fitted input.sk-toggleable__control:checked~label.sk-toggleable__label {\n",
              "  background-color: var(--sklearn-color-fitted-level-2);\n",
              "}\n",
              "\n",
              "/* Estimator-specific style */\n",
              "\n",
              "/* Colorize estimator box */\n",
              "#sk-container-id-1 div.sk-estimator input.sk-toggleable__control:checked~label.sk-toggleable__label {\n",
              "  /* unfitted */\n",
              "  background-color: var(--sklearn-color-unfitted-level-2);\n",
              "}\n",
              "\n",
              "#sk-container-id-1 div.sk-estimator.fitted input.sk-toggleable__control:checked~label.sk-toggleable__label {\n",
              "  /* fitted */\n",
              "  background-color: var(--sklearn-color-fitted-level-2);\n",
              "}\n",
              "\n",
              "#sk-container-id-1 div.sk-label label.sk-toggleable__label,\n",
              "#sk-container-id-1 div.sk-label label {\n",
              "  /* The background is the default theme color */\n",
              "  color: var(--sklearn-color-text-on-default-background);\n",
              "}\n",
              "\n",
              "/* On hover, darken the color of the background */\n",
              "#sk-container-id-1 div.sk-label:hover label.sk-toggleable__label {\n",
              "  color: var(--sklearn-color-text);\n",
              "  background-color: var(--sklearn-color-unfitted-level-2);\n",
              "}\n",
              "\n",
              "/* Label box, darken color on hover, fitted */\n",
              "#sk-container-id-1 div.sk-label.fitted:hover label.sk-toggleable__label.fitted {\n",
              "  color: var(--sklearn-color-text);\n",
              "  background-color: var(--sklearn-color-fitted-level-2);\n",
              "}\n",
              "\n",
              "/* Estimator label */\n",
              "\n",
              "#sk-container-id-1 div.sk-label label {\n",
              "  font-family: monospace;\n",
              "  font-weight: bold;\n",
              "  display: inline-block;\n",
              "  line-height: 1.2em;\n",
              "}\n",
              "\n",
              "#sk-container-id-1 div.sk-label-container {\n",
              "  text-align: center;\n",
              "}\n",
              "\n",
              "/* Estimator-specific */\n",
              "#sk-container-id-1 div.sk-estimator {\n",
              "  font-family: monospace;\n",
              "  border: 1px dotted var(--sklearn-color-border-box);\n",
              "  border-radius: 0.25em;\n",
              "  box-sizing: border-box;\n",
              "  margin-bottom: 0.5em;\n",
              "  /* unfitted */\n",
              "  background-color: var(--sklearn-color-unfitted-level-0);\n",
              "}\n",
              "\n",
              "#sk-container-id-1 div.sk-estimator.fitted {\n",
              "  /* fitted */\n",
              "  background-color: var(--sklearn-color-fitted-level-0);\n",
              "}\n",
              "\n",
              "/* on hover */\n",
              "#sk-container-id-1 div.sk-estimator:hover {\n",
              "  /* unfitted */\n",
              "  background-color: var(--sklearn-color-unfitted-level-2);\n",
              "}\n",
              "\n",
              "#sk-container-id-1 div.sk-estimator.fitted:hover {\n",
              "  /* fitted */\n",
              "  background-color: var(--sklearn-color-fitted-level-2);\n",
              "}\n",
              "\n",
              "/* Specification for estimator info (e.g. \"i\" and \"?\") */\n",
              "\n",
              "/* Common style for \"i\" and \"?\" */\n",
              "\n",
              ".sk-estimator-doc-link,\n",
              "a:link.sk-estimator-doc-link,\n",
              "a:visited.sk-estimator-doc-link {\n",
              "  float: right;\n",
              "  font-size: smaller;\n",
              "  line-height: 1em;\n",
              "  font-family: monospace;\n",
              "  background-color: var(--sklearn-color-background);\n",
              "  border-radius: 1em;\n",
              "  height: 1em;\n",
              "  width: 1em;\n",
              "  text-decoration: none !important;\n",
              "  margin-left: 1ex;\n",
              "  /* unfitted */\n",
              "  border: var(--sklearn-color-unfitted-level-1) 1pt solid;\n",
              "  color: var(--sklearn-color-unfitted-level-1);\n",
              "}\n",
              "\n",
              ".sk-estimator-doc-link.fitted,\n",
              "a:link.sk-estimator-doc-link.fitted,\n",
              "a:visited.sk-estimator-doc-link.fitted {\n",
              "  /* fitted */\n",
              "  border: var(--sklearn-color-fitted-level-1) 1pt solid;\n",
              "  color: var(--sklearn-color-fitted-level-1);\n",
              "}\n",
              "\n",
              "/* On hover */\n",
              "div.sk-estimator:hover .sk-estimator-doc-link:hover,\n",
              ".sk-estimator-doc-link:hover,\n",
              "div.sk-label-container:hover .sk-estimator-doc-link:hover,\n",
              ".sk-estimator-doc-link:hover {\n",
              "  /* unfitted */\n",
              "  background-color: var(--sklearn-color-unfitted-level-3);\n",
              "  color: var(--sklearn-color-background);\n",
              "  text-decoration: none;\n",
              "}\n",
              "\n",
              "div.sk-estimator.fitted:hover .sk-estimator-doc-link.fitted:hover,\n",
              ".sk-estimator-doc-link.fitted:hover,\n",
              "div.sk-label-container:hover .sk-estimator-doc-link.fitted:hover,\n",
              ".sk-estimator-doc-link.fitted:hover {\n",
              "  /* fitted */\n",
              "  background-color: var(--sklearn-color-fitted-level-3);\n",
              "  color: var(--sklearn-color-background);\n",
              "  text-decoration: none;\n",
              "}\n",
              "\n",
              "/* Span, style for the box shown on hovering the info icon */\n",
              ".sk-estimator-doc-link span {\n",
              "  display: none;\n",
              "  z-index: 9999;\n",
              "  position: relative;\n",
              "  font-weight: normal;\n",
              "  right: .2ex;\n",
              "  padding: .5ex;\n",
              "  margin: .5ex;\n",
              "  width: min-content;\n",
              "  min-width: 20ex;\n",
              "  max-width: 50ex;\n",
              "  color: var(--sklearn-color-text);\n",
              "  box-shadow: 2pt 2pt 4pt #999;\n",
              "  /* unfitted */\n",
              "  background: var(--sklearn-color-unfitted-level-0);\n",
              "  border: .5pt solid var(--sklearn-color-unfitted-level-3);\n",
              "}\n",
              "\n",
              ".sk-estimator-doc-link.fitted span {\n",
              "  /* fitted */\n",
              "  background: var(--sklearn-color-fitted-level-0);\n",
              "  border: var(--sklearn-color-fitted-level-3);\n",
              "}\n",
              "\n",
              ".sk-estimator-doc-link:hover span {\n",
              "  display: block;\n",
              "}\n",
              "\n",
              "/* \"?\"-specific style due to the `<a>` HTML tag */\n",
              "\n",
              "#sk-container-id-1 a.estimator_doc_link {\n",
              "  float: right;\n",
              "  font-size: 1rem;\n",
              "  line-height: 1em;\n",
              "  font-family: monospace;\n",
              "  background-color: var(--sklearn-color-background);\n",
              "  border-radius: 1rem;\n",
              "  height: 1rem;\n",
              "  width: 1rem;\n",
              "  text-decoration: none;\n",
              "  /* unfitted */\n",
              "  color: var(--sklearn-color-unfitted-level-1);\n",
              "  border: var(--sklearn-color-unfitted-level-1) 1pt solid;\n",
              "}\n",
              "\n",
              "#sk-container-id-1 a.estimator_doc_link.fitted {\n",
              "  /* fitted */\n",
              "  border: var(--sklearn-color-fitted-level-1) 1pt solid;\n",
              "  color: var(--sklearn-color-fitted-level-1);\n",
              "}\n",
              "\n",
              "/* On hover */\n",
              "#sk-container-id-1 a.estimator_doc_link:hover {\n",
              "  /* unfitted */\n",
              "  background-color: var(--sklearn-color-unfitted-level-3);\n",
              "  color: var(--sklearn-color-background);\n",
              "  text-decoration: none;\n",
              "}\n",
              "\n",
              "#sk-container-id-1 a.estimator_doc_link.fitted:hover {\n",
              "  /* fitted */\n",
              "  background-color: var(--sklearn-color-fitted-level-3);\n",
              "}\n",
              "</style><div id=\"sk-container-id-1\" class=\"sk-top-container\"><div class=\"sk-text-repr-fallback\"><pre>LogisticRegression(C=2.1060526315789474, max_iter=1000, random_state=0)</pre><b>In a Jupyter environment, please rerun this cell to show the HTML representation or trust the notebook. <br />On GitHub, the HTML representation is unable to render, please try loading this page with nbviewer.org.</b></div><div class=\"sk-container\" hidden><div class=\"sk-item\"><div class=\"sk-estimator fitted sk-toggleable\"><input class=\"sk-toggleable__control sk-hidden--visually\" id=\"sk-estimator-id-1\" type=\"checkbox\" checked><label for=\"sk-estimator-id-1\" class=\"sk-toggleable__label fitted sk-toggleable__label-arrow fitted\">&nbsp;&nbsp;LogisticRegression<a class=\"sk-estimator-doc-link fitted\" rel=\"noreferrer\" target=\"_blank\" href=\"https://scikit-learn.org/1.5/modules/generated/sklearn.linear_model.LogisticRegression.html\">?<span>Documentation for LogisticRegression</span></a><span class=\"sk-estimator-doc-link fitted\">i<span>Fitted</span></span></label><div class=\"sk-toggleable__content fitted\"><pre>LogisticRegression(C=2.1060526315789474, max_iter=1000, random_state=0)</pre></div> </div></div></div></div>"
            ],
            "text/plain": [
              "LogisticRegression(C=2.1060526315789474, max_iter=1000, random_state=0)"
            ]
          },
          "execution_count": 32,
          "metadata": {},
          "output_type": "execute_result"
        }
      ],
      "source": [
        "model = lm.LogisticRegression(C=grid_search.best_params_[\"C\"], max_iter=1000, random_state=config_dict['seed'])\n",
        "model.fit(x_features_train, y_labels_train)"
      ]
    },
    {
      "attachments": {},
      "cell_type": "markdown",
      "metadata": {
        "id": "ZinbMBQb8t5D"
      },
      "source": [
        "### Generate the ML train results: Use for Design Choices"
      ]
    },
    {
      "cell_type": "code",
      "execution_count": 33,
      "metadata": {
        "colab": {
          "base_uri": "https://localhost:8080/"
        },
        "id": "J1A1nr-kSS0q",
        "outputId": "3ecd54ad-18f8-4ea5-ecf1-d994566d14b1"
      },
      "outputs": [
        {
          "name": "stdout",
          "output_type": "stream",
          "text": [
            "Results on the train set for a traditional ML model:\n",
            "-------------------------\n",
            "Baseline (dummy classifier) accuracy: 0.74\n",
            "Current model's accuracy: 0.88\n",
            "The accuracy lift is: 18 %\n"
          ]
        }
      ],
      "source": [
        "y_train_estimated = model.predict(x_features_train)\n",
        "accuracy_train = np.mean(y_train_estimated == y_labels_train)\n",
        "baseline_accuracy_train = np.mean(0 == y_labels_train)\n",
        "accuracy_lift_train = 100 * (accuracy_train/baseline_accuracy_train - 1)\n",
        "\n",
        "print(\"Results on the train set for a traditional ML model:\\n-------------------------\")\n",
        "print(\"Baseline (dummy classifier) accuracy:\", round(baseline_accuracy_train, 2))\n",
        "print(\"Current model's accuracy:\", round(accuracy_train, 2))\n",
        "print(\"The accuracy lift is:\", round(accuracy_lift_train), \"%\")"
      ]
    },
    {
      "attachments": {},
      "cell_type": "markdown",
      "metadata": {
        "id": "VRSrEo2j8y0P"
      },
      "source": [
        "### Generate the ML test results: Use for presenting performance"
      ]
    },
    {
      "cell_type": "code",
      "execution_count": 34,
      "metadata": {
        "colab": {
          "base_uri": "https://localhost:8080/"
        },
        "id": "msAAgYoBSiK3",
        "outputId": "fab4e22b-0a32-4117-e740-21f9eac9a048"
      },
      "outputs": [
        {
          "name": "stdout",
          "output_type": "stream",
          "text": [
            "Results on the test set for a traditional ML model:\n",
            "-------------------------\n",
            "Baseline (dummy classifier) accuracy: 0.75\n",
            "Current model's accuracy: 0.85\n",
            "The accuracy lift is: 13 %\n",
            "\n",
            "Confusion Matrix:\n",
            "[[1504  128]\n",
            " [ 196  341]]\n",
            "\n",
            "Classification Report:\n",
            "              precision    recall  f1-score   support\n",
            "\n",
            "           0       0.88      0.92      0.90      1632\n",
            "           1       0.73      0.64      0.68       537\n",
            "\n",
            "    accuracy                           0.85      2169\n",
            "   macro avg       0.81      0.78      0.79      2169\n",
            "weighted avg       0.85      0.85      0.85      2169\n",
            "\n"
          ]
        }
      ],
      "source": [
        "y_test_estimated = model.predict(x_features_test)\n",
        "accuracy_test = np.mean(y_test_estimated == y_labels_test)\n",
        "baseline_accuracy_test = np.mean(0 == y_labels_test)\n",
        "accuracy_lift = 100 * (accuracy_test/baseline_accuracy_test - 1)\n",
        "\n",
        "print(\"Results on the test set for a traditional ML model:\\n-------------------------\")\n",
        "print(\"Baseline (dummy classifier) accuracy:\", round(baseline_accuracy_test, 2))\n",
        "print(\"Current model's accuracy:\", round(accuracy_test, 2))\n",
        "print(\"The accuracy lift is:\", round(accuracy_lift), \"%\")\n",
        "\n",
        "print(\"\\nConfusion Matrix:\")\n",
        "print(confusion_matrix(y_labels_test, y_test_estimated))\n",
        "print(\"\\nClassification Report:\")\n",
        "print(classification_report(y_labels_test, y_test_estimated))"
      ]
    },
    {
      "attachments": {},
      "cell_type": "markdown",
      "metadata": {
        "id": "s874Gqsa6XBi"
      },
      "source": [
        "****\n",
        "# Deep Learning  \n",
        "Applying BERT, a Language Model to Text Classification"
      ]
    },
    {
      "attachments": {},
      "cell_type": "markdown",
      "metadata": {
        "id": "6MYOOQ1gS2n2"
      },
      "source": [
        "## Formatting our data\n",
        "Adjusting the name of the label column:  \n",
        "The design of the Transformers package requires the dataset's lables column to be named exactly `label`.  \n",
        "In the above part of this notebook, where we did tranditional ML work, we had to pick a column name that **isn't** a natural word. The reason is that when we performed feature engineering, each word/Ngram was allocated its own column named after it. If the word \"label\" just happened to appear in the text, it could have a column called `label` defined for it in the dataframe, which would then **conflict with the labels' column name**.  \n",
        "We no longer have that risk, and we need to comply with Transformers' requirements:  "
      ]
    },
    {
      "cell_type": "code",
      "execution_count": 35,
      "metadata": {
        "id": "VhT0emfy1rgP"
      },
      "outputs": [],
      "source": [
        "df = dataset_df_binary.copy()\n",
        "dataset_df_binary = dataset_df_binary.rename(columns={\"_label_\":\"label\"})"
      ]
    },
    {
      "attachments": {},
      "cell_type": "markdown",
      "metadata": {
        "id": "ZfY-cQ-nJGPs"
      },
      "source": [
        "Load the tokenizer and the pre-trained Language Model:"
      ]
    },
    {
      "cell_type": "code",
      "execution_count": 36,
      "metadata": {
        "colab": {
          "base_uri": "https://localhost:8080/",
          "height": 388,
          "referenced_widgets": [
            "e1d893a202ae491fb11ecb066723d87b",
            "77bfef19bc9448a19a61c9aa816686df",
            "3e85747f79e3418db8dcdecb8ccc9e31",
            "050e326df53f410b8030e85c138f0ddf",
            "a6a6fc8a79ca4efca54e3aa635a0db16",
            "bc5b7870cae843d18666503afd6aac69",
            "cdfa0e4c66ab4d8995ec26bfc880ae04",
            "f9b6c024de4c4e5198d12d83a37ae755",
            "1b09e7ca7e46432e990084365804482d",
            "843f16eb13bc4d0ea2e7b694fbdaba89",
            "ba78731b08e744e7a3fb8ef2f14635d6",
            "0aff96d59e384791a9772374e1421869",
            "d414285c2c164ee295122978b6fb160c",
            "cc3a62d71b984b40a89b0bdced53c44c",
            "28ca2f694a354d809a915386bcec72b8",
            "54a03d9092b040adbfbb04a95032cd74",
            "1f7bff426453491b99c5627165929011",
            "b6833c3bbf5a4e9da2acafdc1c9829d8",
            "6fac132c8e774a4d9c59c0b66e380f5d",
            "a3cc1264338346a2b09c00d193e6fff8",
            "9c4dea561e9a45f18b77488e3a2c8c38",
            "caa50f95551e4abd8bb8f910d3dcc542",
            "eb5cfe8520104bf79843ac0608b2fe0a",
            "2ab539e2c1894c9d93913a03700701e3",
            "040e9974eb8b4ee287b6eb8ca4536b78",
            "799c054bca4f4f35a65454e255096a4d",
            "49f5db556509467cb64fa6fb0fb57cb3",
            "20116e05c09348c8894ad804a93f8123",
            "55561deb9e564557bfabfead3dcf43cb",
            "b288c1bf38d3494b975985f204b646e3",
            "b5e951d4a051424d9c28ec4ac9a7ac57",
            "474054f4c4b64600ab8216e104d234bf",
            "3ddce4f62bc243bbae17fbc754c74932",
            "2af5480eafce4ce5a181b119c57ae231",
            "2cd51affbd3e4c9a9d42deae61ef8725",
            "3ff75e0b9dd34817bcffa6c6d4d0cf66",
            "c65103ea708c4494b075f792ec7d2578",
            "103a2c2a91ee41e8a9f2178decfa773c",
            "3f81f3084468484e8f901d09c2ea5b07",
            "994f3c155dc44c27a978785a7a15bbfe",
            "ebc84f172be540e498eab0ac92e98879",
            "664e5b569b914d7fbde69b93d761625c",
            "c1961a2b423647e7b9e5faa3edf75db0",
            "16350733c6ca4eff8611df6d6bcc00dd",
            "810b971582fe4616b42cb0706871adef",
            "c626d329a7894f85ab044ba5b746171d",
            "78df8e9bda114ecb9d78475ef64efd16",
            "c42836171b794b7683f9613593128b16",
            "dcd4877ccf2f4115b666f3c9e82a8c54",
            "394e3053b6184980ad8b1cf9ac883870",
            "f1eba7e9fc6d4fc892984c947cc2ec00",
            "098c142a3016470b981240d818e681a5",
            "c9cdd34643c24241b567a053bb2fd562",
            "99b503702cfa4282b46d92d19cfc841f",
            "7099cb7aa89f482e843d17ca5548f597"
          ]
        },
        "id": "WCCvrZYiJGPs",
        "outputId": "08114752-0bbc-426a-cc80-13d8e8de416e"
      },
      "outputs": [
        {
          "name": "stderr",
          "output_type": "stream",
          "text": [
            "f:\\python\\transformers\\Lib\\site-packages\\huggingface_hub\\file_download.py:1132: FutureWarning: `resume_download` is deprecated and will be removed in version 1.0.0. Downloads always resume when possible. If you want to force a new download, use `force_download=True`.\n",
            "  warnings.warn(\n",
            "Some weights of BertForSequenceClassification were not initialized from the model checkpoint at bert-base-uncased and are newly initialized: ['classifier.bias', 'classifier.weight']\n",
            "You should probably TRAIN this model on a down-stream task to be able to use it for predictions and inference.\n"
          ]
        }
      ],
      "source": [
        "from transformers import AutoTokenizer, AutoModelForSequenceClassification\n",
        "\n",
        "labels = list(dataset_df_binary[\"label\"].unique())\n",
        "\n",
        "tokenizer = AutoTokenizer.from_pretrained(\"bert-base-uncased\")\n",
        "language_model = AutoModelForSequenceClassification.from_pretrained(\"bert-base-uncased\", num_labels=len(labels))"
      ]
    },
    {
      "attachments": {},
      "cell_type": "markdown",
      "metadata": {
        "id": "XYECTcgS6XlH"
      },
      "source": [
        ">>\n",
        "The previous cell would output a warnin starting with:  \n",
        "`Some weights of the model checkpoint at bert-base-uncased were not used when initializing...`\n",
        "\n",
        ">>\n",
        "It is expected, as the model you imported had its pre-trained classification head (i.e. last neural layer) removed and a new \"fresh\" layer is initialized.  \n",
        "That's what we want, as we seek to train that classification head to suit our dataset. Based on our choice, we may choose to also fine-tune other layers.    "
      ]
    },
    {
      "cell_type": "code",
      "execution_count": 37,
      "metadata": {
        "colab": {
          "base_uri": "https://localhost:8080/"
        },
        "id": "s5TAnpQy8ww6",
        "outputId": "5e333041-01d1-47d0-b6aa-c5088d75bd14"
      },
      "outputs": [
        {
          "name": "stdout",
          "output_type": "stream",
          "text": [
            "The size of the model's token dictionary: 30522\n"
          ]
        }
      ],
      "source": [
        "print(f\"The size of the model's token dictionary: {language_model.config.vocab_size}\")"
      ]
    },
    {
      "attachments": {},
      "cell_type": "markdown",
      "metadata": {
        "id": "_VSj4AUH3el6"
      },
      "source": [
        "Split the dataset to three sub-sets:  \n",
        "1. A held-out test set  \n",
        "2. A train set that is split to two:  \n",
        "  2.1 A subset used for training the neural network's parameters  \n",
        "  2.2 A subset used to evaluate the progress of the training  "
      ]
    },
    {
      "cell_type": "code",
      "execution_count": 38,
      "metadata": {
        "id": "EJQx35vq3Wkt"
      },
      "outputs": [],
      "source": [
        "# Create a training set and a test set\n",
        "test_df = dataset_df_binary.sample(frac=config_dict[\"test_size\"],random_state=config_dict['seed'])\n",
        "train_df = dataset_df_binary.drop(test_df.index)\n",
        "\n",
        "# Splitting the train set to \"just train\" and \"training evaluation\" set:\n",
        "train_eval_df = train_df.sample(frac=config_dict[\"test_size\"],random_state=config_dict['seed'])\n",
        "train_train_df = train_df.drop(train_eval_df.index)\n",
        "\n",
        "# Conver the dataframes to a Dataset format per the Transformers package's requirement:\n",
        "dataset_train_train = Dataset.from_pandas(train_train_df)\n",
        "dataset_train_eval = Dataset.from_pandas(train_eval_df)\n",
        "dataset_test = Dataset.from_pandas(test_df)"
      ]
    },
    {
      "attachments": {},
      "cell_type": "markdown",
      "metadata": {
        "id": "rI25Mza34Qut"
      },
      "source": [
        "In order for the LM to process the text, it must be tokenized:"
      ]
    },
    {
      "cell_type": "code",
      "execution_count": 39,
      "metadata": {
        "colab": {
          "base_uri": "https://localhost:8080/",
          "height": 113,
          "referenced_widgets": [
            "8f160746113648e4af8bc53395aedf0f",
            "ef5d2d6ad6804c4499ca15001c945eb6",
            "17bd1279c68a42e8bb9b8c391c8cfb15",
            "45b4f32b3fc54e1dac70fa3a822e4452",
            "535eb7a9b346475ab686fa25ae93f2f7",
            "313bd6d39eef44b1a998bcea69cec16b",
            "26c7c8a8544f4f0a9e0412b3bea5f5e5",
            "86f3780520254be8a69ba0c9ecc93f1c",
            "74cb7283bb5042dcb8ac3eca570cb851",
            "7a03dac8569b41dd949d6ba8bac22326",
            "d1ae726bcad24b579a39735109bdb4d5",
            "d579c0801d51437f808ecc022aa08597",
            "7f423470b4904dd1a01391f896dfd5d6",
            "5120a915db65442893ffceb18b19c751",
            "e3285409f724447ea8d24c5303f759ae",
            "3bf1190a3fd8497d9344dd5240b4e57d",
            "e98460d193cc4431abff6a1f68776b5e",
            "dc6a773fa8a548bfbfe66f3036f165c0",
            "5702cfd040c441c09f9f07696555b910",
            "48f7aaf647894e2a94ffbbeea565d246",
            "27737dab270a42518eefb5ec03413425",
            "9c794b66c71e419494985a23df365b3c",
            "b5843ae0eb13403780d7d5856e99cde9",
            "03eca2f571d74759b1453f03e28ee360",
            "f08897fd22c6466fa3217ee5bd5e3a57",
            "ea36dc4bc5014f9c852c34a2275337f0",
            "4daebb75a50b4f52a2e15f333ca90609",
            "87b77cd65ec74d769cfaf2f056946a58",
            "40c1a35ae41048a5a36aaaa5517d232e",
            "8e154cbae8e540fba9ad5c3ff7f86514",
            "57ad49ce27e3403398e3256d9d9b8ca8",
            "360ae5e4d031449681de6d5165c0cfe6",
            "dd0d83b72beb4ec1a383e52d8b9a39ec"
          ]
        },
        "id": "4WfTVCYm4Q6V",
        "outputId": "1954a0ae-1138-4d93-9118-b86ec8b26f60"
      },
      "outputs": [
        {
          "data": {
            "application/vnd.jupyter.widget-view+json": {
              "model_id": "e48868da7390487393ffc6196ad83814",
              "version_major": 2,
              "version_minor": 0
            },
            "text/plain": [
              "Map:   0%|          | 0/4880 [00:00<?, ? examples/s]"
            ]
          },
          "metadata": {},
          "output_type": "display_data"
        },
        {
          "data": {
            "application/vnd.jupyter.widget-view+json": {
              "model_id": "0ca3a67b32ee4ba9b33fa181fd9314ca",
              "version_major": 2,
              "version_minor": 0
            },
            "text/plain": [
              "Map:   0%|          | 0/1627 [00:00<?, ? examples/s]"
            ]
          },
          "metadata": {},
          "output_type": "display_data"
        },
        {
          "data": {
            "application/vnd.jupyter.widget-view+json": {
              "model_id": "2040afae888443e5aa43077d2b1bdf0c",
              "version_major": 2,
              "version_minor": 0
            },
            "text/plain": [
              "Map:   0%|          | 0/2169 [00:00<?, ? examples/s]"
            ]
          },
          "metadata": {},
          "output_type": "display_data"
        }
      ],
      "source": [
        "def tokenize_function(examples):\n",
        "    return tokenizer(examples[\"text\"], padding=\"max_length\", truncation=True)\n",
        "\n",
        "train_train_tokenized = dataset_train_train.map(tokenize_function, batched=True)\n",
        "train_eval_tokenized = dataset_train_eval.map(tokenize_function, batched=True)\n",
        "test_tokenized = dataset_test.map(tokenize_function, batched=True)"
      ]
    },
    {
      "attachments": {},
      "cell_type": "markdown",
      "metadata": {
        "id": "r05gJRSqJGPu"
      },
      "source": [
        "<a id='trainer'></a>"
      ]
    },
    {
      "attachments": {},
      "cell_type": "markdown",
      "metadata": {
        "id": "2ijS9JahJGPv"
      },
      "source": [
        "## Training our LM"
      ]
    },
    {
      "attachments": {},
      "cell_type": "markdown",
      "metadata": {
        "id": "7gFV8yDTJGPv"
      },
      "source": [
        "We fine tune our pre-trained Language Model via `transformers`'s [Trainer](https://huggingface.co/docs/transformers/main/en/main_classes/trainer#transformers.Trainer).  "
      ]
    },
    {
      "attachments": {},
      "cell_type": "markdown",
      "metadata": {
        "id": "xL_AepCYGi19"
      },
      "source": [
        "### Choosing which neural network layers to fine-tune"
      ]
    },
    {
      "cell_type": "code",
      "execution_count": 40,
      "metadata": {
        "colab": {
          "base_uri": "https://localhost:8080/"
        },
        "id": "umQ7F-mvGjAl",
        "outputId": "a230a48a-e40f-43b2-c4be-32fa70339ef2"
      },
      "outputs": [
        {
          "name": "stdout",
          "output_type": "stream",
          "text": [
            "Fine-tuning the entire neural network!\n"
          ]
        }
      ],
      "source": [
        "if layers_to_fine_tune == \"head\":\n",
        "  print(\"Fine-tuning only the classification head!\")\n",
        "  language_model.train()\n",
        "  for name, param in language_model.named_parameters():\n",
        "    # Freeze parameters of all layers except classifier head:\n",
        "    if 'classifier' not in name:\n",
        "        param.requires_grad = False\n",
        "else:\n",
        "  print(\"Fine-tuning the entire neural network!\")"
      ]
    },
    {
      "attachments": {},
      "cell_type": "markdown",
      "metadata": {
        "id": "ZWADrXqRJGPw"
      },
      "source": [
        "### Training hyperparameters"
      ]
    },
    {
      "attachments": {},
      "cell_type": "markdown",
      "metadata": {
        "id": "K7jPvmmVJGPw"
      },
      "source": [
        "These are the settings for training our model:"
      ]
    },
    {
      "attachments": {},
      "cell_type": "markdown",
      "metadata": {
        "id": "xI5pi9fnJGPw"
      },
      "source": [
        "### Evaluation metric"
      ]
    },
    {
      "attachments": {},
      "cell_type": "markdown",
      "metadata": {
        "id": "GFGxObdeJGPx"
      },
      "source": [
        "Defining the evaluation metric for the Language Model fine-tuning:"
      ]
    },
    {
      "cell_type": "code",
      "execution_count": 41,
      "metadata": {
        "colab": {
          "base_uri": "https://localhost:8080/",
          "height": 49,
          "referenced_widgets": [
            "4e59624846fe48edbf91475a2b7fdebf",
            "97ab2101ef8149cebbe40aa0b7169d3a",
            "c9482ecfd4004fa9ac8602f782f249d6",
            "fa48b2a69f934782a8972b00a4dba8fc",
            "160b3e8a0f9144dbb30aa062eb296686",
            "cd9098d89fab4e519290a90133c6e1cd",
            "d465ae1a0df44d85bc241da6a5810e0a",
            "694acd04ca7e4eb6b9f1ee5308ce1890",
            "98274506b9434f15a3046703f6316bc4",
            "fd8f0c3b6f9944dfa21fb1613a839538",
            "6d2948debccd4ca9841a0a1175120f65"
          ]
        },
        "id": "3tFbTVfpJGPx",
        "outputId": "f659b016-ee96-4a7b-a539-7563ed510ab5"
      },
      "outputs": [],
      "source": [
        "metric = evaluate.load(\"accuracy\")"
      ]
    },
    {
      "attachments": {},
      "cell_type": "markdown",
      "metadata": {
        "id": "Q3A9_OZtJGPx"
      },
      "source": [
        "Setting the metric evaluation function for the trainer to utilize:"
      ]
    },
    {
      "cell_type": "code",
      "execution_count": 42,
      "metadata": {
        "id": "xUPhu4n_JGPx"
      },
      "outputs": [],
      "source": [
        "def compute_metrics(eval_pred):\n",
        "    logits, labels = eval_pred\n",
        "    # As the model returns a pair of logit values for each observation,\n",
        "    # where each of the two logit value reflects the likelihood of each\n",
        "    # class, we want to conver it to a classification:\n",
        "    predictions = np.argmax(logits, axis=-1)\n",
        "    return metric.compute(predictions=predictions, references=labels)"
      ]
    },
    {
      "attachments": {},
      "cell_type": "markdown",
      "metadata": {
        "id": "_bowLe51JGPy"
      },
      "source": [
        "### Trainer object"
      ]
    },
    {
      "cell_type": "code",
      "execution_count": 43,
      "metadata": {
        "id": "SGEfjqqWJGPy"
      },
      "outputs": [
        {
          "name": "stderr",
          "output_type": "stream",
          "text": [
            "f:\\python\\transformers\\Lib\\site-packages\\accelerate\\accelerator.py:444: FutureWarning: Passing the following arguments to `Accelerator` is deprecated and will be removed in version 1.0 of Accelerate: dict_keys(['dispatch_batches', 'split_batches', 'even_batches', 'use_seedable_sampler']). Please pass an `accelerate.DataLoaderConfiguration` instead: \n",
            "dataloader_config = DataLoaderConfiguration(dispatch_batches=None, split_batches=False, even_batches=True, use_seedable_sampler=True)\n",
            "  warnings.warn(\n"
          ]
        }
      ],
      "source": [
        "trainer = Trainer(\n",
        "    model=language_model,\n",
        "    args=lm_training_args,\n",
        "    train_dataset=train_train_tokenized,\n",
        "    eval_dataset=train_eval_tokenized,\n",
        "    compute_metrics=compute_metrics,\n",
        ")"
      ]
    },
    {
      "attachments": {},
      "cell_type": "markdown",
      "metadata": {
        "id": "49tZDZCv8-yT"
      },
      "source": [
        "### Fine tuning"
      ]
    },
    {
      "cell_type": "code",
      "execution_count": 44,
      "metadata": {
        "colab": {
          "base_uri": "https://localhost:8080/",
          "height": 541
        },
        "id": "rFChSNaqJGPz",
        "outputId": "9bd8fe46-3236-420f-94c6-f0673622a131"
      },
      "outputs": [
        {
          "name": "stderr",
          "output_type": "stream",
          "text": [
            "Failed to detect the name of this notebook, you can set it manually with the WANDB_NOTEBOOK_NAME environment variable to enable code saving.\n",
            "\u001b[34m\u001b[1mwandb\u001b[0m: Currently logged in as: \u001b[33mhowsenpl\u001b[0m (\u001b[33mhowsen\u001b[0m). Use \u001b[1m`wandb login --relogin`\u001b[0m to force relogin\n"
          ]
        },
        {
          "data": {
            "text/html": [
              "Tracking run with wandb version 0.17.2"
            ],
            "text/plain": [
              "<IPython.core.display.HTML object>"
            ]
          },
          "metadata": {},
          "output_type": "display_data"
        },
        {
          "data": {
            "text/html": [
              "Run data is saved locally in <code>f:\\packt\\nlp\\3. Text Classification\\wandb\\run-20240622_202600-mhrz7222</code>"
            ],
            "text/plain": [
              "<IPython.core.display.HTML object>"
            ]
          },
          "metadata": {},
          "output_type": "display_data"
        },
        {
          "data": {
            "text/html": [
              "Syncing run <strong><a href='https://wandb.ai/howsen/huggingface/runs/mhrz7222' target=\"_blank\">desert-smoke-5</a></strong> to <a href='https://wandb.ai/howsen/huggingface' target=\"_blank\">Weights & Biases</a> (<a href='https://wandb.me/run' target=\"_blank\">docs</a>)<br/>"
            ],
            "text/plain": [
              "<IPython.core.display.HTML object>"
            ]
          },
          "metadata": {},
          "output_type": "display_data"
        },
        {
          "data": {
            "text/html": [
              " View project at <a href='https://wandb.ai/howsen/huggingface' target=\"_blank\">https://wandb.ai/howsen/huggingface</a>"
            ],
            "text/plain": [
              "<IPython.core.display.HTML object>"
            ]
          },
          "metadata": {},
          "output_type": "display_data"
        },
        {
          "data": {
            "text/html": [
              " View run at <a href='https://wandb.ai/howsen/huggingface/runs/mhrz7222' target=\"_blank\">https://wandb.ai/howsen/huggingface/runs/mhrz7222</a>"
            ],
            "text/plain": [
              "<IPython.core.display.HTML object>"
            ]
          },
          "metadata": {},
          "output_type": "display_data"
        },
        {
          "data": {
            "application/vnd.jupyter.widget-view+json": {
              "model_id": "bcb1bf1ddeb54c3ebaa4b6af67a9f4c2",
              "version_major": 2,
              "version_minor": 0
            },
            "text/plain": [
              "  0%|          | 0/1220 [00:00<?, ?it/s]"
            ]
          },
          "metadata": {},
          "output_type": "display_data"
        },
        {
          "name": "stdout",
          "output_type": "stream",
          "text": [
            "{'loss': 0.38, 'grad_norm': 2.9783761501312256, 'learning_rate': 1.836065573770492e-05, 'epoch': 0.16}\n"
          ]
        },
        {
          "data": {
            "application/vnd.jupyter.widget-view+json": {
              "model_id": "dbd42e2993ae40a49f7da6bbe4d18502",
              "version_major": 2,
              "version_minor": 0
            },
            "text/plain": [
              "  0%|          | 0/204 [00:00<?, ?it/s]"
            ]
          },
          "metadata": {},
          "output_type": "display_data"
        },
        {
          "name": "stdout",
          "output_type": "stream",
          "text": [
            "{'eval_loss': 0.27474066615104675, 'eval_accuracy': 0.8881376767055931, 'eval_runtime': 33.8185, 'eval_samples_per_second': 48.11, 'eval_steps_per_second': 6.032, 'epoch': 0.16}\n",
            "{'loss': 0.2702, 'grad_norm': 3.9377524852752686, 'learning_rate': 1.6721311475409837e-05, 'epoch': 0.33}\n"
          ]
        },
        {
          "data": {
            "application/vnd.jupyter.widget-view+json": {
              "model_id": "e8bfed50258b47f3bf2fe7b64908bbf8",
              "version_major": 2,
              "version_minor": 0
            },
            "text/plain": [
              "  0%|          | 0/204 [00:00<?, ?it/s]"
            ]
          },
          "metadata": {},
          "output_type": "display_data"
        },
        {
          "name": "stdout",
          "output_type": "stream",
          "text": [
            "{'eval_loss': 0.27000442147254944, 'eval_accuracy': 0.9121081745543946, 'eval_runtime': 34.0136, 'eval_samples_per_second': 47.834, 'eval_steps_per_second': 5.998, 'epoch': 0.33}\n",
            "{'loss': 0.2652, 'grad_norm': 33.225318908691406, 'learning_rate': 1.5081967213114754e-05, 'epoch': 0.49}\n"
          ]
        },
        {
          "data": {
            "application/vnd.jupyter.widget-view+json": {
              "model_id": "5aa19deca81744259d11892527f42679",
              "version_major": 2,
              "version_minor": 0
            },
            "text/plain": [
              "  0%|          | 0/204 [00:00<?, ?it/s]"
            ]
          },
          "metadata": {},
          "output_type": "display_data"
        },
        {
          "name": "stdout",
          "output_type": "stream",
          "text": [
            "{'eval_loss': 0.24206854403018951, 'eval_accuracy': 0.9225568531038721, 'eval_runtime': 33.3211, 'eval_samples_per_second': 48.828, 'eval_steps_per_second': 6.122, 'epoch': 0.49}\n",
            "{'loss': 0.2296, 'grad_norm': 2.081664562225342, 'learning_rate': 1.3442622950819673e-05, 'epoch': 0.66}\n"
          ]
        },
        {
          "data": {
            "application/vnd.jupyter.widget-view+json": {
              "model_id": "36443f506fb34ec5b1105d67f45ab840",
              "version_major": 2,
              "version_minor": 0
            },
            "text/plain": [
              "  0%|          | 0/204 [00:00<?, ?it/s]"
            ]
          },
          "metadata": {},
          "output_type": "display_data"
        },
        {
          "name": "stdout",
          "output_type": "stream",
          "text": [
            "{'eval_loss': 0.44861501455307007, 'eval_accuracy': 0.8838352796558082, 'eval_runtime': 33.3356, 'eval_samples_per_second': 48.807, 'eval_steps_per_second': 6.12, 'epoch': 0.66}\n",
            "{'loss': 0.2537, 'grad_norm': 0.10515588521957397, 'learning_rate': 1.1803278688524591e-05, 'epoch': 0.82}\n"
          ]
        },
        {
          "data": {
            "application/vnd.jupyter.widget-view+json": {
              "model_id": "9f10cf1b50964857bc1b174c7859ff3a",
              "version_major": 2,
              "version_minor": 0
            },
            "text/plain": [
              "  0%|          | 0/204 [00:00<?, ?it/s]"
            ]
          },
          "metadata": {},
          "output_type": "display_data"
        },
        {
          "name": "stdout",
          "output_type": "stream",
          "text": [
            "{'eval_loss': 0.24072228372097015, 'eval_accuracy': 0.9354640442532268, 'eval_runtime': 33.3203, 'eval_samples_per_second': 48.829, 'eval_steps_per_second': 6.122, 'epoch': 0.82}\n",
            "{'loss': 0.2077, 'grad_norm': 26.436975479125977, 'learning_rate': 1.0163934426229509e-05, 'epoch': 0.98}\n"
          ]
        },
        {
          "data": {
            "application/vnd.jupyter.widget-view+json": {
              "model_id": "3e1d31921baf44d1adc58bc29efd814a",
              "version_major": 2,
              "version_minor": 0
            },
            "text/plain": [
              "  0%|          | 0/204 [00:00<?, ?it/s]"
            ]
          },
          "metadata": {},
          "output_type": "display_data"
        },
        {
          "name": "stdout",
          "output_type": "stream",
          "text": [
            "{'eval_loss': 0.21852120757102966, 'eval_accuracy': 0.931161647203442, 'eval_runtime': 33.2929, 'eval_samples_per_second': 48.869, 'eval_steps_per_second': 6.127, 'epoch': 0.98}\n",
            "{'loss': 0.1221, 'grad_norm': 20.003679275512695, 'learning_rate': 8.524590163934427e-06, 'epoch': 1.15}\n"
          ]
        },
        {
          "data": {
            "application/vnd.jupyter.widget-view+json": {
              "model_id": "ac5b653f6d9c482f95a22a966997a6f2",
              "version_major": 2,
              "version_minor": 0
            },
            "text/plain": [
              "  0%|          | 0/204 [00:00<?, ?it/s]"
            ]
          },
          "metadata": {},
          "output_type": "display_data"
        },
        {
          "name": "stdout",
          "output_type": "stream",
          "text": [
            "{'eval_loss': 0.26400530338287354, 'eval_accuracy': 0.9391518131530424, 'eval_runtime': 33.3358, 'eval_samples_per_second': 48.806, 'eval_steps_per_second': 6.12, 'epoch': 1.15}\n",
            "{'loss': 0.0855, 'grad_norm': 1.1496514081954956, 'learning_rate': 6.885245901639345e-06, 'epoch': 1.31}\n"
          ]
        },
        {
          "data": {
            "application/vnd.jupyter.widget-view+json": {
              "model_id": "42562603c3c14f05b008c000c8f5cd9e",
              "version_major": 2,
              "version_minor": 0
            },
            "text/plain": [
              "  0%|          | 0/204 [00:00<?, ?it/s]"
            ]
          },
          "metadata": {},
          "output_type": "display_data"
        },
        {
          "name": "stdout",
          "output_type": "stream",
          "text": [
            "{'eval_loss': 0.2907136082649231, 'eval_accuracy': 0.9373079287031346, 'eval_runtime': 33.3578, 'eval_samples_per_second': 48.774, 'eval_steps_per_second': 6.116, 'epoch': 1.31}\n",
            "{'loss': 0.1209, 'grad_norm': 8.702261924743652, 'learning_rate': 5.245901639344263e-06, 'epoch': 1.48}\n"
          ]
        },
        {
          "data": {
            "application/vnd.jupyter.widget-view+json": {
              "model_id": "e5303840f1674b388e831f7d0b847074",
              "version_major": 2,
              "version_minor": 0
            },
            "text/plain": [
              "  0%|          | 0/204 [00:00<?, ?it/s]"
            ]
          },
          "metadata": {},
          "output_type": "display_data"
        },
        {
          "name": "stdout",
          "output_type": "stream",
          "text": [
            "{'eval_loss': 0.2782484292984009, 'eval_accuracy': 0.9373079287031346, 'eval_runtime': 33.2978, 'eval_samples_per_second': 48.862, 'eval_steps_per_second': 6.127, 'epoch': 1.48}\n",
            "{'loss': 0.13, 'grad_norm': 0.0804160088300705, 'learning_rate': 3.6065573770491806e-06, 'epoch': 1.64}\n"
          ]
        },
        {
          "data": {
            "application/vnd.jupyter.widget-view+json": {
              "model_id": "4a92c37841ca401c9333975e73000d10",
              "version_major": 2,
              "version_minor": 0
            },
            "text/plain": [
              "  0%|          | 0/204 [00:00<?, ?it/s]"
            ]
          },
          "metadata": {},
          "output_type": "display_data"
        },
        {
          "name": "stdout",
          "output_type": "stream",
          "text": [
            "{'eval_loss': 0.2787436544895172, 'eval_accuracy': 0.9416103257529195, 'eval_runtime': 33.3168, 'eval_samples_per_second': 48.834, 'eval_steps_per_second': 6.123, 'epoch': 1.64}\n",
            "{'loss': 0.1405, 'grad_norm': 0.4325740933418274, 'learning_rate': 1.9672131147540985e-06, 'epoch': 1.8}\n"
          ]
        },
        {
          "data": {
            "application/vnd.jupyter.widget-view+json": {
              "model_id": "7bb739c446034b8fb71500724d2d7717",
              "version_major": 2,
              "version_minor": 0
            },
            "text/plain": [
              "  0%|          | 0/204 [00:00<?, ?it/s]"
            ]
          },
          "metadata": {},
          "output_type": "display_data"
        },
        {
          "name": "stdout",
          "output_type": "stream",
          "text": [
            "{'eval_loss': 0.26298484206199646, 'eval_accuracy': 0.9391518131530424, 'eval_runtime': 33.3419, 'eval_samples_per_second': 48.797, 'eval_steps_per_second': 6.118, 'epoch': 1.8}\n",
            "{'loss': 0.1609, 'grad_norm': 0.2510626018047333, 'learning_rate': 3.278688524590164e-07, 'epoch': 1.97}\n"
          ]
        },
        {
          "data": {
            "application/vnd.jupyter.widget-view+json": {
              "model_id": "fb6c566333cc466d9a74f5d44e9a8072",
              "version_major": 2,
              "version_minor": 0
            },
            "text/plain": [
              "  0%|          | 0/204 [00:00<?, ?it/s]"
            ]
          },
          "metadata": {},
          "output_type": "display_data"
        },
        {
          "name": "stdout",
          "output_type": "stream",
          "text": [
            "{'eval_loss': 0.25618091225624084, 'eval_accuracy': 0.9409956976029502, 'eval_runtime': 33.5613, 'eval_samples_per_second': 48.479, 'eval_steps_per_second': 6.078, 'epoch': 1.97}\n",
            "{'train_runtime': 977.7521, 'train_samples_per_second': 9.982, 'train_steps_per_second': 1.248, 'train_loss': 0.1958702054180083, 'epoch': 2.0}\n"
          ]
        },
        {
          "data": {
            "text/plain": [
              "TrainOutput(global_step=1220, training_loss=0.1958702054180083, metrics={'train_runtime': 977.7521, 'train_samples_per_second': 9.982, 'train_steps_per_second': 1.248, 'train_loss': 0.1958702054180083, 'epoch': 2.0})"
            ]
          },
          "execution_count": 44,
          "metadata": {},
          "output_type": "execute_result"
        }
      ],
      "source": [
        "trainer.train()"
      ]
    },
    {
      "attachments": {},
      "cell_type": "markdown",
      "metadata": {
        "id": "vV1wOxvzAdKh"
      },
      "source": [
        "Converting the training log to a dataframe for plotting:"
      ]
    },
    {
      "cell_type": "code",
      "execution_count": 45,
      "metadata": {
        "id": "QgNw76aIAvh-"
      },
      "outputs": [],
      "source": [
        "training_logs_df = pd.DataFrame(trainer.state.log_history).groupby(\"step\", as_index=False).first()"
      ]
    },
    {
      "cell_type": "code",
      "execution_count": 46,
      "metadata": {
        "colab": {
          "base_uri": "https://localhost:8080/",
          "height": 472
        },
        "id": "3QCwRW8bAdY7",
        "outputId": "71b75de3-e09e-4821-89b5-0652a9ee9e36"
      },
      "outputs": [
        {
          "data": {
            "image/png": "[encoded data removed]",
            "text/plain": [
              "<Figure size 640x480 with 1 Axes>"
            ]
          },
          "metadata": {},
          "output_type": "display_data"
        }
      ],
      "source": [
        "import matplotlib.pyplot as plt\n",
        "\n",
        "training_logs_df.plot(x=\"epoch\", y=[\"loss\", \"eval_loss\"])\n",
        "plt.title('Observing the performance as the training progresses')\n",
        "plt.legend(['Train Loss', 'Validation Loss'], loc='upper right')\n",
        "plt.show()"
      ]
    },
    {
      "attachments": {},
      "cell_type": "markdown",
      "metadata": {
        "id": "HUYiyvA0-TMd"
      },
      "source": [
        "For reference,  \n",
        "Here are the curves for when running with 5 epoches:  \n",
        "![image.png](data:image/png;base64,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)"
      ]
    },
    {
      "attachments": {},
      "cell_type": "markdown",
      "metadata": {
        "id": "F4Dl1Ucg9bLO"
      },
      "source": [
        "### Conclusion about training length\n",
        "As can be seen, the evaluation set's results show that cutting the training time by half, using a single epoch instead of two, would be better.  \n",
        "We chose two epoch so to let you witness that. It appears that after the first epoch the model starts to overfit the training set, thus becoming less accurate and less valuable.   \n",
        "We would suggest examining the results with more than two epochs as well.  "
      ]
    },
    {
      "attachments": {},
      "cell_type": "markdown",
      "metadata": {
        "id": "L4eRP4Nm-Amg"
      },
      "source": [
        "### Generate the DL train results: Use for Design Choices"
      ]
    },
    {
      "cell_type": "code",
      "execution_count": 47,
      "metadata": {
        "colab": {
          "base_uri": "https://localhost:8080/",
          "height": 104
        },
        "id": "Vf7JR3mbYjKd",
        "outputId": "67adeae6-0876-4128-f38c-faeb198d92a3"
      },
      "outputs": [
        {
          "data": {
            "application/vnd.jupyter.widget-view+json": {
              "model_id": "ce535ded8808471e93fe310515ad1caf",
              "version_major": 2,
              "version_minor": 0
            },
            "text/plain": [
              "  0%|          | 0/610 [00:00<?, ?it/s]"
            ]
          },
          "metadata": {},
          "output_type": "display_data"
        },
        {
          "name": "stdout",
          "output_type": "stream",
          "text": [
            "Results on the train set for a DL Language Model:\n",
            "----------------------------------------------------\n",
            "Baseline (dummy classifier) accuracy: 0.74\n",
            "Current model's accuracy: 0.98\n",
            "The accuracy lift is: 32 %\n"
          ]
        }
      ],
      "source": [
        "results_train_train = trainer.predict(train_train_tokenized)#\n",
        "predictions_train_train = np.argmax(results_train_train[0], axis=-1)\n",
        "\n",
        "accuracy_dl_train = np.mean(predictions_train_train == train_train_df[\"label\"])\n",
        "baseline_accuracy_dl_train = np.mean(most_frequent_class == train_train_df[\"label\"])\n",
        "accuracy_dl_lift_train = 100 * (accuracy_dl_train/baseline_accuracy_dl_train - 1)\n",
        "\n",
        "print(\"Results on the train set for a DL Language Model:\\n----------------------------------------------------\")\n",
        "print(\"Baseline (dummy classifier) accuracy:\", round(baseline_accuracy_dl_train, 2))\n",
        "print(\"Current model's accuracy:\", round(accuracy_dl_train, 2))\n",
        "print(\"The accuracy lift is:\", round(accuracy_dl_lift_train), \"%\")"
      ]
    },
    {
      "attachments": {},
      "cell_type": "markdown",
      "metadata": {
        "id": "Kx4OosWO-Rj4"
      },
      "source": [
        "### Generate the DL test results: Use for presenting performance"
      ]
    },
    {
      "cell_type": "code",
      "execution_count": 48,
      "metadata": {
        "colab": {
          "base_uri": "https://localhost:8080/",
          "height": 364
        },
        "id": "KANVFwsKvn2d",
        "outputId": "4b2c9821-bb84-4c06-8b2d-b55dcb81c5ea"
      },
      "outputs": [
        {
          "data": {
            "application/vnd.jupyter.widget-view+json": {
              "model_id": "6e319b0e2bfa4d3a81a09a1612d49a08",
              "version_major": 2,
              "version_minor": 0
            },
            "text/plain": [
              "  0%|          | 0/272 [00:00<?, ?it/s]"
            ]
          },
          "metadata": {},
          "output_type": "display_data"
        },
        {
          "name": "stdout",
          "output_type": "stream",
          "text": [
            "Results on the test set for a DL Language Model:\n",
            "---------------------------------------------------\n",
            "Baseline (dummy classifier) accuracy: 0.75\n",
            "Current model's accuracy: 0.95\n",
            "The accuracy lift is: 26 %\n",
            "\n",
            "Confusion Matrix:\n",
            "[[1563   69]\n",
            " [  46  491]]\n",
            "\n",
            "Classification Report:\n",
            "              precision    recall  f1-score   support\n",
            "\n",
            "           0       0.97      0.96      0.96      1632\n",
            "           1       0.88      0.91      0.90       537\n",
            "\n",
            "    accuracy                           0.95      2169\n",
            "   macro avg       0.92      0.94      0.93      2169\n",
            "weighted avg       0.95      0.95      0.95      2169\n",
            "\n"
          ]
        }
      ],
      "source": [
        "results_test = trainer.predict(test_tokenized)\n",
        "predictions_test = np.argmax(results_test[0], axis=-1)\n",
        "\n",
        "accuracy_dl_test = np.mean(predictions_test == test_df[\"label\"])\n",
        "baseline_accuracy_dl_test = np.mean(most_frequent_class == test_df[\"label\"])\n",
        "accuracy_dl_lift = 100 * (accuracy_dl_test/baseline_accuracy_dl_test - 1)\n",
        "\n",
        "print(\"Results on the test set for a DL Language Model:\\n---------------------------------------------------\")\n",
        "print(\"Baseline (dummy classifier) accuracy:\", round(baseline_accuracy_dl_test, 2))\n",
        "print(\"Current model's accuracy:\", round(accuracy_dl_test, 2))\n",
        "print(\"The accuracy lift is:\", round(accuracy_dl_lift), \"%\")\n",
        "\n",
        "\n",
        "print(\"\\nConfusion Matrix:\")\n",
        "print(confusion_matrix(test_df[\"label\"], predictions_test))\n",
        "print(\"\\nClassification Report:\")\n",
        "print(classification_report(test_df[\"label\"], predictions_test))"
      ]
    },
    {
      "attachments": {},
      "cell_type": "markdown",
      "metadata": {
        "id": "K5UfgvaxJGPz"
      },
      "source": [
        "<a id='pytorch_native'></a>"
      ]
    }
  ],
  "metadata": {
    "accelerator": "GPU",
    "colab": {
      "provenance": [],
      "toc_visible": true
    },
    "gpuClass": "standard",
    "kernelspec": {
      "display_name": "Python 3",
      "name": "python3"
    },
    "language_info": {
      "codemirror_mode": {
        "name": "ipython",
        "version": 3
      },
      "file_extension": ".py",
      "mimetype": "text/x-python",
      "name": "python",
      "nbconvert_exporter": "python",
      "pygments_lexer": "ipython3",
      "version": "3.12.4"
    },
    "widgets": {
      "application/vnd.jupyter.widget-state+json": {
        "03eca2f571d74759b1453f03e28ee360": {
          "model_module": "@jupyter-widgets/controls",
          "model_module_version": "1.5.0",
          "model_name": "HTMLModel",
          "state": {
            "_dom_classes": [],
            "_model_module": "@jupyter-widgets/controls",
            "_model_module_version": "1.5.0",
            "_model_name": "HTMLModel",
            "_view_count": null,
            "_view_module": "@jupyter-widgets/controls",
            "_view_module_version": "1.5.0",
            "_view_name": "HTMLView",
            "description": "",
            "description_tooltip": null,
            "layout": "IPY_MODEL_87b77cd65ec74d769cfaf2f056946a58",
            "placeholder": "​",
            "style": "IPY_MODEL_40c1a35ae41048a5a36aaaa5517d232e",
            "value": "Map: 100%"
          }
        },
        "040e9974eb8b4ee287b6eb8ca4536b78": {
          "model_module": "@jupyter-widgets/controls",
          "model_module_version": "1.5.0",
          "model_name": "FloatProgressModel",
          "state": {
            "_dom_classes": [],
            "_model_module": "@jupyter-widgets/controls",
            "_model_module_version": "1.5.0",
            "_model_name": "FloatProgressModel",
            "_view_count": null,
            "_view_module": "@jupyter-widgets/controls",
            "_view_module_version": "1.5.0",
            "_view_name": "ProgressView",
            "bar_style": "success",
            "description": "",
            "description_tooltip": null,
            "layout": "IPY_MODEL_b288c1bf38d3494b975985f204b646e3",
            "max": 231508,
            "min": 0,
            "orientation": "horizontal",
            "style": "IPY_MODEL_b5e951d4a051424d9c28ec4ac9a7ac57",
            "value": 231508
          }
        },
        "050e326df53f410b8030e85c138f0ddf": {
          "model_module": "@jupyter-widgets/controls",
          "model_module_version": "1.5.0",
          "model_name": "HTMLModel",
          "state": {
            "_dom_classes": [],
            "_model_module": "@jupyter-widgets/controls",
            "_model_module_version": "1.5.0",
            "_model_name": "HTMLModel",
            "_view_count": null,
            "_view_module": "@jupyter-widgets/controls",
            "_view_module_version": "1.5.0",
            "_view_name": "HTMLView",
            "description": "",
            "description_tooltip": null,
            "layout": "IPY_MODEL_843f16eb13bc4d0ea2e7b694fbdaba89",
            "placeholder": "​",
            "style": "IPY_MODEL_ba78731b08e744e7a3fb8ef2f14635d6",
            "value": " 48.0/48.0 [00:00&lt;00:00, 3.00kB/s]"
          }
        },
        "098c142a3016470b981240d818e681a5": {
          "model_module": "@jupyter-widgets/base",
          "model_module_version": "1.2.0",
          "model_name": "LayoutModel",
          "state": {
            "_model_module": "@jupyter-widgets/base",
            "_model_module_version": "1.2.0",
            "_model_name": "LayoutModel",
            "_view_count": null,
            "_view_module": "@jupyter-widgets/base",
            "_view_module_version": "1.2.0",
            "_view_name": "LayoutView",
            "align_content": null,
            "align_items": null,
            "align_self": null,
            "border": null,
            "bottom": null,
            "display": null,
            "flex": null,
            "flex_flow": null,
            "grid_area": null,
            "grid_auto_columns": null,
            "grid_auto_flow": null,
            "grid_auto_rows": null,
            "grid_column": null,
            "grid_gap": null,
            "grid_row": null,
            "grid_template_areas": null,
            "grid_template_columns": null,
            "grid_template_rows": null,
            "height": null,
            "justify_content": null,
            "justify_items": null,
            "left": null,
            "margin": null,
            "max_height": null,
            "max_width": null,
            "min_height": null,
            "min_width": null,
            "object_fit": null,
            "object_position": null,
            "order": null,
            "overflow": null,
            "overflow_x": null,
            "overflow_y": null,
            "padding": null,
            "right": null,
            "top": null,
            "visibility": null,
            "width": null
          }
        },
        "0aff96d59e384791a9772374e1421869": {
          "model_module": "@jupyter-widgets/controls",
          "model_module_version": "1.5.0",
          "model_name": "HBoxModel",
          "state": {
            "_dom_classes": [],
            "_model_module": "@jupyter-widgets/controls",
            "_model_module_version": "1.5.0",
            "_model_name": "HBoxModel",
            "_view_count": null,
            "_view_module": "@jupyter-widgets/controls",
            "_view_module_version": "1.5.0",
            "_view_name": "HBoxView",
            "box_style": "",
            "children": [
              "IPY_MODEL_d414285c2c164ee295122978b6fb160c",
              "IPY_MODEL_cc3a62d71b984b40a89b0bdced53c44c",
              "IPY_MODEL_28ca2f694a354d809a915386bcec72b8"
            ],
            "layout": "IPY_MODEL_54a03d9092b040adbfbb04a95032cd74"
          }
        },
        "103a2c2a91ee41e8a9f2178decfa773c": {
          "model_module": "@jupyter-widgets/base",
          "model_module_version": "1.2.0",
          "model_name": "LayoutModel",
          "state": {
            "_model_module": "@jupyter-widgets/base",
            "_model_module_version": "1.2.0",
            "_model_name": "LayoutModel",
            "_view_count": null,
            "_view_module": "@jupyter-widgets/base",
            "_view_module_version": "1.2.0",
            "_view_name": "LayoutView",
            "align_content": null,
            "align_items": null,
            "align_self": null,
            "border": null,
            "bottom": null,
            "display": null,
            "flex": null,
            "flex_flow": null,
            "grid_area": null,
            "grid_auto_columns": null,
            "grid_auto_flow": null,
            "grid_auto_rows": null,
            "grid_column": null,
            "grid_gap": null,
            "grid_row": null,
            "grid_template_areas": null,
            "grid_template_columns": null,
            "grid_template_rows": null,
            "height": null,
            "justify_content": null,
            "justify_items": null,
            "left": null,
            "margin": null,
            "max_height": null,
            "max_width": null,
            "min_height": null,
            "min_width": null,
            "object_fit": null,
            "object_position": null,
            "order": null,
            "overflow": null,
            "overflow_x": null,
            "overflow_y": null,
            "padding": null,
            "right": null,
            "top": null,
            "visibility": null,
            "width": null
          }
        },
        "160b3e8a0f9144dbb30aa062eb296686": {
          "model_module": "@jupyter-widgets/base",
          "model_module_version": "1.2.0",
          "model_name": "LayoutModel",
          "state": {
            "_model_module": "@jupyter-widgets/base",
            "_model_module_version": "1.2.0",
            "_model_name": "LayoutModel",
            "_view_count": null,
            "_view_module": "@jupyter-widgets/base",
            "_view_module_version": "1.2.0",
            "_view_name": "LayoutView",
            "align_content": null,
            "align_items": null,
            "align_self": null,
            "border": null,
            "bottom": null,
            "display": null,
            "flex": null,
            "flex_flow": null,
            "grid_area": null,
            "grid_auto_columns": null,
            "grid_auto_flow": null,
            "grid_auto_rows": null,
            "grid_column": null,
            "grid_gap": null,
            "grid_row": null,
            "grid_template_areas": null,
            "grid_template_columns": null,
            "grid_template_rows": null,
            "height": null,
            "justify_content": null,
            "justify_items": null,
            "left": null,
            "margin": null,
            "max_height": null,
            "max_width": null,
            "min_height": null,
            "min_width": null,
            "object_fit": null,
            "object_position": null,
            "order": null,
            "overflow": null,
            "overflow_x": null,
            "overflow_y": null,
            "padding": null,
            "right": null,
            "top": null,
            "visibility": null,
            "width": null
          }
        },
        "16350733c6ca4eff8611df6d6bcc00dd": {
          "model_module": "@jupyter-widgets/controls",
          "model_module_version": "1.5.0",
          "model_name": "DescriptionStyleModel",
          "state": {
            "_model_module": "@jupyter-widgets/controls",
            "_model_module_version": "1.5.0",
            "_model_name": "DescriptionStyleModel",
            "_view_count": null,
            "_view_module": "@jupyter-widgets/base",
            "_view_module_version": "1.2.0",
            "_view_name": "StyleView",
            "description_width": ""
          }
        },
        "17bd1279c68a42e8bb9b8c391c8cfb15": {
          "model_module": "@jupyter-widgets/controls",
          "model_module_version": "1.5.0",
          "model_name": "FloatProgressModel",
          "state": {
            "_dom_classes": [],
            "_model_module": "@jupyter-widgets/controls",
            "_model_module_version": "1.5.0",
            "_model_name": "FloatProgressModel",
            "_view_count": null,
            "_view_module": "@jupyter-widgets/controls",
            "_view_module_version": "1.5.0",
            "_view_name": "ProgressView",
            "bar_style": "success",
            "description": "",
            "description_tooltip": null,
            "layout": "IPY_MODEL_86f3780520254be8a69ba0c9ecc93f1c",
            "max": 4880,
            "min": 0,
            "orientation": "horizontal",
            "style": "IPY_MODEL_74cb7283bb5042dcb8ac3eca570cb851",
            "value": 4880
          }
        },
        "1b09e7ca7e46432e990084365804482d": {
          "model_module": "@jupyter-widgets/controls",
          "model_module_version": "1.5.0",
          "model_name": "ProgressStyleModel",
          "state": {
            "_model_module": "@jupyter-widgets/controls",
            "_model_module_version": "1.5.0",
            "_model_name": "ProgressStyleModel",
            "_view_count": null,
            "_view_module": "@jupyter-widgets/base",
            "_view_module_version": "1.2.0",
            "_view_name": "StyleView",
            "bar_color": null,
            "description_width": ""
          }
        },
        "1f7bff426453491b99c5627165929011": {
          "model_module": "@jupyter-widgets/base",
          "model_module_version": "1.2.0",
          "model_name": "LayoutModel",
          "state": {
            "_model_module": "@jupyter-widgets/base",
            "_model_module_version": "1.2.0",
            "_model_name": "LayoutModel",
            "_view_count": null,
            "_view_module": "@jupyter-widgets/base",
            "_view_module_version": "1.2.0",
            "_view_name": "LayoutView",
            "align_content": null,
            "align_items": null,
            "align_self": null,
            "border": null,
            "bottom": null,
            "display": null,
            "flex": null,
            "flex_flow": null,
            "grid_area": null,
            "grid_auto_columns": null,
            "grid_auto_flow": null,
            "grid_auto_rows": null,
            "grid_column": null,
            "grid_gap": null,
            "grid_row": null,
            "grid_template_areas": null,
            "grid_template_columns": null,
            "grid_template_rows": null,
            "height": null,
            "justify_content": null,
            "justify_items": null,
            "left": null,
            "margin": null,
            "max_height": null,
            "max_width": null,
            "min_height": null,
            "min_width": null,
            "object_fit": null,
            "object_position": null,
            "order": null,
            "overflow": null,
            "overflow_x": null,
            "overflow_y": null,
            "padding": null,
            "right": null,
            "top": null,
            "visibility": null,
            "width": null
          }
        },
        "20116e05c09348c8894ad804a93f8123": {
          "model_module": "@jupyter-widgets/base",
          "model_module_version": "1.2.0",
          "model_name": "LayoutModel",
          "state": {
            "_model_module": "@jupyter-widgets/base",
            "_model_module_version": "1.2.0",
            "_model_name": "LayoutModel",
            "_view_count": null,
            "_view_module": "@jupyter-widgets/base",
            "_view_module_version": "1.2.0",
            "_view_name": "LayoutView",
            "align_content": null,
            "align_items": null,
            "align_self": null,
            "border": null,
            "bottom": null,
            "display": null,
            "flex": null,
            "flex_flow": null,
            "grid_area": null,
            "grid_auto_columns": null,
            "grid_auto_flow": null,
            "grid_auto_rows": null,
            "grid_column": null,
            "grid_gap": null,
            "grid_row": null,
            "grid_template_areas": null,
            "grid_template_columns": null,
            "grid_template_rows": null,
            "height": null,
            "justify_content": null,
            "justify_items": null,
            "left": null,
            "margin": null,
            "max_height": null,
            "max_width": null,
            "min_height": null,
            "min_width": null,
            "object_fit": null,
            "object_position": null,
            "order": null,
            "overflow": null,
            "overflow_x": null,
            "overflow_y": null,
            "padding": null,
            "right": null,
            "top": null,
            "visibility": null,
            "width": null
          }
        },
        "26c7c8a8544f4f0a9e0412b3bea5f5e5": {
          "model_module": "@jupyter-widgets/controls",
          "model_module_version": "1.5.0",
          "model_name": "DescriptionStyleModel",
          "state": {
            "_model_module": "@jupyter-widgets/controls",
            "_model_module_version": "1.5.0",
            "_model_name": "DescriptionStyleModel",
            "_view_count": null,
            "_view_module": "@jupyter-widgets/base",
            "_view_module_version": "1.2.0",
            "_view_name": "StyleView",
            "description_width": ""
          }
        },
        "27737dab270a42518eefb5ec03413425": {
          "model_module": "@jupyter-widgets/base",
          "model_module_version": "1.2.0",
          "model_name": "LayoutModel",
          "state": {
            "_model_module": "@jupyter-widgets/base",
            "_model_module_version": "1.2.0",
            "_model_name": "LayoutModel",
            "_view_count": null,
            "_view_module": "@jupyter-widgets/base",
            "_view_module_version": "1.2.0",
            "_view_name": "LayoutView",
            "align_content": null,
            "align_items": null,
            "align_self": null,
            "border": null,
            "bottom": null,
            "display": null,
            "flex": null,
            "flex_flow": null,
            "grid_area": null,
            "grid_auto_columns": null,
            "grid_auto_flow": null,
            "grid_auto_rows": null,
            "grid_column": null,
            "grid_gap": null,
            "grid_row": null,
            "grid_template_areas": null,
            "grid_template_columns": null,
            "grid_template_rows": null,
            "height": null,
            "justify_content": null,
            "justify_items": null,
            "left": null,
            "margin": null,
            "max_height": null,
            "max_width": null,
            "min_height": null,
            "min_width": null,
            "object_fit": null,
            "object_position": null,
            "order": null,
            "overflow": null,
            "overflow_x": null,
            "overflow_y": null,
            "padding": null,
            "right": null,
            "top": null,
            "visibility": null,
            "width": null
          }
        },
        "28ca2f694a354d809a915386bcec72b8": {
          "model_module": "@jupyter-widgets/controls",
          "model_module_version": "1.5.0",
          "model_name": "HTMLModel",
          "state": {
            "_dom_classes": [],
            "_model_module": "@jupyter-widgets/controls",
            "_model_module_version": "1.5.0",
            "_model_name": "HTMLModel",
            "_view_count": null,
            "_view_module": "@jupyter-widgets/controls",
            "_view_module_version": "1.5.0",
            "_view_name": "HTMLView",
            "description": "",
            "description_tooltip": null,
            "layout": "IPY_MODEL_9c4dea561e9a45f18b77488e3a2c8c38",
            "placeholder": "​",
            "style": "IPY_MODEL_caa50f95551e4abd8bb8f910d3dcc542",
            "value": " 570/570 [00:00&lt;00:00, 25.6kB/s]"
          }
        },
        "2ab539e2c1894c9d93913a03700701e3": {
          "model_module": "@jupyter-widgets/controls",
          "model_module_version": "1.5.0",
          "model_name": "HTMLModel",
          "state": {
            "_dom_classes": [],
            "_model_module": "@jupyter-widgets/controls",
            "_model_module_version": "1.5.0",
            "_model_name": "HTMLModel",
            "_view_count": null,
            "_view_module": "@jupyter-widgets/controls",
            "_view_module_version": "1.5.0",
            "_view_name": "HTMLView",
            "description": "",
            "description_tooltip": null,
            "layout": "IPY_MODEL_20116e05c09348c8894ad804a93f8123",
            "placeholder": "​",
            "style": "IPY_MODEL_55561deb9e564557bfabfead3dcf43cb",
            "value": "vocab.txt: 100%"
          }
        },
        "2af5480eafce4ce5a181b119c57ae231": {
          "model_module": "@jupyter-widgets/controls",
          "model_module_version": "1.5.0",
          "model_name": "HBoxModel",
          "state": {
            "_dom_classes": [],
            "_model_module": "@jupyter-widgets/controls",
            "_model_module_version": "1.5.0",
            "_model_name": "HBoxModel",
            "_view_count": null,
            "_view_module": "@jupyter-widgets/controls",
            "_view_module_version": "1.5.0",
            "_view_name": "HBoxView",
            "box_style": "",
            "children": [
              "IPY_MODEL_2cd51affbd3e4c9a9d42deae61ef8725",
              "IPY_MODEL_3ff75e0b9dd34817bcffa6c6d4d0cf66",
              "IPY_MODEL_c65103ea708c4494b075f792ec7d2578"
            ],
            "layout": "IPY_MODEL_103a2c2a91ee41e8a9f2178decfa773c"
          }
        },
        "2cd51affbd3e4c9a9d42deae61ef8725": {
          "model_module": "@jupyter-widgets/controls",
          "model_module_version": "1.5.0",
          "model_name": "HTMLModel",
          "state": {
            "_dom_classes": [],
            "_model_module": "@jupyter-widgets/controls",
            "_model_module_version": "1.5.0",
            "_model_name": "HTMLModel",
            "_view_count": null,
            "_view_module": "@jupyter-widgets/controls",
            "_view_module_version": "1.5.0",
            "_view_name": "HTMLView",
            "description": "",
            "description_tooltip": null,
            "layout": "IPY_MODEL_3f81f3084468484e8f901d09c2ea5b07",
            "placeholder": "​",
            "style": "IPY_MODEL_994f3c155dc44c27a978785a7a15bbfe",
            "value": "tokenizer.json: 100%"
          }
        },
        "313bd6d39eef44b1a998bcea69cec16b": {
          "model_module": "@jupyter-widgets/base",
          "model_module_version": "1.2.0",
          "model_name": "LayoutModel",
          "state": {
            "_model_module": "@jupyter-widgets/base",
            "_model_module_version": "1.2.0",
            "_model_name": "LayoutModel",
            "_view_count": null,
            "_view_module": "@jupyter-widgets/base",
            "_view_module_version": "1.2.0",
            "_view_name": "LayoutView",
            "align_content": null,
            "align_items": null,
            "align_self": null,
            "border": null,
            "bottom": null,
            "display": null,
            "flex": null,
            "flex_flow": null,
            "grid_area": null,
            "grid_auto_columns": null,
            "grid_auto_flow": null,
            "grid_auto_rows": null,
            "grid_column": null,
            "grid_gap": null,
            "grid_row": null,
            "grid_template_areas": null,
            "grid_template_columns": null,
            "grid_template_rows": null,
            "height": null,
            "justify_content": null,
            "justify_items": null,
            "left": null,
            "margin": null,
            "max_height": null,
            "max_width": null,
            "min_height": null,
            "min_width": null,
            "object_fit": null,
            "object_position": null,
            "order": null,
            "overflow": null,
            "overflow_x": null,
            "overflow_y": null,
            "padding": null,
            "right": null,
            "top": null,
            "visibility": null,
            "width": null
          }
        },
        "360ae5e4d031449681de6d5165c0cfe6": {
          "model_module": "@jupyter-widgets/base",
          "model_module_version": "1.2.0",
          "model_name": "LayoutModel",
          "state": {
            "_model_module": "@jupyter-widgets/base",
            "_model_module_version": "1.2.0",
            "_model_name": "LayoutModel",
            "_view_count": null,
            "_view_module": "@jupyter-widgets/base",
            "_view_module_version": "1.2.0",
            "_view_name": "LayoutView",
            "align_content": null,
            "align_items": null,
            "align_self": null,
            "border": null,
            "bottom": null,
            "display": null,
            "flex": null,
            "flex_flow": null,
            "grid_area": null,
            "grid_auto_columns": null,
            "grid_auto_flow": null,
            "grid_auto_rows": null,
            "grid_column": null,
            "grid_gap": null,
            "grid_row": null,
            "grid_template_areas": null,
            "grid_template_columns": null,
            "grid_template_rows": null,
            "height": null,
            "justify_content": null,
            "justify_items": null,
            "left": null,
            "margin": null,
            "max_height": null,
            "max_width": null,
            "min_height": null,
            "min_width": null,
            "object_fit": null,
            "object_position": null,
            "order": null,
            "overflow": null,
            "overflow_x": null,
            "overflow_y": null,
            "padding": null,
            "right": null,
            "top": null,
            "visibility": null,
            "width": null
          }
        },
        "394e3053b6184980ad8b1cf9ac883870": {
          "model_module": "@jupyter-widgets/base",
          "model_module_version": "1.2.0",
          "model_name": "LayoutModel",
          "state": {
            "_model_module": "@jupyter-widgets/base",
            "_model_module_version": "1.2.0",
            "_model_name": "LayoutModel",
            "_view_count": null,
            "_view_module": "@jupyter-widgets/base",
            "_view_module_version": "1.2.0",
            "_view_name": "LayoutView",
            "align_content": null,
            "align_items": null,
            "align_self": null,
            "border": null,
            "bottom": null,
            "display": null,
            "flex": null,
            "flex_flow": null,
            "grid_area": null,
            "grid_auto_columns": null,
            "grid_auto_flow": null,
            "grid_auto_rows": null,
            "grid_column": null,
            "grid_gap": null,
            "grid_row": null,
            "grid_template_areas": null,
            "grid_template_columns": null,
            "grid_template_rows": null,
            "height": null,
            "justify_content": null,
            "justify_items": null,
            "left": null,
            "margin": null,
            "max_height": null,
            "max_width": null,
            "min_height": null,
            "min_width": null,
            "object_fit": null,
            "object_position": null,
            "order": null,
            "overflow": null,
            "overflow_x": null,
            "overflow_y": null,
            "padding": null,
            "right": null,
            "top": null,
            "visibility": null,
            "width": null
          }
        },
        "3bf1190a3fd8497d9344dd5240b4e57d": {
          "model_module": "@jupyter-widgets/base",
          "model_module_version": "1.2.0",
          "model_name": "LayoutModel",
          "state": {
            "_model_module": "@jupyter-widgets/base",
            "_model_module_version": "1.2.0",
            "_model_name": "LayoutModel",
            "_view_count": null,
            "_view_module": "@jupyter-widgets/base",
            "_view_module_version": "1.2.0",
            "_view_name": "LayoutView",
            "align_content": null,
            "align_items": null,
            "align_self": null,
            "border": null,
            "bottom": null,
            "display": null,
            "flex": null,
            "flex_flow": null,
            "grid_area": null,
            "grid_auto_columns": null,
            "grid_auto_flow": null,
            "grid_auto_rows": null,
            "grid_column": null,
            "grid_gap": null,
            "grid_row": null,
            "grid_template_areas": null,
            "grid_template_columns": null,
            "grid_template_rows": null,
            "height": null,
            "justify_content": null,
            "justify_items": null,
            "left": null,
            "margin": null,
            "max_height": null,
            "max_width": null,
            "min_height": null,
            "min_width": null,
            "object_fit": null,
            "object_position": null,
            "order": null,
            "overflow": null,
            "overflow_x": null,
            "overflow_y": null,
            "padding": null,
            "right": null,
            "top": null,
            "visibility": null,
            "width": null
          }
        },
        "3ddce4f62bc243bbae17fbc754c74932": {
          "model_module": "@jupyter-widgets/controls",
          "model_module_version": "1.5.0",
          "model_name": "DescriptionStyleModel",
          "state": {
            "_model_module": "@jupyter-widgets/controls",
            "_model_module_version": "1.5.0",
            "_model_name": "DescriptionStyleModel",
            "_view_count": null,
            "_view_module": "@jupyter-widgets/base",
            "_view_module_version": "1.2.0",
            "_view_name": "StyleView",
            "description_width": ""
          }
        },
        "3e85747f79e3418db8dcdecb8ccc9e31": {
          "model_module": "@jupyter-widgets/controls",
          "model_module_version": "1.5.0",
          "model_name": "FloatProgressModel",
          "state": {
            "_dom_classes": [],
            "_model_module": "@jupyter-widgets/controls",
            "_model_module_version": "1.5.0",
            "_model_name": "FloatProgressModel",
            "_view_count": null,
            "_view_module": "@jupyter-widgets/controls",
            "_view_module_version": "1.5.0",
            "_view_name": "ProgressView",
            "bar_style": "success",
            "description": "",
            "description_tooltip": null,
            "layout": "IPY_MODEL_f9b6c024de4c4e5198d12d83a37ae755",
            "max": 48,
            "min": 0,
            "orientation": "horizontal",
            "style": "IPY_MODEL_1b09e7ca7e46432e990084365804482d",
            "value": 48
          }
        },
        "3f81f3084468484e8f901d09c2ea5b07": {
          "model_module": "@jupyter-widgets/base",
          "model_module_version": "1.2.0",
          "model_name": "LayoutModel",
          "state": {
            "_model_module": "@jupyter-widgets/base",
            "_model_module_version": "1.2.0",
            "_model_name": "LayoutModel",
            "_view_count": null,
            "_view_module": "@jupyter-widgets/base",
            "_view_module_version": "1.2.0",
            "_view_name": "LayoutView",
            "align_content": null,
            "align_items": null,
            "align_self": null,
            "border": null,
            "bottom": null,
            "display": null,
            "flex": null,
            "flex_flow": null,
            "grid_area": null,
            "grid_auto_columns": null,
            "grid_auto_flow": null,
            "grid_auto_rows": null,
            "grid_column": null,
            "grid_gap": null,
            "grid_row": null,
            "grid_template_areas": null,
            "grid_template_columns": null,
            "grid_template_rows": null,
            "height": null,
            "justify_content": null,
            "justify_items": null,
            "left": null,
            "margin": null,
            "max_height": null,
            "max_width": null,
            "min_height": null,
            "min_width": null,
            "object_fit": null,
            "object_position": null,
            "order": null,
            "overflow": null,
            "overflow_x": null,
            "overflow_y": null,
            "padding": null,
            "right": null,
            "top": null,
            "visibility": null,
            "width": null
          }
        },
        "3ff75e0b9dd34817bcffa6c6d4d0cf66": {
          "model_module": "@jupyter-widgets/controls",
          "model_module_version": "1.5.0",
          "model_name": "FloatProgressModel",
          "state": {
            "_dom_classes": [],
            "_model_module": "@jupyter-widgets/controls",
            "_model_module_version": "1.5.0",
            "_model_name": "FloatProgressModel",
            "_view_count": null,
            "_view_module": "@jupyter-widgets/controls",
            "_view_module_version": "1.5.0",
            "_view_name": "ProgressView",
            "bar_style": "success",
            "description": "",
            "description_tooltip": null,
            "layout": "IPY_MODEL_ebc84f172be540e498eab0ac92e98879",
            "max": 466062,
            "min": 0,
            "orientation": "horizontal",
            "style": "IPY_MODEL_664e5b569b914d7fbde69b93d761625c",
            "value": 466062
          }
        },
        "40c1a35ae41048a5a36aaaa5517d232e": {
          "model_module": "@jupyter-widgets/controls",
          "model_module_version": "1.5.0",
          "model_name": "DescriptionStyleModel",
          "state": {
            "_model_module": "@jupyter-widgets/controls",
            "_model_module_version": "1.5.0",
            "_model_name": "DescriptionStyleModel",
            "_view_count": null,
            "_view_module": "@jupyter-widgets/base",
            "_view_module_version": "1.2.0",
            "_view_name": "StyleView",
            "description_width": ""
          }
        },
        "45b4f32b3fc54e1dac70fa3a822e4452": {
          "model_module": "@jupyter-widgets/controls",
          "model_module_version": "1.5.0",
          "model_name": "HTMLModel",
          "state": {
            "_dom_classes": [],
            "_model_module": "@jupyter-widgets/controls",
            "_model_module_version": "1.5.0",
            "_model_name": "HTMLModel",
            "_view_count": null,
            "_view_module": "@jupyter-widgets/controls",
            "_view_module_version": "1.5.0",
            "_view_name": "HTMLView",
            "description": "",
            "description_tooltip": null,
            "layout": "IPY_MODEL_7a03dac8569b41dd949d6ba8bac22326",
            "placeholder": "​",
            "style": "IPY_MODEL_d1ae726bcad24b579a39735109bdb4d5",
            "value": " 4880/4880 [00:01&lt;00:00, 2526.12 examples/s]"
          }
        },
        "474054f4c4b64600ab8216e104d234bf": {
          "model_module": "@jupyter-widgets/base",
          "model_module_version": "1.2.0",
          "model_name": "LayoutModel",
          "state": {
            "_model_module": "@jupyter-widgets/base",
            "_model_module_version": "1.2.0",
            "_model_name": "LayoutModel",
            "_view_count": null,
            "_view_module": "@jupyter-widgets/base",
            "_view_module_version": "1.2.0",
            "_view_name": "LayoutView",
            "align_content": null,
            "align_items": null,
            "align_self": null,
            "border": null,
            "bottom": null,
            "display": null,
            "flex": null,
            "flex_flow": null,
            "grid_area": null,
            "grid_auto_columns": null,
            "grid_auto_flow": null,
            "grid_auto_rows": null,
            "grid_column": null,
            "grid_gap": null,
            "grid_row": null,
            "grid_template_areas": null,
            "grid_template_columns": null,
            "grid_template_rows": null,
            "height": null,
            "justify_content": null,
            "justify_items": null,
            "left": null,
            "margin": null,
            "max_height": null,
            "max_width": null,
            "min_height": null,
            "min_width": null,
            "object_fit": null,
            "object_position": null,
            "order": null,
            "overflow": null,
            "overflow_x": null,
            "overflow_y": null,
            "padding": null,
            "right": null,
            "top": null,
            "visibility": null,
            "width": null
          }
        },
        "48f7aaf647894e2a94ffbbeea565d246": {
          "model_module": "@jupyter-widgets/controls",
          "model_module_version": "1.5.0",
          "model_name": "ProgressStyleModel",
          "state": {
            "_model_module": "@jupyter-widgets/controls",
            "_model_module_version": "1.5.0",
            "_model_name": "ProgressStyleModel",
            "_view_count": null,
            "_view_module": "@jupyter-widgets/base",
            "_view_module_version": "1.2.0",
            "_view_name": "StyleView",
            "bar_color": null,
            "description_width": ""
          }
        },
        "49f5db556509467cb64fa6fb0fb57cb3": {
          "model_module": "@jupyter-widgets/base",
          "model_module_version": "1.2.0",
          "model_name": "LayoutModel",
          "state": {
            "_model_module": "@jupyter-widgets/base",
            "_model_module_version": "1.2.0",
            "_model_name": "LayoutModel",
            "_view_count": null,
            "_view_module": "@jupyter-widgets/base",
            "_view_module_version": "1.2.0",
            "_view_name": "LayoutView",
            "align_content": null,
            "align_items": null,
            "align_self": null,
            "border": null,
            "bottom": null,
            "display": null,
            "flex": null,
            "flex_flow": null,
            "grid_area": null,
            "grid_auto_columns": null,
            "grid_auto_flow": null,
            "grid_auto_rows": null,
            "grid_column": null,
            "grid_gap": null,
            "grid_row": null,
            "grid_template_areas": null,
            "grid_template_columns": null,
            "grid_template_rows": null,
            "height": null,
            "justify_content": null,
            "justify_items": null,
            "left": null,
            "margin": null,
            "max_height": null,
            "max_width": null,
            "min_height": null,
            "min_width": null,
            "object_fit": null,
            "object_position": null,
            "order": null,
            "overflow": null,
            "overflow_x": null,
            "overflow_y": null,
            "padding": null,
            "right": null,
            "top": null,
            "visibility": null,
            "width": null
          }
        },
        "4daebb75a50b4f52a2e15f333ca90609": {
          "model_module": "@jupyter-widgets/base",
          "model_module_version": "1.2.0",
          "model_name": "LayoutModel",
          "state": {
            "_model_module": "@jupyter-widgets/base",
            "_model_module_version": "1.2.0",
            "_model_name": "LayoutModel",
            "_view_count": null,
            "_view_module": "@jupyter-widgets/base",
            "_view_module_version": "1.2.0",
            "_view_name": "LayoutView",
            "align_content": null,
            "align_items": null,
            "align_self": null,
            "border": null,
            "bottom": null,
            "display": null,
            "flex": null,
            "flex_flow": null,
            "grid_area": null,
            "grid_auto_columns": null,
            "grid_auto_flow": null,
            "grid_auto_rows": null,
            "grid_column": null,
            "grid_gap": null,
            "grid_row": null,
            "grid_template_areas": null,
            "grid_template_columns": null,
            "grid_template_rows": null,
            "height": null,
            "justify_content": null,
            "justify_items": null,
            "left": null,
            "margin": null,
            "max_height": null,
            "max_width": null,
            "min_height": null,
            "min_width": null,
            "object_fit": null,
            "object_position": null,
            "order": null,
            "overflow": null,
            "overflow_x": null,
            "overflow_y": null,
            "padding": null,
            "right": null,
            "top": null,
            "visibility": null,
            "width": null
          }
        },
        "4e59624846fe48edbf91475a2b7fdebf": {
          "model_module": "@jupyter-widgets/controls",
          "model_module_version": "1.5.0",
          "model_name": "HBoxModel",
          "state": {
            "_dom_classes": [],
            "_model_module": "@jupyter-widgets/controls",
            "_model_module_version": "1.5.0",
            "_model_name": "HBoxModel",
            "_view_count": null,
            "_view_module": "@jupyter-widgets/controls",
            "_view_module_version": "1.5.0",
            "_view_name": "HBoxView",
            "box_style": "",
            "children": [
              "IPY_MODEL_97ab2101ef8149cebbe40aa0b7169d3a",
              "IPY_MODEL_c9482ecfd4004fa9ac8602f782f249d6",
              "IPY_MODEL_fa48b2a69f934782a8972b00a4dba8fc"
            ],
            "layout": "IPY_MODEL_160b3e8a0f9144dbb30aa062eb296686"
          }
        },
        "5120a915db65442893ffceb18b19c751": {
          "model_module": "@jupyter-widgets/controls",
          "model_module_version": "1.5.0",
          "model_name": "FloatProgressModel",
          "state": {
            "_dom_classes": [],
            "_model_module": "@jupyter-widgets/controls",
            "_model_module_version": "1.5.0",
            "_model_name": "FloatProgressModel",
            "_view_count": null,
            "_view_module": "@jupyter-widgets/controls",
            "_view_module_version": "1.5.0",
            "_view_name": "ProgressView",
            "bar_style": "success",
            "description": "",
            "description_tooltip": null,
            "layout": "IPY_MODEL_5702cfd040c441c09f9f07696555b910",
            "max": 1627,
            "min": 0,
            "orientation": "horizontal",
            "style": "IPY_MODEL_48f7aaf647894e2a94ffbbeea565d246",
            "value": 1627
          }
        },
        "535eb7a9b346475ab686fa25ae93f2f7": {
          "model_module": "@jupyter-widgets/base",
          "model_module_version": "1.2.0",
          "model_name": "LayoutModel",
          "state": {
            "_model_module": "@jupyter-widgets/base",
            "_model_module_version": "1.2.0",
            "_model_name": "LayoutModel",
            "_view_count": null,
            "_view_module": "@jupyter-widgets/base",
            "_view_module_version": "1.2.0",
            "_view_name": "LayoutView",
            "align_content": null,
            "align_items": null,
            "align_self": null,
            "border": null,
            "bottom": null,
            "display": null,
            "flex": null,
            "flex_flow": null,
            "grid_area": null,
            "grid_auto_columns": null,
            "grid_auto_flow": null,
            "grid_auto_rows": null,
            "grid_column": null,
            "grid_gap": null,
            "grid_row": null,
            "grid_template_areas": null,
            "grid_template_columns": null,
            "grid_template_rows": null,
            "height": null,
            "justify_content": null,
            "justify_items": null,
            "left": null,
            "margin": null,
            "max_height": null,
            "max_width": null,
            "min_height": null,
            "min_width": null,
            "object_fit": null,
            "object_position": null,
            "order": null,
            "overflow": null,
            "overflow_x": null,
            "overflow_y": null,
            "padding": null,
            "right": null,
            "top": null,
            "visibility": null,
            "width": null
          }
        },
        "54a03d9092b040adbfbb04a95032cd74": {
          "model_module": "@jupyter-widgets/base",
          "model_module_version": "1.2.0",
          "model_name": "LayoutModel",
          "state": {
            "_model_module": "@jupyter-widgets/base",
            "_model_module_version": "1.2.0",
            "_model_name": "LayoutModel",
            "_view_count": null,
            "_view_module": "@jupyter-widgets/base",
            "_view_module_version": "1.2.0",
            "_view_name": "LayoutView",
            "align_content": null,
            "align_items": null,
            "align_self": null,
            "border": null,
            "bottom": null,
            "display": null,
            "flex": null,
            "flex_flow": null,
            "grid_area": null,
            "grid_auto_columns": null,
            "grid_auto_flow": null,
            "grid_auto_rows": null,
            "grid_column": null,
            "grid_gap": null,
            "grid_row": null,
            "grid_template_areas": null,
            "grid_template_columns": null,
            "grid_template_rows": null,
            "height": null,
            "justify_content": null,
            "justify_items": null,
            "left": null,
            "margin": null,
            "max_height": null,
            "max_width": null,
            "min_height": null,
            "min_width": null,
            "object_fit": null,
            "object_position": null,
            "order": null,
            "overflow": null,
            "overflow_x": null,
            "overflow_y": null,
            "padding": null,
            "right": null,
            "top": null,
            "visibility": null,
            "width": null
          }
        },
        "55561deb9e564557bfabfead3dcf43cb": {
          "model_module": "@jupyter-widgets/controls",
          "model_module_version": "1.5.0",
          "model_name": "DescriptionStyleModel",
          "state": {
            "_model_module": "@jupyter-widgets/controls",
            "_model_module_version": "1.5.0",
            "_model_name": "DescriptionStyleModel",
            "_view_count": null,
            "_view_module": "@jupyter-widgets/base",
            "_view_module_version": "1.2.0",
            "_view_name": "StyleView",
            "description_width": ""
          }
        },
        "5702cfd040c441c09f9f07696555b910": {
          "model_module": "@jupyter-widgets/base",
          "model_module_version": "1.2.0",
          "model_name": "LayoutModel",
          "state": {
            "_model_module": "@jupyter-widgets/base",
            "_model_module_version": "1.2.0",
            "_model_name": "LayoutModel",
            "_view_count": null,
            "_view_module": "@jupyter-widgets/base",
            "_view_module_version": "1.2.0",
            "_view_name": "LayoutView",
            "align_content": null,
            "align_items": null,
            "align_self": null,
            "border": null,
            "bottom": null,
            "display": null,
            "flex": null,
            "flex_flow": null,
            "grid_area": null,
            "grid_auto_columns": null,
            "grid_auto_flow": null,
            "grid_auto_rows": null,
            "grid_column": null,
            "grid_gap": null,
            "grid_row": null,
            "grid_template_areas": null,
            "grid_template_columns": null,
            "grid_template_rows": null,
            "height": null,
            "justify_content": null,
            "justify_items": null,
            "left": null,
            "margin": null,
            "max_height": null,
            "max_width": null,
            "min_height": null,
            "min_width": null,
            "object_fit": null,
            "object_position": null,
            "order": null,
            "overflow": null,
            "overflow_x": null,
            "overflow_y": null,
            "padding": null,
            "right": null,
            "top": null,
            "visibility": null,
            "width": null
          }
        },
        "57ad49ce27e3403398e3256d9d9b8ca8": {
          "model_module": "@jupyter-widgets/controls",
          "model_module_version": "1.5.0",
          "model_name": "ProgressStyleModel",
          "state": {
            "_model_module": "@jupyter-widgets/controls",
            "_model_module_version": "1.5.0",
            "_model_name": "ProgressStyleModel",
            "_view_count": null,
            "_view_module": "@jupyter-widgets/base",
            "_view_module_version": "1.2.0",
            "_view_name": "StyleView",
            "bar_color": null,
            "description_width": ""
          }
        },
        "664e5b569b914d7fbde69b93d761625c": {
          "model_module": "@jupyter-widgets/controls",
          "model_module_version": "1.5.0",
          "model_name": "ProgressStyleModel",
          "state": {
            "_model_module": "@jupyter-widgets/controls",
            "_model_module_version": "1.5.0",
            "_model_name": "ProgressStyleModel",
            "_view_count": null,
            "_view_module": "@jupyter-widgets/base",
            "_view_module_version": "1.2.0",
            "_view_name": "StyleView",
            "bar_color": null,
            "description_width": ""
          }
        },
        "694acd04ca7e4eb6b9f1ee5308ce1890": {
          "model_module": "@jupyter-widgets/base",
          "model_module_version": "1.2.0",
          "model_name": "LayoutModel",
          "state": {
            "_model_module": "@jupyter-widgets/base",
            "_model_module_version": "1.2.0",
            "_model_name": "LayoutModel",
            "_view_count": null,
            "_view_module": "@jupyter-widgets/base",
            "_view_module_version": "1.2.0",
            "_view_name": "LayoutView",
            "align_content": null,
            "align_items": null,
            "align_self": null,
            "border": null,
            "bottom": null,
            "display": null,
            "flex": null,
            "flex_flow": null,
            "grid_area": null,
            "grid_auto_columns": null,
            "grid_auto_flow": null,
            "grid_auto_rows": null,
            "grid_column": null,
            "grid_gap": null,
            "grid_row": null,
            "grid_template_areas": null,
            "grid_template_columns": null,
            "grid_template_rows": null,
            "height": null,
            "justify_content": null,
            "justify_items": null,
            "left": null,
            "margin": null,
            "max_height": null,
            "max_width": null,
            "min_height": null,
            "min_width": null,
            "object_fit": null,
            "object_position": null,
            "order": null,
            "overflow": null,
            "overflow_x": null,
            "overflow_y": null,
            "padding": null,
            "right": null,
            "top": null,
            "visibility": null,
            "width": null
          }
        },
        "6d2948debccd4ca9841a0a1175120f65": {
          "model_module": "@jupyter-widgets/controls",
          "model_module_version": "1.5.0",
          "model_name": "DescriptionStyleModel",
          "state": {
            "_model_module": "@jupyter-widgets/controls",
            "_model_module_version": "1.5.0",
            "_model_name": "DescriptionStyleModel",
            "_view_count": null,
            "_view_module": "@jupyter-widgets/base",
            "_view_module_version": "1.2.0",
            "_view_name": "StyleView",
            "description_width": ""
          }
        },
        "6fac132c8e774a4d9c59c0b66e380f5d": {
          "model_module": "@jupyter-widgets/base",
          "model_module_version": "1.2.0",
          "model_name": "LayoutModel",
          "state": {
            "_model_module": "@jupyter-widgets/base",
            "_model_module_version": "1.2.0",
            "_model_name": "LayoutModel",
            "_view_count": null,
            "_view_module": "@jupyter-widgets/base",
            "_view_module_version": "1.2.0",
            "_view_name": "LayoutView",
            "align_content": null,
            "align_items": null,
            "align_self": null,
            "border": null,
            "bottom": null,
            "display": null,
            "flex": null,
            "flex_flow": null,
            "grid_area": null,
            "grid_auto_columns": null,
            "grid_auto_flow": null,
            "grid_auto_rows": null,
            "grid_column": null,
            "grid_gap": null,
            "grid_row": null,
            "grid_template_areas": null,
            "grid_template_columns": null,
            "grid_template_rows": null,
            "height": null,
            "justify_content": null,
            "justify_items": null,
            "left": null,
            "margin": null,
            "max_height": null,
            "max_width": null,
            "min_height": null,
            "min_width": null,
            "object_fit": null,
            "object_position": null,
            "order": null,
            "overflow": null,
            "overflow_x": null,
            "overflow_y": null,
            "padding": null,
            "right": null,
            "top": null,
            "visibility": null,
            "width": null
          }
        },
        "7099cb7aa89f482e843d17ca5548f597": {
          "model_module": "@jupyter-widgets/controls",
          "model_module_version": "1.5.0",
          "model_name": "DescriptionStyleModel",
          "state": {
            "_model_module": "@jupyter-widgets/controls",
            "_model_module_version": "1.5.0",
            "_model_name": "DescriptionStyleModel",
            "_view_count": null,
            "_view_module": "@jupyter-widgets/base",
            "_view_module_version": "1.2.0",
            "_view_name": "StyleView",
            "description_width": ""
          }
        },
        "74cb7283bb5042dcb8ac3eca570cb851": {
          "model_module": "@jupyter-widgets/controls",
          "model_module_version": "1.5.0",
          "model_name": "ProgressStyleModel",
          "state": {
            "_model_module": "@jupyter-widgets/controls",
            "_model_module_version": "1.5.0",
            "_model_name": "ProgressStyleModel",
            "_view_count": null,
            "_view_module": "@jupyter-widgets/base",
            "_view_module_version": "1.2.0",
            "_view_name": "StyleView",
            "bar_color": null,
            "description_width": ""
          }
        },
        "77bfef19bc9448a19a61c9aa816686df": {
          "model_module": "@jupyter-widgets/controls",
          "model_module_version": "1.5.0",
          "model_name": "HTMLModel",
          "state": {
            "_dom_classes": [],
            "_model_module": "@jupyter-widgets/controls",
            "_model_module_version": "1.5.0",
            "_model_name": "HTMLModel",
            "_view_count": null,
            "_view_module": "@jupyter-widgets/controls",
            "_view_module_version": "1.5.0",
            "_view_name": "HTMLView",
            "description": "",
            "description_tooltip": null,
            "layout": "IPY_MODEL_bc5b7870cae843d18666503afd6aac69",
            "placeholder": "​",
            "style": "IPY_MODEL_cdfa0e4c66ab4d8995ec26bfc880ae04",
            "value": "tokenizer_config.json: 100%"
          }
        },
        "78df8e9bda114ecb9d78475ef64efd16": {
          "model_module": "@jupyter-widgets/controls",
          "model_module_version": "1.5.0",
          "model_name": "FloatProgressModel",
          "state": {
            "_dom_classes": [],
            "_model_module": "@jupyter-widgets/controls",
            "_model_module_version": "1.5.0",
            "_model_name": "FloatProgressModel",
            "_view_count": null,
            "_view_module": "@jupyter-widgets/controls",
            "_view_module_version": "1.5.0",
            "_view_name": "ProgressView",
            "bar_style": "success",
            "description": "",
            "description_tooltip": null,
            "layout": "IPY_MODEL_098c142a3016470b981240d818e681a5",
            "max": 440449768,
            "min": 0,
            "orientation": "horizontal",
            "style": "IPY_MODEL_c9cdd34643c24241b567a053bb2fd562",
            "value": 440449768
          }
        },
        "799c054bca4f4f35a65454e255096a4d": {
          "model_module": "@jupyter-widgets/controls",
          "model_module_version": "1.5.0",
          "model_name": "HTMLModel",
          "state": {
            "_dom_classes": [],
            "_model_module": "@jupyter-widgets/controls",
            "_model_module_version": "1.5.0",
            "_model_name": "HTMLModel",
            "_view_count": null,
            "_view_module": "@jupyter-widgets/controls",
            "_view_module_version": "1.5.0",
            "_view_name": "HTMLView",
            "description": "",
            "description_tooltip": null,
            "layout": "IPY_MODEL_474054f4c4b64600ab8216e104d234bf",
            "placeholder": "​",
            "style": "IPY_MODEL_3ddce4f62bc243bbae17fbc754c74932",
            "value": " 232k/232k [00:00&lt;00:00, 4.38MB/s]"
          }
        },
        "7a03dac8569b41dd949d6ba8bac22326": {
          "model_module": "@jupyter-widgets/base",
          "model_module_version": "1.2.0",
          "model_name": "LayoutModel",
          "state": {
            "_model_module": "@jupyter-widgets/base",
            "_model_module_version": "1.2.0",
            "_model_name": "LayoutModel",
            "_view_count": null,
            "_view_module": "@jupyter-widgets/base",
            "_view_module_version": "1.2.0",
            "_view_name": "LayoutView",
            "align_content": null,
            "align_items": null,
            "align_self": null,
            "border": null,
            "bottom": null,
            "display": null,
            "flex": null,
            "flex_flow": null,
            "grid_area": null,
            "grid_auto_columns": null,
            "grid_auto_flow": null,
            "grid_auto_rows": null,
            "grid_column": null,
            "grid_gap": null,
            "grid_row": null,
            "grid_template_areas": null,
            "grid_template_columns": null,
            "grid_template_rows": null,
            "height": null,
            "justify_content": null,
            "justify_items": null,
            "left": null,
            "margin": null,
            "max_height": null,
            "max_width": null,
            "min_height": null,
            "min_width": null,
            "object_fit": null,
            "object_position": null,
            "order": null,
            "overflow": null,
            "overflow_x": null,
            "overflow_y": null,
            "padding": null,
            "right": null,
            "top": null,
            "visibility": null,
            "width": null
          }
        },
        "7f423470b4904dd1a01391f896dfd5d6": {
          "model_module": "@jupyter-widgets/controls",
          "model_module_version": "1.5.0",
          "model_name": "HTMLModel",
          "state": {
            "_dom_classes": [],
            "_model_module": "@jupyter-widgets/controls",
            "_model_module_version": "1.5.0",
            "_model_name": "HTMLModel",
            "_view_count": null,
            "_view_module": "@jupyter-widgets/controls",
            "_view_module_version": "1.5.0",
            "_view_name": "HTMLView",
            "description": "",
            "description_tooltip": null,
            "layout": "IPY_MODEL_e98460d193cc4431abff6a1f68776b5e",
            "placeholder": "​",
            "style": "IPY_MODEL_dc6a773fa8a548bfbfe66f3036f165c0",
            "value": "Map: 100%"
          }
        },
        "810b971582fe4616b42cb0706871adef": {
          "model_module": "@jupyter-widgets/controls",
          "model_module_version": "1.5.0",
          "model_name": "HBoxModel",
          "state": {
            "_dom_classes": [],
            "_model_module": "@jupyter-widgets/controls",
            "_model_module_version": "1.5.0",
            "_model_name": "HBoxModel",
            "_view_count": null,
            "_view_module": "@jupyter-widgets/controls",
            "_view_module_version": "1.5.0",
            "_view_name": "HBoxView",
            "box_style": "",
            "children": [
              "IPY_MODEL_c626d329a7894f85ab044ba5b746171d",
              "IPY_MODEL_78df8e9bda114ecb9d78475ef64efd16",
              "IPY_MODEL_c42836171b794b7683f9613593128b16"
            ],
            "layout": "IPY_MODEL_dcd4877ccf2f4115b666f3c9e82a8c54"
          }
        },
        "843f16eb13bc4d0ea2e7b694fbdaba89": {
          "model_module": "@jupyter-widgets/base",
          "model_module_version": "1.2.0",
          "model_name": "LayoutModel",
          "state": {
            "_model_module": "@jupyter-widgets/base",
            "_model_module_version": "1.2.0",
            "_model_name": "LayoutModel",
            "_view_count": null,
            "_view_module": "@jupyter-widgets/base",
            "_view_module_version": "1.2.0",
            "_view_name": "LayoutView",
            "align_content": null,
            "align_items": null,
            "align_self": null,
            "border": null,
            "bottom": null,
            "display": null,
            "flex": null,
            "flex_flow": null,
            "grid_area": null,
            "grid_auto_columns": null,
            "grid_auto_flow": null,
            "grid_auto_rows": null,
            "grid_column": null,
            "grid_gap": null,
            "grid_row": null,
            "grid_template_areas": null,
            "grid_template_columns": null,
            "grid_template_rows": null,
            "height": null,
            "justify_content": null,
            "justify_items": null,
            "left": null,
            "margin": null,
            "max_height": null,
            "max_width": null,
            "min_height": null,
            "min_width": null,
            "object_fit": null,
            "object_position": null,
            "order": null,
            "overflow": null,
            "overflow_x": null,
            "overflow_y": null,
            "padding": null,
            "right": null,
            "top": null,
            "visibility": null,
            "width": null
          }
        },
        "86f3780520254be8a69ba0c9ecc93f1c": {
          "model_module": "@jupyter-widgets/base",
          "model_module_version": "1.2.0",
          "model_name": "LayoutModel",
          "state": {
            "_model_module": "@jupyter-widgets/base",
            "_model_module_version": "1.2.0",
            "_model_name": "LayoutModel",
            "_view_count": null,
            "_view_module": "@jupyter-widgets/base",
            "_view_module_version": "1.2.0",
            "_view_name": "LayoutView",
            "align_content": null,
            "align_items": null,
            "align_self": null,
            "border": null,
            "bottom": null,
            "display": null,
            "flex": null,
            "flex_flow": null,
            "grid_area": null,
            "grid_auto_columns": null,
            "grid_auto_flow": null,
            "grid_auto_rows": null,
            "grid_column": null,
            "grid_gap": null,
            "grid_row": null,
            "grid_template_areas": null,
            "grid_template_columns": null,
            "grid_template_rows": null,
            "height": null,
            "justify_content": null,
            "justify_items": null,
            "left": null,
            "margin": null,
            "max_height": null,
            "max_width": null,
            "min_height": null,
            "min_width": null,
            "object_fit": null,
            "object_position": null,
            "order": null,
            "overflow": null,
            "overflow_x": null,
            "overflow_y": null,
            "padding": null,
            "right": null,
            "top": null,
            "visibility": null,
            "width": null
          }
        },
        "87b77cd65ec74d769cfaf2f056946a58": {
          "model_module": "@jupyter-widgets/base",
          "model_module_version": "1.2.0",
          "model_name": "LayoutModel",
          "state": {
            "_model_module": "@jupyter-widgets/base",
            "_model_module_version": "1.2.0",
            "_model_name": "LayoutModel",
            "_view_count": null,
            "_view_module": "@jupyter-widgets/base",
            "_view_module_version": "1.2.0",
            "_view_name": "LayoutView",
            "align_content": null,
            "align_items": null,
            "align_self": null,
            "border": null,
            "bottom": null,
            "display": null,
            "flex": null,
            "flex_flow": null,
            "grid_area": null,
            "grid_auto_columns": null,
            "grid_auto_flow": null,
            "grid_auto_rows": null,
            "grid_column": null,
            "grid_gap": null,
            "grid_row": null,
            "grid_template_areas": null,
            "grid_template_columns": null,
            "grid_template_rows": null,
            "height": null,
            "justify_content": null,
            "justify_items": null,
            "left": null,
            "margin": null,
            "max_height": null,
            "max_width": null,
            "min_height": null,
            "min_width": null,
            "object_fit": null,
            "object_position": null,
            "order": null,
            "overflow": null,
            "overflow_x": null,
            "overflow_y": null,
            "padding": null,
            "right": null,
            "top": null,
            "visibility": null,
            "width": null
          }
        },
        "8e154cbae8e540fba9ad5c3ff7f86514": {
          "model_module": "@jupyter-widgets/base",
          "model_module_version": "1.2.0",
          "model_name": "LayoutModel",
          "state": {
            "_model_module": "@jupyter-widgets/base",
            "_model_module_version": "1.2.0",
            "_model_name": "LayoutModel",
            "_view_count": null,
            "_view_module": "@jupyter-widgets/base",
            "_view_module_version": "1.2.0",
            "_view_name": "LayoutView",
            "align_content": null,
            "align_items": null,
            "align_self": null,
            "border": null,
            "bottom": null,
            "display": null,
            "flex": null,
            "flex_flow": null,
            "grid_area": null,
            "grid_auto_columns": null,
            "grid_auto_flow": null,
            "grid_auto_rows": null,
            "grid_column": null,
            "grid_gap": null,
            "grid_row": null,
            "grid_template_areas": null,
            "grid_template_columns": null,
            "grid_template_rows": null,
            "height": null,
            "justify_content": null,
            "justify_items": null,
            "left": null,
            "margin": null,
            "max_height": null,
            "max_width": null,
            "min_height": null,
            "min_width": null,
            "object_fit": null,
            "object_position": null,
            "order": null,
            "overflow": null,
            "overflow_x": null,
            "overflow_y": null,
            "padding": null,
            "right": null,
            "top": null,
            "visibility": null,
            "width": null
          }
        },
        "8f160746113648e4af8bc53395aedf0f": {
          "model_module": "@jupyter-widgets/controls",
          "model_module_version": "1.5.0",
          "model_name": "HBoxModel",
          "state": {
            "_dom_classes": [],
            "_model_module": "@jupyter-widgets/controls",
            "_model_module_version": "1.5.0",
            "_model_name": "HBoxModel",
            "_view_count": null,
            "_view_module": "@jupyter-widgets/controls",
            "_view_module_version": "1.5.0",
            "_view_name": "HBoxView",
            "box_style": "",
            "children": [
              "IPY_MODEL_ef5d2d6ad6804c4499ca15001c945eb6",
              "IPY_MODEL_17bd1279c68a42e8bb9b8c391c8cfb15",
              "IPY_MODEL_45b4f32b3fc54e1dac70fa3a822e4452"
            ],
            "layout": "IPY_MODEL_535eb7a9b346475ab686fa25ae93f2f7"
          }
        },
        "97ab2101ef8149cebbe40aa0b7169d3a": {
          "model_module": "@jupyter-widgets/controls",
          "model_module_version": "1.5.0",
          "model_name": "HTMLModel",
          "state": {
            "_dom_classes": [],
            "_model_module": "@jupyter-widgets/controls",
            "_model_module_version": "1.5.0",
            "_model_name": "HTMLModel",
            "_view_count": null,
            "_view_module": "@jupyter-widgets/controls",
            "_view_module_version": "1.5.0",
            "_view_name": "HTMLView",
            "description": "",
            "description_tooltip": null,
            "layout": "IPY_MODEL_cd9098d89fab4e519290a90133c6e1cd",
            "placeholder": "​",
            "style": "IPY_MODEL_d465ae1a0df44d85bc241da6a5810e0a",
            "value": "Downloading builder script: 100%"
          }
        },
        "98274506b9434f15a3046703f6316bc4": {
          "model_module": "@jupyter-widgets/controls",
          "model_module_version": "1.5.0",
          "model_name": "ProgressStyleModel",
          "state": {
            "_model_module": "@jupyter-widgets/controls",
            "_model_module_version": "1.5.0",
            "_model_name": "ProgressStyleModel",
            "_view_count": null,
            "_view_module": "@jupyter-widgets/base",
            "_view_module_version": "1.2.0",
            "_view_name": "StyleView",
            "bar_color": null,
            "description_width": ""
          }
        },
        "994f3c155dc44c27a978785a7a15bbfe": {
          "model_module": "@jupyter-widgets/controls",
          "model_module_version": "1.5.0",
          "model_name": "DescriptionStyleModel",
          "state": {
            "_model_module": "@jupyter-widgets/controls",
            "_model_module_version": "1.5.0",
            "_model_name": "DescriptionStyleModel",
            "_view_count": null,
            "_view_module": "@jupyter-widgets/base",
            "_view_module_version": "1.2.0",
            "_view_name": "StyleView",
            "description_width": ""
          }
        },
        "99b503702cfa4282b46d92d19cfc841f": {
          "model_module": "@jupyter-widgets/base",
          "model_module_version": "1.2.0",
          "model_name": "LayoutModel",
          "state": {
            "_model_module": "@jupyter-widgets/base",
            "_model_module_version": "1.2.0",
            "_model_name": "LayoutModel",
            "_view_count": null,
            "_view_module": "@jupyter-widgets/base",
            "_view_module_version": "1.2.0",
            "_view_name": "LayoutView",
            "align_content": null,
            "align_items": null,
            "align_self": null,
            "border": null,
            "bottom": null,
            "display": null,
            "flex": null,
            "flex_flow": null,
            "grid_area": null,
            "grid_auto_columns": null,
            "grid_auto_flow": null,
            "grid_auto_rows": null,
            "grid_column": null,
            "grid_gap": null,
            "grid_row": null,
            "grid_template_areas": null,
            "grid_template_columns": null,
            "grid_template_rows": null,
            "height": null,
            "justify_content": null,
            "justify_items": null,
            "left": null,
            "margin": null,
            "max_height": null,
            "max_width": null,
            "min_height": null,
            "min_width": null,
            "object_fit": null,
            "object_position": null,
            "order": null,
            "overflow": null,
            "overflow_x": null,
            "overflow_y": null,
            "padding": null,
            "right": null,
            "top": null,
            "visibility": null,
            "width": null
          }
        },
        "9c4dea561e9a45f18b77488e3a2c8c38": {
          "model_module": "@jupyter-widgets/base",
          "model_module_version": "1.2.0",
          "model_name": "LayoutModel",
          "state": {
            "_model_module": "@jupyter-widgets/base",
            "_model_module_version": "1.2.0",
            "_model_name": "LayoutModel",
            "_view_count": null,
            "_view_module": "@jupyter-widgets/base",
            "_view_module_version": "1.2.0",
            "_view_name": "LayoutView",
            "align_content": null,
            "align_items": null,
            "align_self": null,
            "border": null,
            "bottom": null,
            "display": null,
            "flex": null,
            "flex_flow": null,
            "grid_area": null,
            "grid_auto_columns": null,
            "grid_auto_flow": null,
            "grid_auto_rows": null,
            "grid_column": null,
            "grid_gap": null,
            "grid_row": null,
            "grid_template_areas": null,
            "grid_template_columns": null,
            "grid_template_rows": null,
            "height": null,
            "justify_content": null,
            "justify_items": null,
            "left": null,
            "margin": null,
            "max_height": null,
            "max_width": null,
            "min_height": null,
            "min_width": null,
            "object_fit": null,
            "object_position": null,
            "order": null,
            "overflow": null,
            "overflow_x": null,
            "overflow_y": null,
            "padding": null,
            "right": null,
            "top": null,
            "visibility": null,
            "width": null
          }
        },
        "9c794b66c71e419494985a23df365b3c": {
          "model_module": "@jupyter-widgets/controls",
          "model_module_version": "1.5.0",
          "model_name": "DescriptionStyleModel",
          "state": {
            "_model_module": "@jupyter-widgets/controls",
            "_model_module_version": "1.5.0",
            "_model_name": "DescriptionStyleModel",
            "_view_count": null,
            "_view_module": "@jupyter-widgets/base",
            "_view_module_version": "1.2.0",
            "_view_name": "StyleView",
            "description_width": ""
          }
        },
        "a3cc1264338346a2b09c00d193e6fff8": {
          "model_module": "@jupyter-widgets/controls",
          "model_module_version": "1.5.0",
          "model_name": "ProgressStyleModel",
          "state": {
            "_model_module": "@jupyter-widgets/controls",
            "_model_module_version": "1.5.0",
            "_model_name": "ProgressStyleModel",
            "_view_count": null,
            "_view_module": "@jupyter-widgets/base",
            "_view_module_version": "1.2.0",
            "_view_name": "StyleView",
            "bar_color": null,
            "description_width": ""
          }
        },
        "a6a6fc8a79ca4efca54e3aa635a0db16": {
          "model_module": "@jupyter-widgets/base",
          "model_module_version": "1.2.0",
          "model_name": "LayoutModel",
          "state": {
            "_model_module": "@jupyter-widgets/base",
            "_model_module_version": "1.2.0",
            "_model_name": "LayoutModel",
            "_view_count": null,
            "_view_module": "@jupyter-widgets/base",
            "_view_module_version": "1.2.0",
            "_view_name": "LayoutView",
            "align_content": null,
            "align_items": null,
            "align_self": null,
            "border": null,
            "bottom": null,
            "display": null,
            "flex": null,
            "flex_flow": null,
            "grid_area": null,
            "grid_auto_columns": null,
            "grid_auto_flow": null,
            "grid_auto_rows": null,
            "grid_column": null,
            "grid_gap": null,
            "grid_row": null,
            "grid_template_areas": null,
            "grid_template_columns": null,
            "grid_template_rows": null,
            "height": null,
            "justify_content": null,
            "justify_items": null,
            "left": null,
            "margin": null,
            "max_height": null,
            "max_width": null,
            "min_height": null,
            "min_width": null,
            "object_fit": null,
            "object_position": null,
            "order": null,
            "overflow": null,
            "overflow_x": null,
            "overflow_y": null,
            "padding": null,
            "right": null,
            "top": null,
            "visibility": null,
            "width": null
          }
        },
        "b288c1bf38d3494b975985f204b646e3": {
          "model_module": "@jupyter-widgets/base",
          "model_module_version": "1.2.0",
          "model_name": "LayoutModel",
          "state": {
            "_model_module": "@jupyter-widgets/base",
            "_model_module_version": "1.2.0",
            "_model_name": "LayoutModel",
            "_view_count": null,
            "_view_module": "@jupyter-widgets/base",
            "_view_module_version": "1.2.0",
            "_view_name": "LayoutView",
            "align_content": null,
            "align_items": null,
            "align_self": null,
            "border": null,
            "bottom": null,
            "display": null,
            "flex": null,
            "flex_flow": null,
            "grid_area": null,
            "grid_auto_columns": null,
            "grid_auto_flow": null,
            "grid_auto_rows": null,
            "grid_column": null,
            "grid_gap": null,
            "grid_row": null,
            "grid_template_areas": null,
            "grid_template_columns": null,
            "grid_template_rows": null,
            "height": null,
            "justify_content": null,
            "justify_items": null,
            "left": null,
            "margin": null,
            "max_height": null,
            "max_width": null,
            "min_height": null,
            "min_width": null,
            "object_fit": null,
            "object_position": null,
            "order": null,
            "overflow": null,
            "overflow_x": null,
            "overflow_y": null,
            "padding": null,
            "right": null,
            "top": null,
            "visibility": null,
            "width": null
          }
        },
        "b5843ae0eb13403780d7d5856e99cde9": {
          "model_module": "@jupyter-widgets/controls",
          "model_module_version": "1.5.0",
          "model_name": "HBoxModel",
          "state": {
            "_dom_classes": [],
            "_model_module": "@jupyter-widgets/controls",
            "_model_module_version": "1.5.0",
            "_model_name": "HBoxModel",
            "_view_count": null,
            "_view_module": "@jupyter-widgets/controls",
            "_view_module_version": "1.5.0",
            "_view_name": "HBoxView",
            "box_style": "",
            "children": [
              "IPY_MODEL_03eca2f571d74759b1453f03e28ee360",
              "IPY_MODEL_f08897fd22c6466fa3217ee5bd5e3a57",
              "IPY_MODEL_ea36dc4bc5014f9c852c34a2275337f0"
            ],
            "layout": "IPY_MODEL_4daebb75a50b4f52a2e15f333ca90609"
          }
        },
        "b5e951d4a051424d9c28ec4ac9a7ac57": {
          "model_module": "@jupyter-widgets/controls",
          "model_module_version": "1.5.0",
          "model_name": "ProgressStyleModel",
          "state": {
            "_model_module": "@jupyter-widgets/controls",
            "_model_module_version": "1.5.0",
            "_model_name": "ProgressStyleModel",
            "_view_count": null,
            "_view_module": "@jupyter-widgets/base",
            "_view_module_version": "1.2.0",
            "_view_name": "StyleView",
            "bar_color": null,
            "description_width": ""
          }
        },
        "b6833c3bbf5a4e9da2acafdc1c9829d8": {
          "model_module": "@jupyter-widgets/controls",
          "model_module_version": "1.5.0",
          "model_name": "DescriptionStyleModel",
          "state": {
            "_model_module": "@jupyter-widgets/controls",
            "_model_module_version": "1.5.0",
            "_model_name": "DescriptionStyleModel",
            "_view_count": null,
            "_view_module": "@jupyter-widgets/base",
            "_view_module_version": "1.2.0",
            "_view_name": "StyleView",
            "description_width": ""
          }
        },
        "ba78731b08e744e7a3fb8ef2f14635d6": {
          "model_module": "@jupyter-widgets/controls",
          "model_module_version": "1.5.0",
          "model_name": "DescriptionStyleModel",
          "state": {
            "_model_module": "@jupyter-widgets/controls",
            "_model_module_version": "1.5.0",
            "_model_name": "DescriptionStyleModel",
            "_view_count": null,
            "_view_module": "@jupyter-widgets/base",
            "_view_module_version": "1.2.0",
            "_view_name": "StyleView",
            "description_width": ""
          }
        },
        "bc5b7870cae843d18666503afd6aac69": {
          "model_module": "@jupyter-widgets/base",
          "model_module_version": "1.2.0",
          "model_name": "LayoutModel",
          "state": {
            "_model_module": "@jupyter-widgets/base",
            "_model_module_version": "1.2.0",
            "_model_name": "LayoutModel",
            "_view_count": null,
            "_view_module": "@jupyter-widgets/base",
            "_view_module_version": "1.2.0",
            "_view_name": "LayoutView",
            "align_content": null,
            "align_items": null,
            "align_self": null,
            "border": null,
            "bottom": null,
            "display": null,
            "flex": null,
            "flex_flow": null,
            "grid_area": null,
            "grid_auto_columns": null,
            "grid_auto_flow": null,
            "grid_auto_rows": null,
            "grid_column": null,
            "grid_gap": null,
            "grid_row": null,
            "grid_template_areas": null,
            "grid_template_columns": null,
            "grid_template_rows": null,
            "height": null,
            "justify_content": null,
            "justify_items": null,
            "left": null,
            "margin": null,
            "max_height": null,
            "max_width": null,
            "min_height": null,
            "min_width": null,
            "object_fit": null,
            "object_position": null,
            "order": null,
            "overflow": null,
            "overflow_x": null,
            "overflow_y": null,
            "padding": null,
            "right": null,
            "top": null,
            "visibility": null,
            "width": null
          }
        },
        "c1961a2b423647e7b9e5faa3edf75db0": {
          "model_module": "@jupyter-widgets/base",
          "model_module_version": "1.2.0",
          "model_name": "LayoutModel",
          "state": {
            "_model_module": "@jupyter-widgets/base",
            "_model_module_version": "1.2.0",
            "_model_name": "LayoutModel",
            "_view_count": null,
            "_view_module": "@jupyter-widgets/base",
            "_view_module_version": "1.2.0",
            "_view_name": "LayoutView",
            "align_content": null,
            "align_items": null,
            "align_self": null,
            "border": null,
            "bottom": null,
            "display": null,
            "flex": null,
            "flex_flow": null,
            "grid_area": null,
            "grid_auto_columns": null,
            "grid_auto_flow": null,
            "grid_auto_rows": null,
            "grid_column": null,
            "grid_gap": null,
            "grid_row": null,
            "grid_template_areas": null,
            "grid_template_columns": null,
            "grid_template_rows": null,
            "height": null,
            "justify_content": null,
            "justify_items": null,
            "left": null,
            "margin": null,
            "max_height": null,
            "max_width": null,
            "min_height": null,
            "min_width": null,
            "object_fit": null,
            "object_position": null,
            "order": null,
            "overflow": null,
            "overflow_x": null,
            "overflow_y": null,
            "padding": null,
            "right": null,
            "top": null,
            "visibility": null,
            "width": null
          }
        },
        "c42836171b794b7683f9613593128b16": {
          "model_module": "@jupyter-widgets/controls",
          "model_module_version": "1.5.0",
          "model_name": "HTMLModel",
          "state": {
            "_dom_classes": [],
            "_model_module": "@jupyter-widgets/controls",
            "_model_module_version": "1.5.0",
            "_model_name": "HTMLModel",
            "_view_count": null,
            "_view_module": "@jupyter-widgets/controls",
            "_view_module_version": "1.5.0",
            "_view_name": "HTMLView",
            "description": "",
            "description_tooltip": null,
            "layout": "IPY_MODEL_99b503702cfa4282b46d92d19cfc841f",
            "placeholder": "​",
            "style": "IPY_MODEL_7099cb7aa89f482e843d17ca5548f597",
            "value": " 440M/440M [00:04&lt;00:00, 161MB/s]"
          }
        },
        "c626d329a7894f85ab044ba5b746171d": {
          "model_module": "@jupyter-widgets/controls",
          "model_module_version": "1.5.0",
          "model_name": "HTMLModel",
          "state": {
            "_dom_classes": [],
            "_model_module": "@jupyter-widgets/controls",
            "_model_module_version": "1.5.0",
            "_model_name": "HTMLModel",
            "_view_count": null,
            "_view_module": "@jupyter-widgets/controls",
            "_view_module_version": "1.5.0",
            "_view_name": "HTMLView",
            "description": "",
            "description_tooltip": null,
            "layout": "IPY_MODEL_394e3053b6184980ad8b1cf9ac883870",
            "placeholder": "​",
            "style": "IPY_MODEL_f1eba7e9fc6d4fc892984c947cc2ec00",
            "value": "model.safetensors: 100%"
          }
        },
        "c65103ea708c4494b075f792ec7d2578": {
          "model_module": "@jupyter-widgets/controls",
          "model_module_version": "1.5.0",
          "model_name": "HTMLModel",
          "state": {
            "_dom_classes": [],
            "_model_module": "@jupyter-widgets/controls",
            "_model_module_version": "1.5.0",
            "_model_name": "HTMLModel",
            "_view_count": null,
            "_view_module": "@jupyter-widgets/controls",
            "_view_module_version": "1.5.0",
            "_view_name": "HTMLView",
            "description": "",
            "description_tooltip": null,
            "layout": "IPY_MODEL_c1961a2b423647e7b9e5faa3edf75db0",
            "placeholder": "​",
            "style": "IPY_MODEL_16350733c6ca4eff8611df6d6bcc00dd",
            "value": " 466k/466k [00:00&lt;00:00, 6.25MB/s]"
          }
        },
        "c9482ecfd4004fa9ac8602f782f249d6": {
          "model_module": "@jupyter-widgets/controls",
          "model_module_version": "1.5.0",
          "model_name": "FloatProgressModel",
          "state": {
            "_dom_classes": [],
            "_model_module": "@jupyter-widgets/controls",
            "_model_module_version": "1.5.0",
            "_model_name": "FloatProgressModel",
            "_view_count": null,
            "_view_module": "@jupyter-widgets/controls",
            "_view_module_version": "1.5.0",
            "_view_name": "ProgressView",
            "bar_style": "success",
            "description": "",
            "description_tooltip": null,
            "layout": "IPY_MODEL_694acd04ca7e4eb6b9f1ee5308ce1890",
            "max": 4203,
            "min": 0,
            "orientation": "horizontal",
            "style": "IPY_MODEL_98274506b9434f15a3046703f6316bc4",
            "value": 4203
          }
        },
        "c9cdd34643c24241b567a053bb2fd562": {
          "model_module": "@jupyter-widgets/controls",
          "model_module_version": "1.5.0",
          "model_name": "ProgressStyleModel",
          "state": {
            "_model_module": "@jupyter-widgets/controls",
            "_model_module_version": "1.5.0",
            "_model_name": "ProgressStyleModel",
            "_view_count": null,
            "_view_module": "@jupyter-widgets/base",
            "_view_module_version": "1.2.0",
            "_view_name": "StyleView",
            "bar_color": null,
            "description_width": ""
          }
        },
        "caa50f95551e4abd8bb8f910d3dcc542": {
          "model_module": "@jupyter-widgets/controls",
          "model_module_version": "1.5.0",
          "model_name": "DescriptionStyleModel",
          "state": {
            "_model_module": "@jupyter-widgets/controls",
            "_model_module_version": "1.5.0",
            "_model_name": "DescriptionStyleModel",
            "_view_count": null,
            "_view_module": "@jupyter-widgets/base",
            "_view_module_version": "1.2.0",
            "_view_name": "StyleView",
            "description_width": ""
          }
        },
        "cc3a62d71b984b40a89b0bdced53c44c": {
          "model_module": "@jupyter-widgets/controls",
          "model_module_version": "1.5.0",
          "model_name": "FloatProgressModel",
          "state": {
            "_dom_classes": [],
            "_model_module": "@jupyter-widgets/controls",
            "_model_module_version": "1.5.0",
            "_model_name": "FloatProgressModel",
            "_view_count": null,
            "_view_module": "@jupyter-widgets/controls",
            "_view_module_version": "1.5.0",
            "_view_name": "ProgressView",
            "bar_style": "success",
            "description": "",
            "description_tooltip": null,
            "layout": "IPY_MODEL_6fac132c8e774a4d9c59c0b66e380f5d",
            "max": 570,
            "min": 0,
            "orientation": "horizontal",
            "style": "IPY_MODEL_a3cc1264338346a2b09c00d193e6fff8",
            "value": 570
          }
        },
        "cd9098d89fab4e519290a90133c6e1cd": {
          "model_module": "@jupyter-widgets/base",
          "model_module_version": "1.2.0",
          "model_name": "LayoutModel",
          "state": {
            "_model_module": "@jupyter-widgets/base",
            "_model_module_version": "1.2.0",
            "_model_name": "LayoutModel",
            "_view_count": null,
            "_view_module": "@jupyter-widgets/base",
            "_view_module_version": "1.2.0",
            "_view_name": "LayoutView",
            "align_content": null,
            "align_items": null,
            "align_self": null,
            "border": null,
            "bottom": null,
            "display": null,
            "flex": null,
            "flex_flow": null,
            "grid_area": null,
            "grid_auto_columns": null,
            "grid_auto_flow": null,
            "grid_auto_rows": null,
            "grid_column": null,
            "grid_gap": null,
            "grid_row": null,
            "grid_template_areas": null,
            "grid_template_columns": null,
            "grid_template_rows": null,
            "height": null,
            "justify_content": null,
            "justify_items": null,
            "left": null,
            "margin": null,
            "max_height": null,
            "max_width": null,
            "min_height": null,
            "min_width": null,
            "object_fit": null,
            "object_position": null,
            "order": null,
            "overflow": null,
            "overflow_x": null,
            "overflow_y": null,
            "padding": null,
            "right": null,
            "top": null,
            "visibility": null,
            "width": null
          }
        },
        "cdfa0e4c66ab4d8995ec26bfc880ae04": {
          "model_module": "@jupyter-widgets/controls",
          "model_module_version": "1.5.0",
          "model_name": "DescriptionStyleModel",
          "state": {
            "_model_module": "@jupyter-widgets/controls",
            "_model_module_version": "1.5.0",
            "_model_name": "DescriptionStyleModel",
            "_view_count": null,
            "_view_module": "@jupyter-widgets/base",
            "_view_module_version": "1.2.0",
            "_view_name": "StyleView",
            "description_width": ""
          }
        },
        "d1ae726bcad24b579a39735109bdb4d5": {
          "model_module": "@jupyter-widgets/controls",
          "model_module_version": "1.5.0",
          "model_name": "DescriptionStyleModel",
          "state": {
            "_model_module": "@jupyter-widgets/controls",
            "_model_module_version": "1.5.0",
            "_model_name": "DescriptionStyleModel",
            "_view_count": null,
            "_view_module": "@jupyter-widgets/base",
            "_view_module_version": "1.2.0",
            "_view_name": "StyleView",
            "description_width": ""
          }
        },
        "d414285c2c164ee295122978b6fb160c": {
          "model_module": "@jupyter-widgets/controls",
          "model_module_version": "1.5.0",
          "model_name": "HTMLModel",
          "state": {
            "_dom_classes": [],
            "_model_module": "@jupyter-widgets/controls",
            "_model_module_version": "1.5.0",
            "_model_name": "HTMLModel",
            "_view_count": null,
            "_view_module": "@jupyter-widgets/controls",
            "_view_module_version": "1.5.0",
            "_view_name": "HTMLView",
            "description": "",
            "description_tooltip": null,
            "layout": "IPY_MODEL_1f7bff426453491b99c5627165929011",
            "placeholder": "​",
            "style": "IPY_MODEL_b6833c3bbf5a4e9da2acafdc1c9829d8",
            "value": "config.json: 100%"
          }
        },
        "d465ae1a0df44d85bc241da6a5810e0a": {
          "model_module": "@jupyter-widgets/controls",
          "model_module_version": "1.5.0",
          "model_name": "DescriptionStyleModel",
          "state": {
            "_model_module": "@jupyter-widgets/controls",
            "_model_module_version": "1.5.0",
            "_model_name": "DescriptionStyleModel",
            "_view_count": null,
            "_view_module": "@jupyter-widgets/base",
            "_view_module_version": "1.2.0",
            "_view_name": "StyleView",
            "description_width": ""
          }
        },
        "d579c0801d51437f808ecc022aa08597": {
          "model_module": "@jupyter-widgets/controls",
          "model_module_version": "1.5.0",
          "model_name": "HBoxModel",
          "state": {
            "_dom_classes": [],
            "_model_module": "@jupyter-widgets/controls",
            "_model_module_version": "1.5.0",
            "_model_name": "HBoxModel",
            "_view_count": null,
            "_view_module": "@jupyter-widgets/controls",
            "_view_module_version": "1.5.0",
            "_view_name": "HBoxView",
            "box_style": "",
            "children": [
              "IPY_MODEL_7f423470b4904dd1a01391f896dfd5d6",
              "IPY_MODEL_5120a915db65442893ffceb18b19c751",
              "IPY_MODEL_e3285409f724447ea8d24c5303f759ae"
            ],
            "layout": "IPY_MODEL_3bf1190a3fd8497d9344dd5240b4e57d"
          }
        },
        "dc6a773fa8a548bfbfe66f3036f165c0": {
          "model_module": "@jupyter-widgets/controls",
          "model_module_version": "1.5.0",
          "model_name": "DescriptionStyleModel",
          "state": {
            "_model_module": "@jupyter-widgets/controls",
            "_model_module_version": "1.5.0",
            "_model_name": "DescriptionStyleModel",
            "_view_count": null,
            "_view_module": "@jupyter-widgets/base",
            "_view_module_version": "1.2.0",
            "_view_name": "StyleView",
            "description_width": ""
          }
        },
        "dcd4877ccf2f4115b666f3c9e82a8c54": {
          "model_module": "@jupyter-widgets/base",
          "model_module_version": "1.2.0",
          "model_name": "LayoutModel",
          "state": {
            "_model_module": "@jupyter-widgets/base",
            "_model_module_version": "1.2.0",
            "_model_name": "LayoutModel",
            "_view_count": null,
            "_view_module": "@jupyter-widgets/base",
            "_view_module_version": "1.2.0",
            "_view_name": "LayoutView",
            "align_content": null,
            "align_items": null,
            "align_self": null,
            "border": null,
            "bottom": null,
            "display": null,
            "flex": null,
            "flex_flow": null,
            "grid_area": null,
            "grid_auto_columns": null,
            "grid_auto_flow": null,
            "grid_auto_rows": null,
            "grid_column": null,
            "grid_gap": null,
            "grid_row": null,
            "grid_template_areas": null,
            "grid_template_columns": null,
            "grid_template_rows": null,
            "height": null,
            "justify_content": null,
            "justify_items": null,
            "left": null,
            "margin": null,
            "max_height": null,
            "max_width": null,
            "min_height": null,
            "min_width": null,
            "object_fit": null,
            "object_position": null,
            "order": null,
            "overflow": null,
            "overflow_x": null,
            "overflow_y": null,
            "padding": null,
            "right": null,
            "top": null,
            "visibility": null,
            "width": null
          }
        },
        "dd0d83b72beb4ec1a383e52d8b9a39ec": {
          "model_module": "@jupyter-widgets/controls",
          "model_module_version": "1.5.0",
          "model_name": "DescriptionStyleModel",
          "state": {
            "_model_module": "@jupyter-widgets/controls",
            "_model_module_version": "1.5.0",
            "_model_name": "DescriptionStyleModel",
            "_view_count": null,
            "_view_module": "@jupyter-widgets/base",
            "_view_module_version": "1.2.0",
            "_view_name": "StyleView",
            "description_width": ""
          }
        },
        "e1d893a202ae491fb11ecb066723d87b": {
          "model_module": "@jupyter-widgets/controls",
          "model_module_version": "1.5.0",
          "model_name": "HBoxModel",
          "state": {
            "_dom_classes": [],
            "_model_module": "@jupyter-widgets/controls",
            "_model_module_version": "1.5.0",
            "_model_name": "HBoxModel",
            "_view_count": null,
            "_view_module": "@jupyter-widgets/controls",
            "_view_module_version": "1.5.0",
            "_view_name": "HBoxView",
            "box_style": "",
            "children": [
              "IPY_MODEL_77bfef19bc9448a19a61c9aa816686df",
              "IPY_MODEL_3e85747f79e3418db8dcdecb8ccc9e31",
              "IPY_MODEL_050e326df53f410b8030e85c138f0ddf"
            ],
            "layout": "IPY_MODEL_a6a6fc8a79ca4efca54e3aa635a0db16"
          }
        },
        "e3285409f724447ea8d24c5303f759ae": {
          "model_module": "@jupyter-widgets/controls",
          "model_module_version": "1.5.0",
          "model_name": "HTMLModel",
          "state": {
            "_dom_classes": [],
            "_model_module": "@jupyter-widgets/controls",
            "_model_module_version": "1.5.0",
            "_model_name": "HTMLModel",
            "_view_count": null,
            "_view_module": "@jupyter-widgets/controls",
            "_view_module_version": "1.5.0",
            "_view_name": "HTMLView",
            "description": "",
            "description_tooltip": null,
            "layout": "IPY_MODEL_27737dab270a42518eefb5ec03413425",
            "placeholder": "​",
            "style": "IPY_MODEL_9c794b66c71e419494985a23df365b3c",
            "value": " 1627/1627 [00:00&lt;00:00, 2377.11 examples/s]"
          }
        },
        "e98460d193cc4431abff6a1f68776b5e": {
          "model_module": "@jupyter-widgets/base",
          "model_module_version": "1.2.0",
          "model_name": "LayoutModel",
          "state": {
            "_model_module": "@jupyter-widgets/base",
            "_model_module_version": "1.2.0",
            "_model_name": "LayoutModel",
            "_view_count": null,
            "_view_module": "@jupyter-widgets/base",
            "_view_module_version": "1.2.0",
            "_view_name": "LayoutView",
            "align_content": null,
            "align_items": null,
            "align_self": null,
            "border": null,
            "bottom": null,
            "display": null,
            "flex": null,
            "flex_flow": null,
            "grid_area": null,
            "grid_auto_columns": null,
            "grid_auto_flow": null,
            "grid_auto_rows": null,
            "grid_column": null,
            "grid_gap": null,
            "grid_row": null,
            "grid_template_areas": null,
            "grid_template_columns": null,
            "grid_template_rows": null,
            "height": null,
            "justify_content": null,
            "justify_items": null,
            "left": null,
            "margin": null,
            "max_height": null,
            "max_width": null,
            "min_height": null,
            "min_width": null,
            "object_fit": null,
            "object_position": null,
            "order": null,
            "overflow": null,
            "overflow_x": null,
            "overflow_y": null,
            "padding": null,
            "right": null,
            "top": null,
            "visibility": null,
            "width": null
          }
        },
        "ea36dc4bc5014f9c852c34a2275337f0": {
          "model_module": "@jupyter-widgets/controls",
          "model_module_version": "1.5.0",
          "model_name": "HTMLModel",
          "state": {
            "_dom_classes": [],
            "_model_module": "@jupyter-widgets/controls",
            "_model_module_version": "1.5.0",
            "_model_name": "HTMLModel",
            "_view_count": null,
            "_view_module": "@jupyter-widgets/controls",
            "_view_module_version": "1.5.0",
            "_view_name": "HTMLView",
            "description": "",
            "description_tooltip": null,
            "layout": "IPY_MODEL_360ae5e4d031449681de6d5165c0cfe6",
            "placeholder": "​",
            "style": "IPY_MODEL_dd0d83b72beb4ec1a383e52d8b9a39ec",
            "value": " 2169/2169 [00:00&lt;00:00, 2469.57 examples/s]"
          }
        },
        "eb5cfe8520104bf79843ac0608b2fe0a": {
          "model_module": "@jupyter-widgets/controls",
          "model_module_version": "1.5.0",
          "model_name": "HBoxModel",
          "state": {
            "_dom_classes": [],
            "_model_module": "@jupyter-widgets/controls",
            "_model_module_version": "1.5.0",
            "_model_name": "HBoxModel",
            "_view_count": null,
            "_view_module": "@jupyter-widgets/controls",
            "_view_module_version": "1.5.0",
            "_view_name": "HBoxView",
            "box_style": "",
            "children": [
              "IPY_MODEL_2ab539e2c1894c9d93913a03700701e3",
              "IPY_MODEL_040e9974eb8b4ee287b6eb8ca4536b78",
              "IPY_MODEL_799c054bca4f4f35a65454e255096a4d"
            ],
            "layout": "IPY_MODEL_49f5db556509467cb64fa6fb0fb57cb3"
          }
        },
        "ebc84f172be540e498eab0ac92e98879": {
          "model_module": "@jupyter-widgets/base",
          "model_module_version": "1.2.0",
          "model_name": "LayoutModel",
          "state": {
            "_model_module": "@jupyter-widgets/base",
            "_model_module_version": "1.2.0",
            "_model_name": "LayoutModel",
            "_view_count": null,
            "_view_module": "@jupyter-widgets/base",
            "_view_module_version": "1.2.0",
            "_view_name": "LayoutView",
            "align_content": null,
            "align_items": null,
            "align_self": null,
            "border": null,
            "bottom": null,
            "display": null,
            "flex": null,
            "flex_flow": null,
            "grid_area": null,
            "grid_auto_columns": null,
            "grid_auto_flow": null,
            "grid_auto_rows": null,
            "grid_column": null,
            "grid_gap": null,
            "grid_row": null,
            "grid_template_areas": null,
            "grid_template_columns": null,
            "grid_template_rows": null,
            "height": null,
            "justify_content": null,
            "justify_items": null,
            "left": null,
            "margin": null,
            "max_height": null,
            "max_width": null,
            "min_height": null,
            "min_width": null,
            "object_fit": null,
            "object_position": null,
            "order": null,
            "overflow": null,
            "overflow_x": null,
            "overflow_y": null,
            "padding": null,
            "right": null,
            "top": null,
            "visibility": null,
            "width": null
          }
        },
        "ef5d2d6ad6804c4499ca15001c945eb6": {
          "model_module": "@jupyter-widgets/controls",
          "model_module_version": "1.5.0",
          "model_name": "HTMLModel",
          "state": {
            "_dom_classes": [],
            "_model_module": "@jupyter-widgets/controls",
            "_model_module_version": "1.5.0",
            "_model_name": "HTMLModel",
            "_view_count": null,
            "_view_module": "@jupyter-widgets/controls",
            "_view_module_version": "1.5.0",
            "_view_name": "HTMLView",
            "description": "",
            "description_tooltip": null,
            "layout": "IPY_MODEL_313bd6d39eef44b1a998bcea69cec16b",
            "placeholder": "​",
            "style": "IPY_MODEL_26c7c8a8544f4f0a9e0412b3bea5f5e5",
            "value": "Map: 100%"
          }
        },
        "f08897fd22c6466fa3217ee5bd5e3a57": {
          "model_module": "@jupyter-widgets/controls",
          "model_module_version": "1.5.0",
          "model_name": "FloatProgressModel",
          "state": {
            "_dom_classes": [],
            "_model_module": "@jupyter-widgets/controls",
            "_model_module_version": "1.5.0",
            "_model_name": "FloatProgressModel",
            "_view_count": null,
            "_view_module": "@jupyter-widgets/controls",
            "_view_module_version": "1.5.0",
            "_view_name": "ProgressView",
            "bar_style": "success",
            "description": "",
            "description_tooltip": null,
            "layout": "IPY_MODEL_8e154cbae8e540fba9ad5c3ff7f86514",
            "max": 2169,
            "min": 0,
            "orientation": "horizontal",
            "style": "IPY_MODEL_57ad49ce27e3403398e3256d9d9b8ca8",
            "value": 2169
          }
        },
        "f1eba7e9fc6d4fc892984c947cc2ec00": {
          "model_module": "@jupyter-widgets/controls",
          "model_module_version": "1.5.0",
          "model_name": "DescriptionStyleModel",
          "state": {
            "_model_module": "@jupyter-widgets/controls",
            "_model_module_version": "1.5.0",
            "_model_name": "DescriptionStyleModel",
            "_view_count": null,
            "_view_module": "@jupyter-widgets/base",
            "_view_module_version": "1.2.0",
            "_view_name": "StyleView",
            "description_width": ""
          }
        },
        "f9b6c024de4c4e5198d12d83a37ae755": {
          "model_module": "@jupyter-widgets/base",
          "model_module_version": "1.2.0",
          "model_name": "LayoutModel",
          "state": {
            "_model_module": "@jupyter-widgets/base",
            "_model_module_version": "1.2.0",
            "_model_name": "LayoutModel",
            "_view_count": null,
            "_view_module": "@jupyter-widgets/base",
            "_view_module_version": "1.2.0",
            "_view_name": "LayoutView",
            "align_content": null,
            "align_items": null,
            "align_self": null,
            "border": null,
            "bottom": null,
            "display": null,
            "flex": null,
            "flex_flow": null,
            "grid_area": null,
            "grid_auto_columns": null,
            "grid_auto_flow": null,
            "grid_auto_rows": null,
            "grid_column": null,
            "grid_gap": null,
            "grid_row": null,
            "grid_template_areas": null,
            "grid_template_columns": null,
            "grid_template_rows": null,
            "height": null,
            "justify_content": null,
            "justify_items": null,
            "left": null,
            "margin": null,
            "max_height": null,
            "max_width": null,
            "min_height": null,
            "min_width": null,
            "object_fit": null,
            "object_position": null,
            "order": null,
            "overflow": null,
            "overflow_x": null,
            "overflow_y": null,
            "padding": null,
            "right": null,
            "top": null,
            "visibility": null,
            "width": null
          }
        },
        "fa48b2a69f934782a8972b00a4dba8fc": {
          "model_module": "@jupyter-widgets/controls",
          "model_module_version": "1.5.0",
          "model_name": "HTMLModel",
          "state": {
            "_dom_classes": [],
            "_model_module": "@jupyter-widgets/controls",
            "_model_module_version": "1.5.0",
            "_model_name": "HTMLModel",
            "_view_count": null,
            "_view_module": "@jupyter-widgets/controls",
            "_view_module_version": "1.5.0",
            "_view_name": "HTMLView",
            "description": "",
            "description_tooltip": null,
            "layout": "IPY_MODEL_fd8f0c3b6f9944dfa21fb1613a839538",
            "placeholder": "​",
            "style": "IPY_MODEL_6d2948debccd4ca9841a0a1175120f65",
            "value": " 4.20k/4.20k [00:00&lt;00:00, 158kB/s]"
          }
        },
        "fd8f0c3b6f9944dfa21fb1613a839538": {
          "model_module": "@jupyter-widgets/base",
          "model_module_version": "1.2.0",
          "model_name": "LayoutModel",
          "state": {
            "_model_module": "@jupyter-widgets/base",
            "_model_module_version": "1.2.0",
            "_model_name": "LayoutModel",
            "_view_count": null,
            "_view_module": "@jupyter-widgets/base",
            "_view_module_version": "1.2.0",
            "_view_name": "LayoutView",
            "align_content": null,
            "align_items": null,
            "align_self": null,
            "border": null,
            "bottom": null,
            "display": null,
            "flex": null,
            "flex_flow": null,
            "grid_area": null,
            "grid_auto_columns": null,
            "grid_auto_flow": null,
            "grid_auto_rows": null,
            "grid_column": null,
            "grid_gap": null,
            "grid_row": null,
            "grid_template_areas": null,
            "grid_template_columns": null,
            "grid_template_rows": null,
            "height": null,
            "justify_content": null,
            "justify_items": null,
            "left": null,
            "margin": null,
            "max_height": null,
            "max_width": null,
            "min_height": null,
            "min_width": null,
            "object_fit": null,
            "object_position": null,
            "order": null,
            "overflow": null,
            "overflow_x": null,
            "overflow_y": null,
            "padding": null,
            "right": null,
            "top": null,
            "visibility": null,
            "width": null
          }
        }
      }
    }
  },
  "nbformat": 4,
  "nbformat_minor": 0
}
