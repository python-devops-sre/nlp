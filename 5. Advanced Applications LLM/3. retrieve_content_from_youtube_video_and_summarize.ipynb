{
  "cells": [
    {
      "attachments": {},
      "cell_type": "markdown",
      "metadata": {
        "id": "UMqBL77hMXP2"
      },
      "source": [
        "# Retrieve content from a YouTube video and summarize\n",
        "\n",
        "<a target=\"_blank\" href=\"https://colab.research.google.com/github/PacktPublishing/Mastering-NLP-from-Foundations-to-LLMs/blob/liors_branch/Chapter9_notebooks/Ch9_Retrieve_Content_from_a_YouTube_Video_and_Summarize.ipynb\">\n",
        "  <img src=\"https://colab.research.google.com/assets/colab-badge.svg\" alt=\"Open In Colab\"/>\n",
        "</a>"
      ]
    },
    {
      "attachments": {},
      "cell_type": "markdown",
      "metadata": {
        "id": "dA3qEn5YlzJc"
      },
      "source": [
        "**The purpose of this notebook:**  \n",
        "Pick a Youtube video that you'd like to summarize and edit to your liking without having to spend the time to watch it.  \n",
        "In this notebook we picked one of the popular Ted Talks, summarized it, translated it to German, edited it in the form of bullet points and presented it.  \n",
        "\n",
        "**Requirements:**  \n",
        "* When running in Colab, use this runtime notebook setting: `Python 3, CPU`  \n",
        "* This code picks OpenAI's API as a choice of LLM, so a paid **API key** is necessary.   "
      ]
    },
    {
      "attachments": {},
      "cell_type": "markdown",
      "metadata": {
        "id": "-VQE9nGwDaiG"
      },
      "source": [
        "Install:"
      ]
    },
    {
      "cell_type": "code",
      "execution_count": 1,
      "metadata": {
        "colab": {
          "base_uri": "https://localhost:8080/"
        },
        "id": "qtqSnCgwDDCg",
        "outputId": "56494042-b1e8-4895-9f01-fddc3965fcad"
      },
      "outputs": [],
      "source": [
        "# REMARK:\n",
        "# If the below code error's out due to a Python package discrepency, it may be because new versions are causing it.\n",
        "# In which case, set \"default_installations\" to False to revert to the original image:\n",
        "default_installations = True\n",
        "if default_installations:\n",
        "    !pip -q install --upgrade embedchain\n",
        "    !pip -q install pytube\n",
        "    !pip -q install openai\n",
        "    !pip -q install youtube-transcript-api\n",
        "else:\n",
        "    import requests\n",
        "    text_file_path = \"youtube_summarize.txt\"\n",
        "    url = \"https://raw.githubusercontent.com/python-devops-sre/nlp/master/requirements/\" + text_file_path\n",
        "    res = requests.get(url)\n",
        "    with open(text_file_path, \"w\") as f:\n",
        "      f.write(res.text)\n",
        "      \n",
        "    !pip install -r youtube_summarize.txt"
      ]
    },
    {
      "attachments": {},
      "cell_type": "markdown",
      "metadata": {
        "id": "DrrlU4QqDmxl"
      },
      "source": [
        "Imports:"
      ]
    },
    {
      "cell_type": "code",
      "execution_count": 2,
      "metadata": {
        "id": "ohPMkz4zDqxz"
      },
      "outputs": [],
      "source": [
        "import os\n",
        "import textwrap\n",
        "import pandas as pd\n",
        "import json\n",
        "\n",
        "from embedchain import App\n",
        "# from embedchain.config import ChromaDbConfig"
      ]
    },
    {
      "attachments": {},
      "cell_type": "markdown",
      "metadata": {
        "id": "P5b97pOrkkzL"
      },
      "source": [
        "### Code Settings"
      ]
    },
    {
      "attachments": {},
      "cell_type": "markdown",
      "metadata": {
        "id": "lPpqKBtA5jtM"
      },
      "source": [
        "Define OpenAI's API key:  \n",
        "**You must provide a key and paste it as a string!**  "
      ]
    },
    {
      "cell_type": "code",
      "execution_count": 3,
      "metadata": {
        "id": "liMCXQENatS1"
      },
      "outputs": [],
      "source": [
        "os.environ[\"OPENAI_API_KEY\"] = \"...\""
      ]
    },
    {
      "attachments": {},
      "cell_type": "markdown",
      "metadata": {
        "id": "r05xV4w8rekj"
      },
      "source": [
        "Setting up configurations for choice of embedding LLM and prompting LLM:"
      ]
    },
    {
      "cell_type": "code",
      "execution_count": 4,
      "metadata": {
        "id": "rZczMmTarWPA"
      },
      "outputs": [],
      "source": [
        "models_config = {\n",
        "    \"llm\": {\n",
        "        \"provider\": \"openai\",\n",
        "        \"config\": {\n",
        "            \"model\": \"gpt-3.5-turbo\",\n",
        "            \"temperature\": 0.5,\n",
        "            \"max_tokens\": 1000,\n",
        "            \"top_p\": 1,\n",
        "            \"stream\": False\n",
        "        }\n",
        "    },\n",
        "    \"embedder\": {\n",
        "        \"provider\": \"openai\",\n",
        "        \"config\": {\n",
        "            \"model\": \"text-embedding-ada-002\"\n",
        "        }\n",
        "    }\n",
        "}"
      ]
    },
    {
      "attachments": {},
      "cell_type": "markdown",
      "metadata": {
        "id": "c-lR8B_Us4FT"
      },
      "source": [
        "#### Pick the Youtube Video and Insert its URL"
      ]
    },
    {
      "cell_type": "code",
      "execution_count": 5,
      "metadata": {
        "id": "Y1LSH25XnbVA"
      },
      "outputs": [],
      "source": [
        "video_url = \"https://www.youtube.com/watch?v=8KkKuTCFvzI&ab_channel=TED\""
      ]
    },
    {
      "attachments": {},
      "cell_type": "markdown",
      "metadata": {
        "id": "ceba85uTtghq"
      },
      "source": [
        "### Set Up the Retrieval Mechanism"
      ]
    },
    {
      "cell_type": "code",
      "execution_count": 6,
      "metadata": {
        "colab": {
          "base_uri": "https://localhost:8080/",
          "height": 91
        },
        "id": "w6CLvivFnbXt",
        "outputId": "19f2e00c-8031-42ed-9e13-3beca73f32c7"
      },
      "outputs": [
        {
          "name": "stderr",
          "output_type": "stream",
          "text": [
            "Inserting batches in chromadb:   0%|          | 0/1 [00:00<?, ?it/s]\n"
          ]
        },
        {
          "data": {
            "text/plain": [
              "'6d9ce5a14285fef40a8afb5268a273ef'"
            ]
          },
          "execution_count": 6,
          "metadata": {},
          "output_type": "execute_result"
        }
      ],
      "source": [
        "lecture_RAG = App().from_config(config=models_config)\n",
        "lecture_RAG.reset()\n",
        "lecture_RAG.add(data_type=\"youtube_video\", source=video_url)"
      ]
    },
    {
      "attachments": {},
      "cell_type": "markdown",
      "metadata": {
        "id": "p6SFc344mBjj"
      },
      "source": [
        "### Observe the raw document\n",
        "In our example we only gave the RAG a single document to use as context.  \n",
        "Let's obesrve the first 1000 characters.  "
      ]
    },
    {
      "cell_type": "code",
      "execution_count": null,
      "metadata": {
        "colab": {
          "base_uri": "https://localhost:8080/",
          "height": 123
        },
        "id": "q9wepr7OmBuA",
        "outputId": "49844ceb-5d31-4b36-fc68-ccb25a63cd44"
      },
      "outputs": [],
      "source": [
        "lecture_RAG.db.get()['documents'][0][:1000]"
      ]
    },
    {
      "attachments": {},
      "cell_type": "markdown",
      "metadata": {
        "id": "dp7q88ydmqOo"
      },
      "source": [
        "## Review, summarize, and translate"
      ]
    },
    {
      "cell_type": "code",
      "execution_count": null,
      "metadata": {
        "colab": {
          "base_uri": "https://localhost:8080/"
        },
        "id": "3S4sLH1NnbaU",
        "outputId": "0c78a52d-20fd-4eec-91bc-eac3e74132e5"
      },
      "outputs": [],
      "source": [
        "original_answer = lecture_RAG.query(\"\"\"Please review the entire content, summarize it to the length of 4 sentence, then translate it to Russian and to German.\n",
        "Make sure the summary is consistent with the content.\n",
        "Put the string '\\n----\\n' between the English part of the answer and the Russian part.\n",
        "Put the string '\\n****\\n' between the Russian part of the answer and the German part.\"\"\")\n",
        "\n",
        "print(textwrap.fill(original_answer, width=50, replace_whitespace=True).replace(\"\\\\n \", \"\\n\\n\").replace(\"----\", \"\\n\\nRussian:\\n\").replace(\"****\", \"\\n\\nGerman:\\n\"))"
      ]
    },
    {
      "cell_type": "code",
      "execution_count": null,
      "metadata": {
        "colab": {
          "base_uri": "https://localhost:8080/"
        },
        "id": "TYMW2pItnbcj",
        "outputId": "34d04581-b4a7-402e-aa10-6e3647c68c1e"
      },
      "outputs": [],
      "source": [
        "print(lecture_RAG.query(f\"This is the response from the previous prompt: <{original_answer}> Now take the German response and edit it into 3-5 bullet points. Provide just the German bullet points.\"))"
      ]
    }
  ],
  "metadata": {
    "colab": {
      "provenance": []
    },
    "kernelspec": {
      "display_name": "Python 3",
      "name": "python3"
    },
    "language_info": {
      "codemirror_mode": {
        "name": "ipython",
        "version": 3
      },
      "file_extension": ".py",
      "mimetype": "text/x-python",
      "name": "python",
      "nbconvert_exporter": "python",
      "pygments_lexer": "ipython3",
      "version": "3.12.4"
    }
  },
  "nbformat": 4,
  "nbformat_minor": 0
}
